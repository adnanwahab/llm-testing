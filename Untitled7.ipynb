{
 "cells": [
  {
   "cell_type": "code",
   "execution_count": 3,
   "id": "9d161bd5",
   "metadata": {},
   "outputs": [],
   "source": [
    "#make functions for datasets that dont yet exist\n",
    "\n",
    "\n",
    "_ = []\n",
    "#present cool ideas for shit to do\n",
    "#where to plant trees\n",
    "#which places have the furthest distance from tree\n",
    "#satellite imagery\n",
    "def makeSomethingThatPeopleWantToUseThatsNeverBeenPossible():\n",
    "    return 10"
   ]
  },
  {
   "cell_type": "code",
   "execution_count": null,
   "id": "43314edc",
   "metadata": {},
   "outputs": [],
   "source": [
    "#coding serves everyone\n",
    "\n",
    "\n",
    "# import random\n",
    "# #ngrok\n",
    "# from flask import Flask, request  # import main Flask class and request object\n",
    "# import random\n",
    "# app1 = Flask(__name__)  # create the Flask app\n",
    "# @app1.route('/status', methods=['GET'])\n",
    "# def a_live():\n",
    "#     return \"Alive!\"\n",
    "# @app1.route('/predict', methods=['GET'])\n",
    "# def predict():\n",
    "#     demo=random.randint(2000, 5000)    \n",
    "#     return str(demo)\n",
    "# app1.run(port=5000)  # run app in debug mode on port 5000\n",
    "# # how would 1 billion people message each other simultaneously - telepathy may in fact solve this -> qualia->save to to disk\n",
    "# # one community\n",
    "# # 3-5 topics a day\n",
    "# # topics stay relevant as long ast they get votes\n",
    "# # pass\n",
    "# # add comment threads - no firebase\n",
    "# # how would you get traction -> have to send it to right people -> offer tons of free shit \n",
    "# # good security - traceless \n",
    "# # inner loop - how discussion changes -> what is the consensus in the community about how to solve a problem?? \n",
    "# # 3-5 topics -> each has 3-5 top threads\n",
    "# # make it fun somehow https://freefrontend.com/css-carousels/ -> filter lots of stuff  \n",
    "\n",
    "# # use LLM to merge comments -> already been said - might be fun part -> train on whether dicussion makes someone happy\n",
    "# # hover to upvote\n",
    "# # what do people want to discuss? \n",
    "\n",
    "\n",
    "# #be ready to make 2-3 demos -> 2-3 days see which will stick\n",
    "# #media server search by text\n",
    "# #cooperation.party -> one conversation -> rolling window \n",
    "# #https://threejs.org/examples/#webgl_modifier_curve_instanced\n",
    "# #use LLM very well -"
   ]
  }
 ],
 "metadata": {
  "kernelspec": {
   "display_name": "Python 3 (ipykernel)",
   "language": "python",
   "name": "python3"
  },
  "language_info": {
   "codemirror_mode": {
    "name": "ipython",
    "version": 3
   },
   "file_extension": ".py",
   "mimetype": "text/x-python",
   "name": "python",
   "nbconvert_exporter": "python",
   "pygments_lexer": "ipython3",
   "version": "3.10.12"
  }
 },
 "nbformat": 4,
 "nbformat_minor": 5
}
