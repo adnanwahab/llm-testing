{
 "cells": [
  {
   "cell_type": "code",
   "execution_count": 130,
   "id": "8d4fddc2",
   "metadata": {},
   "outputs": [],
   "source": [
    "import warnings\n",
    "import pandas \n",
    "pandas.set_option('mode.use_inf_as_na', True)\n",
    "\n",
    "warnings.filterwarnings(\"ignore\")\n",
    "warnings.simplefilter(\"ignore\")\n",
    "\n",
    "# This is required to catch warnings when the multiprocessing module is used\n",
    "import os\n",
    "\n",
    "os.environ[\"PYTHONWARNINGS\"] = \"ignore\"\n",
    "# import pertpy as pt\n",
    "import scanpy as sc\n",
    "\n",
    "import pertpy as pt\n",
    "adata = pt.dt.kang_2018()"
   ]
  },
  {
   "cell_type": "code",
   "execution_count": 6,
   "id": "30af6126",
   "metadata": {},
   "outputs": [],
   "source": [
    "# adata.var_keys."
   ]
  },
  {
   "cell_type": "code",
   "execution_count": 7,
   "id": "7ecb19f1",
   "metadata": {},
   "outputs": [],
   "source": [
    "# result = []\n",
    "# json = []\n",
    "# for row in adata.obs.values:\n",
    "#     result.append([item for kev, item in enumerate(row) ])\n",
    "# for row in result: json.append({k: v for k, v in zip(adata.obs.columns.tolist(), row)})\n",
    "\n",
    "# print(json)\n",
    "#adata.var.highly_variable.keys"
   ]
  },
  {
   "cell_type": "code",
   "execution_count": 8,
   "id": "0603158c",
   "metadata": {},
   "outputs": [
    {
     "data": {
      "text/html": [
       "<div>\n",
       "<style scoped>\n",
       "    .dataframe tbody tr th:only-of-type {\n",
       "        vertical-align: middle;\n",
       "    }\n",
       "\n",
       "    .dataframe tbody tr th {\n",
       "        vertical-align: top;\n",
       "    }\n",
       "\n",
       "    .dataframe thead th {\n",
       "        text-align: right;\n",
       "    }\n",
       "</style>\n",
       "<table border=\"1\" class=\"dataframe\">\n",
       "  <thead>\n",
       "    <tr style=\"text-align: right;\">\n",
       "      <th></th>\n",
       "      <th>name</th>\n",
       "    </tr>\n",
       "    <tr>\n",
       "      <th>index</th>\n",
       "      <th></th>\n",
       "    </tr>\n",
       "  </thead>\n",
       "  <tbody>\n",
       "    <tr>\n",
       "      <th>AL627309.1</th>\n",
       "      <td>AL627309.1</td>\n",
       "    </tr>\n",
       "    <tr>\n",
       "      <th>RP11-206L10.2</th>\n",
       "      <td>RP11-206L10.2</td>\n",
       "    </tr>\n",
       "    <tr>\n",
       "      <th>RP11-206L10.9</th>\n",
       "      <td>RP11-206L10.9</td>\n",
       "    </tr>\n",
       "    <tr>\n",
       "      <th>FAM87B</th>\n",
       "      <td>FAM87B</td>\n",
       "    </tr>\n",
       "    <tr>\n",
       "      <th>LINC00115</th>\n",
       "      <td>LINC00115</td>\n",
       "    </tr>\n",
       "    <tr>\n",
       "      <th>...</th>\n",
       "      <td>...</td>\n",
       "    </tr>\n",
       "    <tr>\n",
       "      <th>C21orf58</th>\n",
       "      <td>C21orf58</td>\n",
       "    </tr>\n",
       "    <tr>\n",
       "      <th>PCNT</th>\n",
       "      <td>PCNT</td>\n",
       "    </tr>\n",
       "    <tr>\n",
       "      <th>DIP2A</th>\n",
       "      <td>DIP2A</td>\n",
       "    </tr>\n",
       "    <tr>\n",
       "      <th>S100B</th>\n",
       "      <td>S100B</td>\n",
       "    </tr>\n",
       "    <tr>\n",
       "      <th>PRMT2</th>\n",
       "      <td>PRMT2</td>\n",
       "    </tr>\n",
       "  </tbody>\n",
       "</table>\n",
       "<p>15706 rows × 1 columns</p>\n",
       "</div>"
      ],
      "text/plain": [
       "                        name\n",
       "index                       \n",
       "AL627309.1        AL627309.1\n",
       "RP11-206L10.2  RP11-206L10.2\n",
       "RP11-206L10.9  RP11-206L10.9\n",
       "FAM87B                FAM87B\n",
       "LINC00115          LINC00115\n",
       "...                      ...\n",
       "C21orf58            C21orf58\n",
       "PCNT                    PCNT\n",
       "DIP2A                  DIP2A\n",
       "S100B                  S100B\n",
       "PRMT2                  PRMT2\n",
       "\n",
       "[15706 rows x 1 columns]"
      ]
     },
     "execution_count": 8,
     "metadata": {},
     "output_type": "execute_result"
    }
   ],
   "source": [
    "adata.var"
   ]
  },
  {
   "cell_type": "code",
   "execution_count": null,
   "id": "3706cc91",
   "metadata": {},
   "outputs": [],
   "source": []
  },
  {
   "cell_type": "code",
   "execution_count": 77,
   "id": "ce738036",
   "metadata": {},
   "outputs": [
    {
     "name": "stdout",
     "output_type": "stream",
     "text": [
      "WARNING: adata.X seems to be already log-transformed.\n"
     ]
    }
   ],
   "source": [
    "\n",
    "sc.pp.log1p(adata)\n",
    "sc.pp.highly_variable_genes(adata)\n",
    "\n",
    "#hv_genes = filtered_keys = df[df['column_name'] == True].index.tolist()\n",
    "\n",
    "#normal_genes = filtered_keys = df[df['column_name'] == False].index.tolist()\n",
    "\n",
    "#print(hv_genes, normal_genes)\n",
    "hv_genes = (list(adata.var[adata.var['highly_variable'] == True].index))\n",
    "genes = (list(adata.var_names))\n",
    "\n",
    "hv_columns = [i for i,val in enumerate(genes) if val in hv_genes]\n",
    "#hv_genes"
   ]
  },
  {
   "cell_type": "code",
   "execution_count": null,
   "id": "3adac277",
   "metadata": {},
   "outputs": [],
   "source": [
    "len(hv_columns)"
   ]
  },
  {
   "cell_type": "code",
   "execution_count": null,
   "id": "f7b54fa6",
   "metadata": {},
   "outputs": [],
   "source": [
    "highly_variable_columns = []\n",
    "\n",
    "\n",
    "for key, gene in enumerate(normal_genes):\n",
    "    if gene in hv_genes:\n",
    "        highly_variable_columns += key"
   ]
  },
  {
   "cell_type": "code",
   "execution_count": null,
   "id": "cf8f3dca",
   "metadata": {},
   "outputs": [],
   "source": [
    "highly_variable_columns\n",
    "print(hv_genes, normal_genes)"
   ]
  },
  {
   "cell_type": "code",
   "execution_count": null,
   "id": "34d0f49c",
   "metadata": {},
   "outputs": [],
   "source": [
    "#preprocess\n",
    "#batchcontrol\n",
    "adata"
   ]
  },
  {
   "cell_type": "code",
   "execution_count": null,
   "id": "5024bce0",
   "metadata": {},
   "outputs": [],
   "source": [
    "#clustering\n",
    "#cell type annotation\n",
    "#embedding\n",
    "#reverse transcriptome\n",
    "#differential expression\n",
    "\n",
    "#rna velocity -> predicts the future state \n",
    "#predict the probability of unseen perturbations\n",
    "#test: first data set => output list of perturbations \n",
    "# take a 2nd dataset and get list of perturbations + their probability \n",
    "\n",
    "\n",
    "#representation learning (in particular, self-supervised, multi-view, and transfer learning\n",
    "#https://registry.opendata.aws/tabula-muris/#usageexamples\n",
    "\n",
    "#see what preprocessing is needed to get better accuracy\n",
    "\n",
    "##load data\n",
    "\n",
    "##import premade model => output list of predicted unseen perturbation\n",
    "\n",
    "#write custom model. get better accuracy"
   ]
  },
  {
   "cell_type": "code",
   "execution_count": 11,
   "id": "819836d4",
   "metadata": {},
   "outputs": [
    {
     "data": {
      "text/plain": [
       "5"
      ]
     },
     "execution_count": 11,
     "metadata": {},
     "output_type": "execute_result"
    }
   ],
   "source": [
    "sc.pp.calculate_qc_metrics(adata)\n",
    "5"
   ]
  },
  {
   "cell_type": "code",
   "execution_count": 12,
   "id": "c17792b3",
   "metadata": {},
   "outputs": [],
   "source": [
    "import requests\n",
    "import time\n",
    "from multiprocessing import cpu_count\n",
    "from multiprocessing.pool import ThreadPool\n",
    "\n",
    "def download_parallel(args):\n",
    "    cpus = cpu_count()\n",
    "    results = ThreadPool(cpus - 1).imap_unordered(download_url, args)\n",
    "    for result in results:\n",
    "        print('url:', result[0], 'time (s):', result[1])"
   ]
  },
  {
   "cell_type": "code",
   "execution_count": 13,
   "id": "23a91c7f",
   "metadata": {},
   "outputs": [],
   "source": [
    "import numpy as np\n",
    "import torch\n",
    "from torch.utils.data import Dataset, DataLoader"
   ]
  },
  {
   "cell_type": "code",
   "execution_count": 52,
   "id": "619d5e80",
   "metadata": {},
   "outputs": [],
   "source": [
    "# gene_expressed = [\"string1\", \"string2\", \"string3\"]\n",
    "\n",
    "    \n",
    "# strings = np.array(gene_expressed)\n",
    "# #adata.obs['genes_expressed'] = strings\n",
    "# coordinates = []\n",
    "cx = adata.X\n",
    "cx = cx.tocoo()\n",
    "\n",
    "# #delete non highly variable genes from matrix\n",
    "\n",
    "\n",
    "# for i,j,v in zip(cx.row, cx.col, cx.data):\n",
    "#     if i in hv_columns: coordinates += [[i,j,v]]\n",
    "# for coord in coordinates:\n",
    "#     coord[1] = adata.var_names[coord[1]]\n",
    "\n",
    "#print(coordinates)"
   ]
  },
  {
   "cell_type": "code",
   "execution_count": 78,
   "id": "5aeafc5a",
   "metadata": {},
   "outputs": [],
   "source": [
    "# rowGeneExpression = {}\n",
    "\n",
    "# for coordinate in coordinates:\n",
    "#     row = coordinate[0]\n",
    "#     gene = coordinate[1]\n",
    "#     pvalue = coordinate[2]\n",
    "#     if not row in rowGeneExpression:\n",
    "#         rowGeneExpression[row] = 0\n",
    "#     if gene in hv_genes: rowGeneExpression[row] += pvalue\n",
    "# print(rowGeneExpression)"
   ]
  },
  {
   "cell_type": "code",
   "execution_count": 79,
   "id": "63084b66",
   "metadata": {},
   "outputs": [],
   "source": [
    "# hv_genes"
   ]
  },
  {
   "cell_type": "code",
   "execution_count": 133,
   "id": "522c23bb",
   "metadata": {},
   "outputs": [
    {
     "data": {
      "text/plain": [
       "[10,\n",
       " 12,\n",
       " 16,\n",
       " 17,\n",
       " 44,\n",
       " 116,\n",
       " 122,\n",
       " 129,\n",
       " 192,\n",
       " 234,\n",
       " 243,\n",
       " 254,\n",
       " 273,\n",
       " 303,\n",
       " 305,\n",
       " 314,\n",
       " 324,\n",
       " 363,\n",
       " 421,\n",
       " 521,\n",
       " 610,\n",
       " 638,\n",
       " 665,\n",
       " 676,\n",
       " 678,\n",
       " 714,\n",
       " 715,\n",
       " 719,\n",
       " 749,\n",
       " 845,\n",
       " 858,\n",
       " 883,\n",
       " 929,\n",
       " 975,\n",
       " 979,\n",
       " 985,\n",
       " 1042,\n",
       " 1043,\n",
       " 1046,\n",
       " 1047,\n",
       " 1048,\n",
       " 1051,\n",
       " 1069,\n",
       " 1116,\n",
       " 1124,\n",
       " 1125,\n",
       " 1140,\n",
       " 1146,\n",
       " 1163,\n",
       " 1166,\n",
       " 1179,\n",
       " 1188,\n",
       " 1189,\n",
       " 1192,\n",
       " 1193,\n",
       " 1211,\n",
       " 1217,\n",
       " 1219,\n",
       " 1250,\n",
       " 1282,\n",
       " 1294,\n",
       " 1297,\n",
       " 1311,\n",
       " 1323,\n",
       " 1326,\n",
       " 1330,\n",
       " 1332,\n",
       " 1336,\n",
       " 1351,\n",
       " 1353,\n",
       " 1364,\n",
       " 1443,\n",
       " 1459,\n",
       " 1477,\n",
       " 1502,\n",
       " 1589,\n",
       " 1604,\n",
       " 1615,\n",
       " 1616,\n",
       " 1670,\n",
       " 1671,\n",
       " 1676,\n",
       " 1711,\n",
       " 1833,\n",
       " 1837,\n",
       " 1841,\n",
       " 1887,\n",
       " 1908,\n",
       " 1913,\n",
       " 1958,\n",
       " 1967,\n",
       " 1970,\n",
       " 1987,\n",
       " 2046,\n",
       " 2052,\n",
       " 2056,\n",
       " 2061,\n",
       " 2076,\n",
       " 2077,\n",
       " 2078,\n",
       " 2079,\n",
       " 2097,\n",
       " 2149,\n",
       " 2172,\n",
       " 2186,\n",
       " 2204,\n",
       " 2208,\n",
       " 2242,\n",
       " 2284,\n",
       " 2286,\n",
       " 2290,\n",
       " 2302,\n",
       " 2310,\n",
       " 2334,\n",
       " 2335,\n",
       " 2345,\n",
       " 2352,\n",
       " 2447,\n",
       " 2461,\n",
       " 2495,\n",
       " 2509,\n",
       " 2563,\n",
       " 2575,\n",
       " 2589,\n",
       " 2618,\n",
       " 2628,\n",
       " 2662,\n",
       " 2683,\n",
       " 2686,\n",
       " 2692,\n",
       " 2715,\n",
       " 2827,\n",
       " 2923,\n",
       " 2926,\n",
       " 2927,\n",
       " 2978,\n",
       " 3018,\n",
       " 3065,\n",
       " 3144,\n",
       " 3162,\n",
       " 3172,\n",
       " 3206,\n",
       " 3219,\n",
       " 3239,\n",
       " 3242,\n",
       " 3243,\n",
       " 3278,\n",
       " 3282,\n",
       " 3356,\n",
       " 3367,\n",
       " 3390,\n",
       " 3409,\n",
       " 3430,\n",
       " 3453,\n",
       " 3459,\n",
       " 3460,\n",
       " 3485,\n",
       " 3530,\n",
       " 3534,\n",
       " 3613,\n",
       " 3691,\n",
       " 3692,\n",
       " 3696,\n",
       " 3740,\n",
       " 3791,\n",
       " 3794,\n",
       " 3799,\n",
       " 3809,\n",
       " 3822,\n",
       " 3825,\n",
       " 3826,\n",
       " 3827,\n",
       " 3829,\n",
       " 3830,\n",
       " 3832,\n",
       " 3846,\n",
       " 3847,\n",
       " 3849,\n",
       " 3878,\n",
       " 3881,\n",
       " 3885,\n",
       " 3888,\n",
       " 3910,\n",
       " 3927,\n",
       " 3933,\n",
       " 3934,\n",
       " 3937,\n",
       " 3957,\n",
       " 3974,\n",
       " 3992,\n",
       " 4016,\n",
       " 4036,\n",
       " 4062,\n",
       " 4077,\n",
       " 4092,\n",
       " 4141,\n",
       " 4142,\n",
       " 4147,\n",
       " 4208,\n",
       " 4284,\n",
       " 4285,\n",
       " 4300,\n",
       " 4319,\n",
       " 4387,\n",
       " 4415,\n",
       " 4422,\n",
       " 4443,\n",
       " 4578,\n",
       " 4605,\n",
       " 4619,\n",
       " 4673,\n",
       " 4689,\n",
       " 4703,\n",
       " 4721,\n",
       " 4743,\n",
       " 4783,\n",
       " 4816,\n",
       " 4843,\n",
       " 4845,\n",
       " 4848,\n",
       " 4854,\n",
       " 4896,\n",
       " 4899,\n",
       " 4901,\n",
       " 4909,\n",
       " 4915,\n",
       " 4923,\n",
       " 4936,\n",
       " 4954,\n",
       " 4957,\n",
       " 4958,\n",
       " 5055,\n",
       " 5073,\n",
       " 5074,\n",
       " 5075,\n",
       " 5077,\n",
       " 5090,\n",
       " 5096,\n",
       " 5097,\n",
       " 5119,\n",
       " 5120,\n",
       " 5121,\n",
       " 5122,\n",
       " 5123,\n",
       " 5132,\n",
       " 5133,\n",
       " 5136,\n",
       " 5137,\n",
       " 5194,\n",
       " 5223,\n",
       " 5296,\n",
       " 5339,\n",
       " 5346,\n",
       " 5368,\n",
       " 5427,\n",
       " 5477,\n",
       " 5487,\n",
       " 5504,\n",
       " 5509,\n",
       " 5542,\n",
       " 5563,\n",
       " 5573,\n",
       " 5588,\n",
       " 5594,\n",
       " 5653,\n",
       " 5654,\n",
       " 5676,\n",
       " 5707,\n",
       " 5719,\n",
       " 5741,\n",
       " 5779,\n",
       " 5814,\n",
       " 5831,\n",
       " 5886,\n",
       " 5910,\n",
       " 5983,\n",
       " 5994,\n",
       " 6001,\n",
       " 6003,\n",
       " 6010,\n",
       " 6048,\n",
       " 6051,\n",
       " 6068,\n",
       " 6108,\n",
       " 6198,\n",
       " 6313,\n",
       " 6334,\n",
       " 6364,\n",
       " 6397,\n",
       " 6415,\n",
       " 6444,\n",
       " 6463,\n",
       " 6481,\n",
       " 6483,\n",
       " 6491,\n",
       " 6492,\n",
       " 6499,\n",
       " 6525,\n",
       " 6538,\n",
       " 6539,\n",
       " 6558,\n",
       " 6562,\n",
       " 6650,\n",
       " 6683,\n",
       " 6703,\n",
       " 6726,\n",
       " 6762,\n",
       " 6764,\n",
       " 6875,\n",
       " 6891,\n",
       " 6900,\n",
       " 6922,\n",
       " 6924,\n",
       " 6943,\n",
       " 6948,\n",
       " 6957,\n",
       " 6967,\n",
       " 6969,\n",
       " 6998,\n",
       " 7000,\n",
       " 7002,\n",
       " 7014,\n",
       " 7027,\n",
       " 7033,\n",
       " 7054,\n",
       " 7071,\n",
       " 7100,\n",
       " 7116,\n",
       " 7125,\n",
       " 7126,\n",
       " 7170,\n",
       " 7173,\n",
       " 7198,\n",
       " 7210,\n",
       " 7216,\n",
       " 7248,\n",
       " 7270,\n",
       " 7279,\n",
       " 7341,\n",
       " 7343,\n",
       " 7351,\n",
       " 7417,\n",
       " 7449,\n",
       " 7480,\n",
       " 7502,\n",
       " 7538,\n",
       " 7638,\n",
       " 7672,\n",
       " 7677,\n",
       " 7698,\n",
       " 7744,\n",
       " 7764,\n",
       " 7780,\n",
       " 7800,\n",
       " 7821,\n",
       " 7832,\n",
       " 7834,\n",
       " 7861,\n",
       " 7882,\n",
       " 7992,\n",
       " 8032,\n",
       " 8067,\n",
       " 8077,\n",
       " 8100,\n",
       " 8135,\n",
       " 8146,\n",
       " 8183,\n",
       " 8239,\n",
       " 8245,\n",
       " 8290,\n",
       " 8292,\n",
       " 8309,\n",
       " 8315,\n",
       " 8320,\n",
       " 8369,\n",
       " 8400,\n",
       " 8407,\n",
       " 8408,\n",
       " 8410,\n",
       " 8431,\n",
       " 8442,\n",
       " 8444,\n",
       " 8448,\n",
       " 8504,\n",
       " 8550,\n",
       " 8590,\n",
       " 8626,\n",
       " 8661,\n",
       " 8683,\n",
       " 8692,\n",
       " 8704,\n",
       " 8709,\n",
       " 8719,\n",
       " 8733,\n",
       " 8779,\n",
       " 8909,\n",
       " 8929,\n",
       " 8944,\n",
       " 8953,\n",
       " 8954,\n",
       " 8955,\n",
       " 8957,\n",
       " 8984,\n",
       " 9022,\n",
       " 9034,\n",
       " 9041,\n",
       " 9082,\n",
       " 9089,\n",
       " 9109,\n",
       " 9223,\n",
       " 9304,\n",
       " 9305,\n",
       " 9307,\n",
       " 9322,\n",
       " 9361,\n",
       " 9412,\n",
       " 9458,\n",
       " 9541,\n",
       " 9562,\n",
       " 9568,\n",
       " 9573,\n",
       " 9587,\n",
       " 9588,\n",
       " 9600,\n",
       " 9613,\n",
       " 9618,\n",
       " 9620,\n",
       " 9626,\n",
       " 9632,\n",
       " 9637,\n",
       " 9641,\n",
       " 9645,\n",
       " 9650,\n",
       " 9653,\n",
       " 9659,\n",
       " 9661,\n",
       " 9669,\n",
       " 9684,\n",
       " 9687,\n",
       " 9702,\n",
       " 9730,\n",
       " 9769,\n",
       " 9781,\n",
       " 9850,\n",
       " 9904,\n",
       " 9915,\n",
       " 9935,\n",
       " 9946,\n",
       " 10017,\n",
       " 10032,\n",
       " 10034,\n",
       " 10059,\n",
       " 10076,\n",
       " 10079,\n",
       " 10080,\n",
       " 10108,\n",
       " 10130,\n",
       " 10138,\n",
       " 10144,\n",
       " 10148,\n",
       " 10151,\n",
       " 10153,\n",
       " 10170,\n",
       " 10199,\n",
       " 10206,\n",
       " 10218,\n",
       " 10230,\n",
       " 10231,\n",
       " 10273,\n",
       " 10275,\n",
       " 10424,\n",
       " 10426,\n",
       " 10437,\n",
       " 10470,\n",
       " 10484,\n",
       " 10495,\n",
       " 10496,\n",
       " 10536,\n",
       " 10541,\n",
       " 10570,\n",
       " 10587,\n",
       " 10590,\n",
       " 10628,\n",
       " 10650,\n",
       " 10701,\n",
       " 10712,\n",
       " 10713,\n",
       " 10799,\n",
       " 10816,\n",
       " 10817,\n",
       " 10821,\n",
       " 10944,\n",
       " 10960,\n",
       " 10964,\n",
       " 10983,\n",
       " 11025,\n",
       " 11038,\n",
       " 11041,\n",
       " 11054,\n",
       " 11077,\n",
       " 11099,\n",
       " 11102,\n",
       " 11193,\n",
       " 11214,\n",
       " 11276,\n",
       " 11285,\n",
       " 11340,\n",
       " 11350,\n",
       " 11359,\n",
       " 11383,\n",
       " 11502,\n",
       " 11509,\n",
       " 11537,\n",
       " 11548,\n",
       " 11549,\n",
       " 11560,\n",
       " 11622,\n",
       " 11623,\n",
       " 11687,\n",
       " 11736,\n",
       " 11803,\n",
       " 11868,\n",
       " 11912,\n",
       " 11920,\n",
       " 11921,\n",
       " 12083,\n",
       " 12203,\n",
       " 12285,\n",
       " 12289,\n",
       " 12293,\n",
       " 12304,\n",
       " 12323,\n",
       " 12382,\n",
       " 12432,\n",
       " 12434,\n",
       " 12459,\n",
       " 12487,\n",
       " 12512,\n",
       " 12656,\n",
       " 12683,\n",
       " 12715,\n",
       " 12736,\n",
       " 12737,\n",
       " 12738,\n",
       " 12765,\n",
       " 12771,\n",
       " 12772,\n",
       " 12775,\n",
       " 12837,\n",
       " 12856,\n",
       " 12913,\n",
       " 12914,\n",
       " 12988,\n",
       " 12991,\n",
       " 13024,\n",
       " 13107,\n",
       " 13135,\n",
       " 13165,\n",
       " 13167,\n",
       " 13183,\n",
       " 13203,\n",
       " 13224,\n",
       " 13244,\n",
       " 13259,\n",
       " 13324,\n",
       " 13377,\n",
       " 13389,\n",
       " 13412,\n",
       " 13479,\n",
       " 13512,\n",
       " 13529,\n",
       " 13543,\n",
       " 13624,\n",
       " 13692,\n",
       " 13694,\n",
       " 13699,\n",
       " 13713,\n",
       " 13740,\n",
       " 13774,\n",
       " 13797,\n",
       " 13813,\n",
       " 13814,\n",
       " 13839,\n",
       " 13842,\n",
       " 13867,\n",
       " 13868,\n",
       " 13882,\n",
       " 13909,\n",
       " 13966,\n",
       " 13987,\n",
       " 14037,\n",
       " 14043,\n",
       " 14056,\n",
       " 14073,\n",
       " 14084,\n",
       " 14140,\n",
       " 14160,\n",
       " 14162,\n",
       " 14215,\n",
       " 14257,\n",
       " 14335,\n",
       " 14354,\n",
       " 14362,\n",
       " 14406,\n",
       " 14415,\n",
       " 14558,\n",
       " 14560,\n",
       " 14669,\n",
       " 14698,\n",
       " 14703,\n",
       " 14729,\n",
       " 14759,\n",
       " 14781,\n",
       " 14802,\n",
       " 14819,\n",
       " 14840,\n",
       " 14860,\n",
       " 14865,\n",
       " 14881,\n",
       " 14890,\n",
       " 14902,\n",
       " 14904,\n",
       " 14931,\n",
       " 14941,\n",
       " 14943,\n",
       " 14982,\n",
       " 14993,\n",
       " 15000,\n",
       " 15001,\n",
       " 15002,\n",
       " 15005,\n",
       " 15013,\n",
       " 15014,\n",
       " 15016,\n",
       " 15023,\n",
       " 15144,\n",
       " 15148,\n",
       " 15203,\n",
       " 15212,\n",
       " 15282,\n",
       " 15293,\n",
       " 15315,\n",
       " 15325,\n",
       " 15331,\n",
       " 15353,\n",
       " 15356,\n",
       " 15386,\n",
       " 15387,\n",
       " 15466,\n",
       " 15490,\n",
       " 15499,\n",
       " 15518,\n",
       " 15545,\n",
       " 15560,\n",
       " 15587,\n",
       " 15606,\n",
       " 15659,\n",
       " 15660,\n",
       " 15681]"
      ]
     },
     "execution_count": 133,
     "metadata": {},
     "output_type": "execute_result"
    }
   ],
   "source": [
    "hv_columns"
   ]
  },
  {
   "cell_type": "code",
   "execution_count": null,
   "id": "e04c40b7",
   "metadata": {},
   "outputs": [],
   "source": [
    "from collections import defaultdict\n",
    "rowGeneExpression = defaultdict(int)\n",
    "rowGeneExpression2 = defaultdict(list)\n",
    "\n",
    "\n",
    "import math\n",
    "math.floor\n",
    "for column in hv_columns[:10]:\n",
    "    for row_id in range(math.floor(float(df.shape[0]) / 2.)):\n",
    "        rowGeneExpression[row_id] += adata.X[row_id, column]\n",
    "        rowGeneExpression2[row_id] += adata.X[row_id, column]\n",
    "rowGeneExpression2"
   ]
  },
  {
   "cell_type": "code",
   "execution_count": 91,
   "id": "37853254",
   "metadata": {},
   "outputs": [],
   "source": [
    "df = adata.obs\n",
    "dependent_variables =  [rowGeneExpression[row] for row in range(df.shape[0])]\n",
    "df['geneExpressionCount'] = dependent_variables\n",
    "numerical_values = df.select_dtypes(include=[int, float]).values.tolist()\n"
   ]
  },
  {
   "cell_type": "code",
   "execution_count": 92,
   "id": "9aa9e33d",
   "metadata": {},
   "outputs": [],
   "source": [
    "import torch.optim as optim\n",
    "\n",
    "\n",
    "criterion = torch.nn.CrossEntropyLoss()\n",
    "#optimizer = optim.SGD(net.parameters(), lr=0.001, momentum=0.9)\n"
   ]
  },
  {
   "cell_type": "code",
   "execution_count": 93,
   "id": "01957362",
   "metadata": {},
   "outputs": [],
   "source": [
    "from torch import tensor\n",
    "\n",
    "t_dep = tensor(dependent_variables) # pertrubations\n"
   ]
  },
  {
   "cell_type": "code",
   "execution_count": 94,
   "id": "17156f0f",
   "metadata": {},
   "outputs": [
    {
     "data": {
      "text/plain": [
       "tensor([[  3017.0000,    877.0000,    -27.6404,     14.9666,      9.0000,   1704.0000,    711.0000,      0.0000],\n",
       "        [  2481.0000,    713.0000,    -27.4936,     28.9249,      9.0000,   1614.0000,    662.0000,      0.5266],\n",
       "        [   703.0000,    337.0000,    -10.4682,     -5.9844,      3.0000,    908.0000,    337.0000,      0.0000],\n",
       "        [  3420.0000,    850.0000,    -24.3680,     20.4293,      9.0000,   1738.0000,    653.0000,      0.5266],\n",
       "        [  3158.0000,   1111.0000,     27.9522,     24.1597,      4.0000,   1857.0000,    928.0000,      2.3243],\n",
       "        [  1869.0000,    635.0000,     -0.4702,    -25.3987,      5.0000,   1525.0000,    634.0000,      0.5266],\n",
       "        [  1142.0000,    436.0000,    -15.9062,     20.0853,      9.0000,   1157.0000,    436.0000,      0.0000],\n",
       "        ...,\n",
       "        [   635.0000,    424.0000,     -6.6479,     -5.5475,      3.0000,    882.0000,    423.0000,      0.0000],\n",
       "        [  1340.0000,    480.0000,      7.7202,     33.3402,      8.0000,   1324.0000,    480.0000,      0.0000],\n",
       "        [  1033.0000,    468.0000,     18.2683,      1.0582,      6.0000,   1128.0000,    468.0000,      0.0000],\n",
       "        [  2116.0000,    819.0000,    -11.5631,      2.5741,      4.0000,   1669.0000,    799.0000,      0.0000],\n",
       "        [  1522.0000,    523.0000,     25.1424,      6.6038,      6.0000,   1422.0000,    523.0000,      0.0000],\n",
       "        [  1143.0000,    503.0000,     14.3597,     10.9656,      6.0000,   1185.0000,    503.0000,      0.0000],\n",
       "        [  1031.0000,    421.0000,     14.5721,     -4.7139,      5.0000,   1144.0000,    419.0000,      0.0000]])"
      ]
     },
     "execution_count": 94,
     "metadata": {},
     "output_type": "execute_result"
    }
   ],
   "source": [
    "t_indep = tensor(numerical_values, dtype=torch.float)\n",
    "t_indep"
   ]
  },
  {
   "cell_type": "code",
   "execution_count": 95,
   "id": "9294b33e",
   "metadata": {},
   "outputs": [
    {
     "data": {
      "text/plain": [
       "8"
      ]
     },
     "execution_count": 95,
     "metadata": {},
     "output_type": "execute_result"
    }
   ],
   "source": [
    "t_indep.shape[1]"
   ]
  },
  {
   "cell_type": "code",
   "execution_count": 96,
   "id": "6564bf50",
   "metadata": {},
   "outputs": [
    {
     "data": {
      "text/plain": [
       "tensor([-0.4256, -0.2000,  0.3981,  0.1186, -0.4704, -0.4822,  0.2264,  0.3808])"
      ]
     },
     "execution_count": 96,
     "metadata": {},
     "output_type": "execute_result"
    }
   ],
   "source": [
    "\n",
    "n_coeff = t_indep.shape[1]\n",
    "coeffs = torch.rand(n_coeff)-0.5\n",
    "coeffs"
   ]
  },
  {
   "cell_type": "code",
   "execution_count": 97,
   "id": "88297088",
   "metadata": {},
   "outputs": [],
   "source": [
    "def acc(coeffs): return (val_dep.bool()==(calc_preds(coeffs, val_indep)>0.1)).float().mean()\n",
    "def calc_preds(coeffs, indeps): return (indeps*coeffs).sum(axis=1)\n",
    "def calc_loss(coeffs, indeps, deps): return torch.abs(calc_preds(coeffs, indeps)-deps).mean()"
   ]
  },
  {
   "cell_type": "code",
   "execution_count": 129,
   "id": "5dfdf216",
   "metadata": {},
   "outputs": [
    {
     "data": {
      "text/plain": [
       "tensor(0.2441, dtype=torch.float64)"
      ]
     },
     "execution_count": 129,
     "metadata": {},
     "output_type": "execute_result"
    }
   ],
   "source": [
    "preds = (t_indep*coeffs).sum(axis=1)\n",
    "loss = torch.abs(preds-t_dep).mean()\n",
    "loss = calc_loss(coeffs, t_indep, t_dep)\n",
    "\n",
    "loss = torch.abs(preds-t_dep).mean()\n",
    "loss"
   ]
  },
  {
   "cell_type": "code",
   "execution_count": 99,
   "id": "bab45dde",
   "metadata": {},
   "outputs": [],
   "source": [
    "import torch, numpy as np, pandas as pd\n",
    "np.set_printoptions(linewidth=140)\n",
    "torch.set_printoptions(linewidth=140, sci_mode=False, edgeitems=7)\n",
    "pd.set_option('display.width', 140)"
   ]
  },
  {
   "cell_type": "code",
   "execution_count": 100,
   "id": "955bcb18",
   "metadata": {},
   "outputs": [],
   "source": [
    "vals,indices = t_indep.max(dim=0)\n",
    "t_indep = t_indep / vals"
   ]
  },
  {
   "cell_type": "code",
   "execution_count": 101,
   "id": "2926f2b8",
   "metadata": {},
   "outputs": [
    {
     "data": {
      "text/plain": [
       "tensor([[-0.1087, -0.0636, -0.2505,  0.0413, -0.4233, -0.2728,  0.1135,  0.0000],\n",
       "        [-0.0894, -0.0517, -0.2492,  0.0798, -0.4233, -0.2584,  0.1057,  0.0405],\n",
       "        [-0.0253, -0.0244, -0.0949, -0.0165, -0.1411, -0.1454,  0.0538,  0.0000],\n",
       "        [-0.1232, -0.0617, -0.2209,  0.0564, -0.4233, -0.2782,  0.1043,  0.0405],\n",
       "        [-0.1137, -0.0806,  0.2534,  0.0667, -0.1881, -0.2973,  0.1482,  0.1787],\n",
       "        [-0.0673, -0.0461, -0.0043, -0.0701, -0.2352, -0.2441,  0.1012,  0.0405],\n",
       "        [-0.0411, -0.0316, -0.1442,  0.0554, -0.4233, -0.1852,  0.0696,  0.0000],\n",
       "        ...,\n",
       "        [-0.0229, -0.0308, -0.0603, -0.0153, -0.1411, -0.1412,  0.0675,  0.0000],\n",
       "        [-0.0483, -0.0348,  0.0700,  0.0920, -0.3763, -0.2120,  0.0766,  0.0000],\n",
       "        [-0.0372, -0.0339,  0.1656,  0.0029, -0.2822, -0.1806,  0.0747,  0.0000],\n",
       "        [-0.0762, -0.0594, -0.1048,  0.0071, -0.1881, -0.2672,  0.1276,  0.0000],\n",
       "        [-0.0548, -0.0379,  0.2279,  0.0182, -0.2822, -0.2277,  0.0835,  0.0000],\n",
       "        [-0.0412, -0.0365,  0.1302,  0.0303, -0.2822, -0.1897,  0.0803,  0.0000],\n",
       "        [-0.0371, -0.0305,  0.1321, -0.0130, -0.2352, -0.1831,  0.0669,  0.0000]])"
      ]
     },
     "execution_count": 101,
     "metadata": {},
     "output_type": "execute_result"
    }
   ],
   "source": [
    "t_indep*coeffs"
   ]
  },
  {
   "cell_type": "code",
   "execution_count": 102,
   "id": "8fc0dfb8",
   "metadata": {},
   "outputs": [],
   "source": [
    "t_indep = t_indep / vals"
   ]
  },
  {
   "cell_type": "code",
   "execution_count": 103,
   "id": "25fea016",
   "metadata": {},
   "outputs": [
    {
     "data": {
      "text/plain": [
       "tensor([-0.4256, -0.2000,  0.3981,  0.1186, -0.4704, -0.4822,  0.2264,  0.3808], requires_grad=True)"
      ]
     },
     "execution_count": 103,
     "metadata": {},
     "output_type": "execute_result"
    }
   ],
   "source": [
    "coeffs.requires_grad_()\n"
   ]
  },
  {
   "cell_type": "code",
   "execution_count": 104,
   "id": "6c5c1597",
   "metadata": {},
   "outputs": [],
   "source": [
    "loss = calc_loss(coeffs, t_indep, t_dep)\n",
    "\n",
    "loss.backward()"
   ]
  },
  {
   "cell_type": "code",
   "execution_count": 136,
   "id": "31babe26",
   "metadata": {},
   "outputs": [
    {
     "data": {
      "text/plain": [
       "tensor([0., 0., 0., 0., 0., 0., 0., 0.])"
      ]
     },
     "execution_count": 136,
     "metadata": {},
     "output_type": "execute_result"
    }
   ],
   "source": [
    "coeffs.grad"
   ]
  },
  {
   "cell_type": "code",
   "execution_count": 137,
   "id": "f4407bcb",
   "metadata": {},
   "outputs": [],
   "source": [
    "#dependent_variables"
   ]
  },
  {
   "cell_type": "code",
   "execution_count": 107,
   "id": "7f25fe0f",
   "metadata": {},
   "outputs": [],
   "source": [
    "independent_variables = pd.DataFrame(numerical_values)"
   ]
  },
  {
   "cell_type": "code",
   "execution_count": 108,
   "id": "f6d67306",
   "metadata": {},
   "outputs": [],
   "source": [
    "from fastai.data.transforms import RandomSplitter\n",
    "trn_split,val_split=RandomSplitter(seed=42)(independent_variables)"
   ]
  },
  {
   "cell_type": "code",
   "execution_count": 109,
   "id": "42738fc9",
   "metadata": {},
   "outputs": [
    {
     "data": {
      "text/plain": [
       "(19739, 4934)"
      ]
     },
     "execution_count": 109,
     "metadata": {},
     "output_type": "execute_result"
    }
   ],
   "source": [
    "trn_indep,val_indep = t_indep[trn_split],t_indep[val_split]\n",
    "trn_dep,val_dep = t_dep[trn_split],t_dep[val_split]\n",
    "#len(trn_indep),len(val_indep)"
   ]
  },
  {
   "cell_type": "code",
   "execution_count": 110,
   "id": "1034ada7",
   "metadata": {},
   "outputs": [],
   "source": [
    "def update_coeffs(coeffs, lr):\n",
    "    coeffs.sub_(coeffs.grad * lr)\n",
    "    coeffs.grad.zero_()"
   ]
  },
  {
   "cell_type": "code",
   "execution_count": 111,
   "id": "04dbc171",
   "metadata": {},
   "outputs": [],
   "source": [
    "def one_epoch(coeffs, lr):\n",
    "    loss = calc_loss(coeffs, trn_indep, trn_dep)\n",
    "    loss.backward()\n",
    "    with torch.no_grad(): update_coeffs(coeffs, lr)\n",
    "    print(f\"{loss:.3f}\", end=\"; \")"
   ]
  },
  {
   "cell_type": "code",
   "execution_count": 112,
   "id": "8b06960b",
   "metadata": {},
   "outputs": [],
   "source": [
    "def init_coeffs(): return (torch.rand(n_coeff)-0.5).requires_grad_()"
   ]
  },
  {
   "cell_type": "code",
   "execution_count": 113,
   "id": "e0499927",
   "metadata": {},
   "outputs": [],
   "source": [
    "def train_model(epochs=30, lr=0.01):\n",
    "    coeffs = init_coeffs()\n",
    "    for i in range(epochs): one_epoch(coeffs, lr=lr)\n",
    "    return coeffs"
   ]
  },
  {
   "cell_type": "code",
   "execution_count": 114,
   "id": "14ce99b2",
   "metadata": {},
   "outputs": [
    {
     "name": "stdout",
     "output_type": "stream",
     "text": [
      "0.260; 0.259; 0.258; 0.257; 0.257; 0.256; 0.255; 0.254; 0.253; 0.252; 0.251; 0.251; 0.250; 0.249; 0.248; 0.247; 0.246; 0.246; "
     ]
    }
   ],
   "source": [
    "coeffs = train_model(18, lr=0.2)"
   ]
  },
  {
   "cell_type": "code",
   "execution_count": 115,
   "id": "c6a6df33",
   "metadata": {},
   "outputs": [
    {
     "data": {
      "text/plain": [
       "{'nCount_RNA': tensor(-0.2832),\n",
       " 'nFeature_RNA': tensor(0.1566),\n",
       " 'tsne1': tensor(-0.3719),\n",
       " 'tsne2': tensor(-0.1477),\n",
       " 'cluster': tensor(-0.2016),\n",
       " 'nCount_SCT': tensor(-0.2953),\n",
       " 'nFeature_SCT': tensor(-0.0597),\n",
       " 'geneExpressionCount': tensor(-0.3067)}"
      ]
     },
     "execution_count": 115,
     "metadata": {},
     "output_type": "execute_result"
    }
   ],
   "source": [
    "indep_cols = ['nCount_RNA' ,                \n",
    "'nFeature_RNA'    ,             \n",
    "'tsne1'     ,                 \n",
    "'tsne2'  ,                   \n",
    "'cluster'    ,                  \n",
    "'nCount_SCT'   ,              \n",
    "'nFeature_SCT',\n",
    "'geneExpressionCount'\n",
    "]    \n",
    "def show_coeffs(): return dict(zip(indep_cols, coeffs.requires_grad_(False)))\n",
    "show_coeffs()"
   ]
  },
  {
   "cell_type": "code",
   "execution_count": 127,
   "id": "7a2135c9",
   "metadata": {},
   "outputs": [
    {
     "data": {
      "text/plain": [
       "tensor([0.4965, 0.4946, 0.4991, 0.4946, 0.4889, 0.4964, 0.4958,  ..., 0.4989, 0.4949, 0.4961, 0.4985, 0.4956, 0.4961, 0.4969])"
      ]
     },
     "execution_count": 127,
     "metadata": {},
     "output_type": "execute_result"
    }
   ],
   "source": [
    "def calc_preds(coeffs, indeps): return (indeps*coeffs).sum(axis=1)\n",
    "def calc_preds(coeffs, indeps): return torch.sigmoid(indeps@coeffs)\n",
    "\n",
    "calc_preds(coeffs, t_indep)"
   ]
  },
  {
   "cell_type": "code",
   "execution_count": 135,
   "id": "07fb39e7",
   "metadata": {},
   "outputs": [
    {
     "data": {
      "text/plain": [
       "24673"
      ]
     },
     "execution_count": 135,
     "metadata": {},
     "output_type": "execute_result"
    }
   ],
   "source": []
  },
  {
   "cell_type": "code",
   "execution_count": 128,
   "id": "90b26225",
   "metadata": {},
   "outputs": [
    {
     "data": {
      "text/plain": [
       "239"
      ]
     },
     "execution_count": 128,
     "metadata": {},
     "output_type": "execute_result"
    }
   ],
   "source": [
    "len([prob for prob in calc_preds(coeffs, t_indep) if prob > .5]) # should be 5000"
   ]
  },
  {
   "cell_type": "code",
   "execution_count": 139,
   "id": "e22a96b2",
   "metadata": {},
   "outputs": [
    {
     "data": {
      "text/plain": [
       "tensor(0.2592)"
      ]
     },
     "execution_count": 139,
     "metadata": {},
     "output_type": "execute_result"
    }
   ],
   "source": [
    "\n",
    "acc(coeffs) \n",
    "\n",
    "##\n",
    "# predictions = tf.nn.sigmoid(predictions)\n",
    "# predictions = tf.where(predictions < 0.5, 0, 1)\n",
    "\n",
    "# print('Predictions:\\n', predictions.numpy())\n",
    "# print('Labels:\\n', label_batch)\n",
    "\n",
    "# pass in a h5ad file and get back \n",
    "#Predictions:\n",
    "# [0 0 0 0 0 1 1 1 0 0 0 1 0 1 0 0 1 0 1 0 0 0 0 0 1 1 0 1 1 1 0 0]\n",
    "# Perturbations:\n",
    "# [0 0 0 0 0 1 1 1 0 0 0 1 0 1 0 0 1 0 1 0 0 0 0 0 1 0 0 1 1 1 0 0]"
   ]
  },
  {
   "cell_type": "code",
   "execution_count": 132,
   "id": "5e952744",
   "metadata": {},
   "outputs": [],
   "source": [
    "!pip install --quiet hyperopt\n",
    "!pip install --quiet \"ray[tune]\"\n",
    "!pip install --quiet scvi-colab\n",
    "from scvi_colab import install\n",
    "\n",
    "install()\n",
    "\n",
    "\n",
    "import ray\n",
    "import scanpy as sc\n",
    "import scvi\n",
    "from ray import tune\n",
    "from scvi import autotune"
   ]
  },
  {
   "cell_type": "code",
   "execution_count": 118,
   "id": "385450cb",
   "metadata": {},
   "outputs": [],
   "source": [
    "def benchmarkResults():\n",
    "    pass"
   ]
  },
  {
   "cell_type": "code",
   "execution_count": 119,
   "id": "7a58542a",
   "metadata": {},
   "outputs": [],
   "source": [
    "import scgen\n",
    "adata.obs.rename({\"label\": \"condition\"}, axis=1, inplace=True)\n",
    "adata.obs[\"condition\"].replace({\"ctrl\": \"control\", \"stim\": \"stimulated\"}, inplace=True)\n",
    "\n",
    "\n",
    "\n",
    "\n",
    "\n",
    "\n",
    "# adata_t = adata[\n",
    "#     ~(\n",
    "#         (adata.obs[\"cell_type\"] == \"CD4 T cells\")\n",
    "#         & (adata.obs[\"condition\"] == \"stimulated\")\n",
    "#     )\n",
    "# ].copy()\n",
    "\n",
    "# cd4t_stim = adata[\n",
    "#     (\n",
    "#         (adata.obs[\"cell_type\"] == \"CD4 T cells\")\n",
    "#         & (adata.obs[\"condition\"] == \"stimulated\")\n",
    "#     )\n",
    "# ].copy()\n",
    "\n",
    "\n",
    "\n",
    "\n",
    "\n",
    "\n",
    "\n",
    "\n",
    "# scgen.SCGEN.setup_anndata(adata_t, batch_key=\"condition\", labels_key=\"cell_type\")\n"
   ]
  },
  {
   "cell_type": "code",
   "execution_count": 120,
   "id": "05b5f88d",
   "metadata": {},
   "outputs": [],
   "source": [
    "# model = scgen.SCGEN(adata_t, n_hidden=800, n_latent=100, n_layers=2)"
   ]
  },
  {
   "cell_type": "code",
   "execution_count": 121,
   "id": "214e901b",
   "metadata": {},
   "outputs": [],
   "source": [
    "# model.train(\n",
    "#     max_epochs=1, batch_size=32, early_stopping=True, early_stopping_patience=25\n",
    "# )"
   ]
  },
  {
   "cell_type": "code",
   "execution_count": 122,
   "id": "4f6f2f98",
   "metadata": {},
   "outputs": [],
   "source": [
    "# adata_t.obsm[\"scgen\"] = model.get_latent_representation()"
   ]
  },
  {
   "cell_type": "code",
   "execution_count": 123,
   "id": "84889a70",
   "metadata": {},
   "outputs": [],
   "source": [
    "# sc.pp.neighbors(adata_t, use_rep=\"scgen\")\n",
    "# sc.tl.umap(adata)"
   ]
  },
  {
   "cell_type": "code",
   "execution_count": null,
   "id": "5ec93614",
   "metadata": {},
   "outputs": [],
   "source": [
    "# adata_t"
   ]
  },
  {
   "cell_type": "code",
   "execution_count": null,
   "id": "6a4a815a",
   "metadata": {},
   "outputs": [],
   "source": [
    "# pred, delta = model.predict(\n",
    "#     ctrl_key=\"control\", stim_key=\"stimulated\", celltype_to_predict=\"CD4 T cells\"\n",
    "# )\n",
    "\n",
    "# # we annotate the predicted cells to distinguish them later from ground truth cells.\n",
    "# pred.obs[\"condition\"] = \"prediction\"\n",
    "# print(pred)"
   ]
  },
  {
   "cell_type": "code",
   "execution_count": null,
   "id": "3b7c5ca2",
   "metadata": {},
   "outputs": [],
   "source": []
  },
  {
   "cell_type": "code",
   "execution_count": null,
   "id": "8d6ca81e",
   "metadata": {},
   "outputs": [],
   "source": [
    "# pred.obs"
   ]
  },
  {
   "cell_type": "code",
   "execution_count": null,
   "id": "b7007635",
   "metadata": {},
   "outputs": [],
   "source": [
    "\n",
    "# train = adata\n",
    "# ctrl_adata = adata[\n",
    "#     ((adata.obs[\"cell_type\"] == \"CD4 T cells\") & (adata.obs[\"condition\"] == \"control\"))\n",
    "# ]\n",
    "# stim_adata = train[((train.obs['cell_type'] == 'CD4T') & (train.obs['condition'] == 'stimulated'))]\n",
    "\n",
    "# # concatenate pred, control and real CD4 T cells in to one object\n",
    "# eval_adata = ctrl_adata.concatenate(cd4t_stim, pred)"
   ]
  },
  {
   "cell_type": "code",
   "execution_count": null,
   "id": "c1bc85ef",
   "metadata": {},
   "outputs": [],
   "source": [
    "# sc.tl.pca(eval_adata)\n",
    "# sc.pl.pca(eval_adata, color=\"condition\", frameon=False)"
   ]
  },
  {
   "cell_type": "code",
   "execution_count": null,
   "id": "66b16e35",
   "metadata": {},
   "outputs": [],
   "source": [
    "# cd4t_adata = adata[adata.obs[\"cell_type\"] == \"CD4 T cells\"]"
   ]
  },
  {
   "cell_type": "code",
   "execution_count": null,
   "id": "3508e753",
   "metadata": {},
   "outputs": [],
   "source": [
    "# sc.tl.rank_genes_groups(cd4t_adata, groupby=\"condition\", method=\"wilcoxon\")\n",
    "# diff_genes = cd4t_adata.uns[\"rank_genes_groups\"][\"names\"][\"stimulated\"]\n",
    "# diff_genes"
   ]
  },
  {
   "cell_type": "code",
   "execution_count": null,
   "id": "d35f7e0e",
   "metadata": {},
   "outputs": [],
   "source": []
  },
  {
   "cell_type": "code",
   "execution_count": null,
   "id": "c13e4f3a",
   "metadata": {},
   "outputs": [],
   "source": [
    "# r2_value = model.reg_mean_plot(\n",
    "#     eval_adata,\n",
    "#     axis_keys={\"x\": \"predicted stimulated\", \"y\": \"stimulated\"},\n",
    "#     gene_list=diff_genes[:10],\n",
    "#     top_100_genes=diff_genes,\n",
    "#     labels={\"x\": \"predicted\", \"y\": \"ground truth\"},\n",
    "#     show=True,\n",
    "#     legend=False,\n",
    "# )"
   ]
  },
  {
   "cell_type": "code",
   "execution_count": null,
   "id": "e8c0260c",
   "metadata": {},
   "outputs": [],
   "source": [
    "# sc.pl.violin(eval_adata, keys=\"ISG15\", groupby=\"condition\")"
   ]
  },
  {
   "cell_type": "code",
   "execution_count": null,
   "id": "74c9b210",
   "metadata": {},
   "outputs": [],
   "source": [
    "# import pertpy as pt\n",
    "# import muon as mu\n",
    "# import scanpy as sc"
   ]
  },
  {
   "cell_type": "code",
   "execution_count": null,
   "id": "01d4a34d",
   "metadata": {},
   "outputs": [],
   "source": [
    "# mdata = pt.dt.papalexi_2021()\n",
    "# for col in mdata.obs: print(col)"
   ]
  },
  {
   "cell_type": "code",
   "execution_count": null,
   "id": "6a027076",
   "metadata": {},
   "outputs": [],
   "source": [
    "# sc.pp.normalize_total(mdata[\"rna\"])\n",
    "# sc.pp.log1p(mdata[\"rna\"])\n",
    "# sc.pp.highly_variable_genes(mdata[\"rna\"], subset=True)"
   ]
  },
  {
   "cell_type": "code",
   "execution_count": null,
   "id": "d3ffac33",
   "metadata": {},
   "outputs": [],
   "source": [
    "# mu.prot.pp.clr(mdata[\"adt\"])"
   ]
  },
  {
   "cell_type": "code",
   "execution_count": null,
   "id": "2fe04851",
   "metadata": {},
   "outputs": [],
   "source": [
    "# sc.pp.pca(mdata[\"rna\"])"
   ]
  },
  {
   "cell_type": "code",
   "execution_count": null,
   "id": "ec5308a8",
   "metadata": {},
   "outputs": [],
   "source": [
    "# We calculate neighbors with the cosine distance similarly to the original Seurat implementation\n",
    "# sc.pp.neighbors(mdata[\"rna\"], metric=\"cosine\")"
   ]
  },
  {
   "cell_type": "code",
   "execution_count": null,
   "id": "fd0721f3",
   "metadata": {},
   "outputs": [],
   "source": [
    "# sc.tl.umap(mdata[\"rna\"])"
   ]
  },
  {
   "cell_type": "code",
   "execution_count": null,
   "id": "40747691",
   "metadata": {},
   "outputs": [],
   "source": [
    "# sc.pl.umap(mdata[\"rna\"], color=[\"replicate\", \"Phase\", \"perturbation\"])"
   ]
  },
  {
   "cell_type": "code",
   "execution_count": null,
   "id": "bfcb4db3",
   "metadata": {},
   "outputs": [],
   "source": []
  },
  {
   "cell_type": "code",
   "execution_count": null,
   "id": "c0f25d73",
   "metadata": {},
   "outputs": [],
   "source": [
    "# ms = pt.tl.Mixscape()\n",
    "\n",
    "# ms.perturbation_signature(\n",
    "#     mdata[\"rna\"],\n",
    "#     pert_key=\"perturbation\",\n",
    "#     control=\"NT\",\n",
    "#     split_by=\"replicate\",\n",
    "#     n_neighbors=20,\n",
    "# )"
   ]
  },
  {
   "cell_type": "code",
   "execution_count": null,
   "id": "37ab276f",
   "metadata": {},
   "outputs": [],
   "source": [
    "# We create a copy of the object to recalculate the PCA.\n",
    "# Alternatively we could replace the X of the RNA part of our MuData object with the `X_pert` layer.\n",
    "# adata_pert = mdata[\"rna\"].copy()\n",
    "# adata_pert.X = adata_pert.layers[\"X_pert\"]\n",
    "# sc.pp.pca(adata_pert)\n",
    "# sc.pp.neighbors(adata_pert, metric=\"cosine\")\n",
    "# sc.tl.umap(adata_pert)\n",
    "# sc.pl.umap(adata_pert, color=[\"replicate\", \"Phase\", \"perturbation\"])"
   ]
  },
  {
   "cell_type": "code",
   "execution_count": null,
   "id": "bc3197d7",
   "metadata": {},
   "outputs": [],
   "source": [
    "# ms.mixscape(adata=mdata[\"rna\"], control=\"NT\", labels=\"gene_target\", layer=\"X_pert\")"
   ]
  },
  {
   "cell_type": "code",
   "execution_count": null,
   "id": "545ffa58",
   "metadata": {},
   "outputs": [],
   "source": [
    "# mdata[\"rna\"].obs"
   ]
  },
  {
   "cell_type": "code",
   "execution_count": null,
   "id": "82d8bb65",
   "metadata": {},
   "outputs": [],
   "source": [
    "# pt.pl.ms.perturbscore(\n",
    "#     adata=mdata[\"rna\"], labels=\"gene_target\", target_gene=\"IFNGR2\", color=\"orange\"\n",
    "# )"
   ]
  },
  {
   "cell_type": "code",
   "execution_count": null,
   "id": "cf75ea2b",
   "metadata": {},
   "outputs": [],
   "source": [
    "# sc.settings.set_figure_params(figsize=(10, 10))\n",
    "# pt.pl.ms.violin(\n",
    "#     adata=mdata[\"rna\"],\n",
    "#     target_gene_idents=[\"NT\", \"IFNGR2 NP\", \"IFNGR2 KO\"],\n",
    "#     groupby=\"mixscape_class\",\n",
    "# )"
   ]
  },
  {
   "cell_type": "code",
   "execution_count": null,
   "id": "3ee147bb",
   "metadata": {},
   "outputs": [],
   "source": [
    "# pt.pl.ms.heatmap(\n",
    "#     adata=mdata[\"rna\"],\n",
    "#     labels=\"gene_target\",\n",
    "#     target_gene=\"IFNGR2\",\n",
    "#     layer=\"X_pert\",\n",
    "#     control=\"NT\",\n",
    "# )"
   ]
  },
  {
   "cell_type": "code",
   "execution_count": null,
   "id": "04d44870",
   "metadata": {},
   "outputs": [],
   "source": [
    "# mdata[\"adt\"].obs[\"mixscape_class_global\"] = mdata[\"rna\"].obs[\"mixscape_class_global\"]\n",
    "# pt.pl.ms.violin(\n",
    "#     adata=mdata[\"adt\"],\n",
    "#     target_gene_idents=[\"NT\", \"JAK2\", \"STAT1\", \"IFNGR1\", \"IFNGR2\", \"IRF1\"],\n",
    "#     keys=\"PDL1\",\n",
    "#     groupby=\"gene_target\",\n",
    "#     hue=\"mixscape_class_global\",\n",
    "# )"
   ]
  },
  {
   "cell_type": "code",
   "execution_count": null,
   "id": "5c4dfcf9",
   "metadata": {},
   "outputs": [],
   "source": [
    "# ms.lda(adata=mdata[\"rna\"], labels=\"gene_target\", layer=\"X_pert\")"
   ]
  },
  {
   "cell_type": "code",
   "execution_count": null,
   "id": "91b5cf87",
   "metadata": {},
   "outputs": [],
   "source": [
    "# pt.pl.ms.lda(adata=mdata[\"rna\"])\n",
    "#https://zenodo.org/record/7058382\n",
    "# folders = '/home/awahab/llm-testing/data_sets/'\n",
    "# fp1 = 'SC3_v3_NextGem_DI_CRISPR_A549_5K_Multiplex_count_raw_feature_bc_matrix.h5'\n",
    "# fp2 = 'SC3_v3_NextGem_DI_CRISPR_A549_5K_Multiplex_count_raw_molecule_info.h5'\n",
    "\n",
    "\n",
    "# import h5py\n",
    "# import anndata\n",
    "\n",
    "# # Read the .h5 File\n",
    "# def explore_h5py_group(group, indent=0):\n",
    "#     \"\"\"Recursively print the contents of an h5py group/dataset.\"\"\"\n",
    "#     print(group.data.name)\n",
    "#     items = sorted(group.items())\n",
    "#     for name, item in items:\n",
    "#         if isinstance(item, h5py.Dataset):  # Check if item is a dataset\n",
    "#             print(\"  \" * indent + f\"Dataset: {name} (Shape: {item.shape}, Dtype: {item.dtype})\")\n",
    "#         elif isinstance(item, h5py.Group):  # Check if item is a group\n",
    "#             print(\"  \" * indent + f\"Group: {name}\")\n",
    "#             explore_h5py_group(item, indent + 1)  # Recursive call to explore subgroups\n",
    "\n",
    "# # Open your HDF5 file\n",
    "# with h5py.File(folders + fp1, 'r') as f:\n",
    "#     explore_h5py_group(f)"
   ]
  }
 ],
 "metadata": {
  "kernelspec": {
   "display_name": "Python 3 (ipykernel)",
   "language": "python",
   "name": "python3"
  },
  "language_info": {
   "codemirror_mode": {
    "name": "ipython",
    "version": 3
   },
   "file_extension": ".py",
   "mimetype": "text/x-python",
   "name": "python",
   "nbconvert_exporter": "python",
   "pygments_lexer": "ipython3",
   "version": "3.10.12"
  }
 },
 "nbformat": 4,
 "nbformat_minor": 5
}
