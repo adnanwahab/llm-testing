{
 "cells": [
  {
   "cell_type": "code",
   "execution_count": 1,
   "id": "8d4fddc2",
   "metadata": {},
   "outputs": [],
   "source": [
    "import warnings\n",
    "import pandas \n",
    "pandas.set_option('mode.use_inf_as_na', True)\n",
    "\n",
    "warnings.filterwarnings(\"ignore\")\n",
    "warnings.simplefilter(\"ignore\")\n",
    "\n",
    "# This is required to catch warnings when the multiprocessing module is used\n",
    "import os\n",
    "\n",
    "os.environ[\"PYTHONWARNINGS\"] = \"ignore\"\n",
    "# import pertpy as pt\n",
    "import scanpy as sc\n",
    "\n",
    "import pertpy as pt\n",
    "adata = pt.dt.kang_2018()"
   ]
  },
  {
   "cell_type": "code",
   "execution_count": 2,
   "id": "30af6126",
   "metadata": {},
   "outputs": [],
   "source": [
    "# adata.var_keys."
   ]
  },
  {
   "cell_type": "code",
   "execution_count": 3,
   "id": "7ecb19f1",
   "metadata": {},
   "outputs": [],
   "source": [
    "# result = []\n",
    "# json = []\n",
    "# for row in adata.obs.values:\n",
    "#     result.append([item for kev, item in enumerate(row) ])\n",
    "# for row in result: json.append({k: v for k, v in zip(adata.obs.columns.tolist(), row)})\n",
    "\n",
    "# print(json)\n",
    "#adata.var.highly_variable.keys"
   ]
  },
  {
   "cell_type": "code",
   "execution_count": 4,
   "id": "0603158c",
   "metadata": {},
   "outputs": [
    {
     "data": {
      "text/html": [
       "<div>\n",
       "<style scoped>\n",
       "    .dataframe tbody tr th:only-of-type {\n",
       "        vertical-align: middle;\n",
       "    }\n",
       "\n",
       "    .dataframe tbody tr th {\n",
       "        vertical-align: top;\n",
       "    }\n",
       "\n",
       "    .dataframe thead th {\n",
       "        text-align: right;\n",
       "    }\n",
       "</style>\n",
       "<table border=\"1\" class=\"dataframe\">\n",
       "  <thead>\n",
       "    <tr style=\"text-align: right;\">\n",
       "      <th></th>\n",
       "      <th>name</th>\n",
       "    </tr>\n",
       "    <tr>\n",
       "      <th>index</th>\n",
       "      <th></th>\n",
       "    </tr>\n",
       "  </thead>\n",
       "  <tbody>\n",
       "    <tr>\n",
       "      <th>AL627309.1</th>\n",
       "      <td>AL627309.1</td>\n",
       "    </tr>\n",
       "    <tr>\n",
       "      <th>RP11-206L10.2</th>\n",
       "      <td>RP11-206L10.2</td>\n",
       "    </tr>\n",
       "    <tr>\n",
       "      <th>RP11-206L10.9</th>\n",
       "      <td>RP11-206L10.9</td>\n",
       "    </tr>\n",
       "    <tr>\n",
       "      <th>FAM87B</th>\n",
       "      <td>FAM87B</td>\n",
       "    </tr>\n",
       "    <tr>\n",
       "      <th>LINC00115</th>\n",
       "      <td>LINC00115</td>\n",
       "    </tr>\n",
       "    <tr>\n",
       "      <th>...</th>\n",
       "      <td>...</td>\n",
       "    </tr>\n",
       "    <tr>\n",
       "      <th>C21orf58</th>\n",
       "      <td>C21orf58</td>\n",
       "    </tr>\n",
       "    <tr>\n",
       "      <th>PCNT</th>\n",
       "      <td>PCNT</td>\n",
       "    </tr>\n",
       "    <tr>\n",
       "      <th>DIP2A</th>\n",
       "      <td>DIP2A</td>\n",
       "    </tr>\n",
       "    <tr>\n",
       "      <th>S100B</th>\n",
       "      <td>S100B</td>\n",
       "    </tr>\n",
       "    <tr>\n",
       "      <th>PRMT2</th>\n",
       "      <td>PRMT2</td>\n",
       "    </tr>\n",
       "  </tbody>\n",
       "</table>\n",
       "<p>15706 rows × 1 columns</p>\n",
       "</div>"
      ],
      "text/plain": [
       "                        name\n",
       "index                       \n",
       "AL627309.1        AL627309.1\n",
       "RP11-206L10.2  RP11-206L10.2\n",
       "RP11-206L10.9  RP11-206L10.9\n",
       "FAM87B                FAM87B\n",
       "LINC00115          LINC00115\n",
       "...                      ...\n",
       "C21orf58            C21orf58\n",
       "PCNT                    PCNT\n",
       "DIP2A                  DIP2A\n",
       "S100B                  S100B\n",
       "PRMT2                  PRMT2\n",
       "\n",
       "[15706 rows x 1 columns]"
      ]
     },
     "execution_count": 4,
     "metadata": {},
     "output_type": "execute_result"
    }
   ],
   "source": [
    "adata.var"
   ]
  },
  {
   "cell_type": "code",
   "execution_count": null,
   "id": "3706cc91",
   "metadata": {},
   "outputs": [],
   "source": []
  },
  {
   "cell_type": "code",
   "execution_count": 10,
   "id": "ce738036",
   "metadata": {},
   "outputs": [
    {
     "name": "stdout",
     "output_type": "stream",
     "text": [
      "WARNING: adata.X seems to be already log-transformed.\n"
     ]
    }
   ],
   "source": [
    "\n",
    "sc.pp.log1p(adata)\n",
    "sc.pp.highly_variable_genes(adata)\n",
    "\n",
    "#hv_genes = filtered_keys = df[df['column_name'] == True].index.tolist()\n",
    "\n",
    "#normal_genes = filtered_keys = df[df['column_name'] == False].index.tolist()\n",
    "\n",
    "#print(hv_genes, normal_genes)\n",
    "hv_genes = (list(adata.var[adata.var['highly_variable'] == True].index))\n",
    "normal_genes = (list(adata.var_names))\n",
    "\n",
    "hv_columns = [i for i,val in enumerate(normal_genes) if val in hv_genes]\n",
    "#hv_genes"
   ]
  },
  {
   "cell_type": "code",
   "execution_count": 11,
   "id": "3adac277",
   "metadata": {},
   "outputs": [
    {
     "data": {
      "text/plain": [
       "659"
      ]
     },
     "execution_count": 11,
     "metadata": {},
     "output_type": "execute_result"
    }
   ],
   "source": [
    "len(hv_columns)"
   ]
  },
  {
   "cell_type": "code",
   "execution_count": 16,
   "id": "5024bce0",
   "metadata": {},
   "outputs": [],
   "source": [
    "#preprocess\n",
    "#batchcontrol\n",
    "#clustering\n",
    "#cell type annotation\n",
    "#embedding\n",
    "#reverse transcriptome\n",
    "#differential expression\n",
    "\n",
    "#rna velocity -> predicts the future state \n",
    "#predict the probability of unseen perturbations\n",
    "#test: first data set => output list of perturbations \n",
    "# take a 2nd dataset and get list of perturbations + their probability \n",
    "\n",
    "\n",
    "#representation learning (in particular, self-supervised, multi-view, and transfer learning\n",
    "#https://registry.opendata.aws/tabula-muris/#usageexamples\n",
    "\n",
    "#see what preprocessing is needed to get better accuracy\n",
    "\n",
    "##load data\n",
    "\n",
    "##import premade model => output list of predicted unseen perturbation\n",
    "\n",
    "#write custom model. get better accuracy"
   ]
  },
  {
   "cell_type": "code",
   "execution_count": 17,
   "id": "819836d4",
   "metadata": {},
   "outputs": [
    {
     "data": {
      "text/plain": [
       "5"
      ]
     },
     "execution_count": 17,
     "metadata": {},
     "output_type": "execute_result"
    }
   ],
   "source": [
    "sc.pp.calculate_qc_metrics(adata)\n",
    "5"
   ]
  },
  {
   "cell_type": "code",
   "execution_count": 18,
   "id": "c17792b3",
   "metadata": {},
   "outputs": [],
   "source": [
    "import requests\n",
    "import time\n",
    "from multiprocessing import cpu_count\n",
    "from multiprocessing.pool import ThreadPool\n",
    "\n",
    "def download_parallel(args):\n",
    "    cpus = cpu_count()\n",
    "    results = ThreadPool(cpus - 1).imap_unordered(download_url, args)\n",
    "    for result in results:\n",
    "        print('url:', result[0], 'time (s):', result[1])"
   ]
  },
  {
   "cell_type": "code",
   "execution_count": 19,
   "id": "23a91c7f",
   "metadata": {},
   "outputs": [],
   "source": [
    "import numpy as np\n",
    "import torch\n",
    "from torch.utils.data import Dataset, DataLoader"
   ]
  },
  {
   "cell_type": "code",
   "execution_count": 20,
   "id": "619d5e80",
   "metadata": {},
   "outputs": [],
   "source": [
    "# gene_expressed = [\"string1\", \"string2\", \"string3\"]\n",
    "\n",
    "    \n",
    "# strings = np.array(gene_expressed)\n",
    "# #adata.obs['genes_expressed'] = strings\n",
    "# coordinates = []\n",
    "cx = adata.X\n",
    "cx = cx.tocoo()\n",
    "\n",
    "# #delete non highly variable genes from matrix\n",
    "\n",
    "\n",
    "# for i,j,v in zip(cx.row, cx.col, cx.data):\n",
    "#     if i in hv_columns: coordinates += [[i,j,v]]\n",
    "# for coord in coordinates:\n",
    "#     coord[1] = adata.var_names[coord[1]]\n",
    "\n",
    "#print(coordinates)"
   ]
  },
  {
   "cell_type": "code",
   "execution_count": 21,
   "id": "e04c40b7",
   "metadata": {},
   "outputs": [],
   "source": [
    "from collections import defaultdict\n",
    "rowGeneExpression = defaultdict(int)\n",
    "rowGeneExpression2 = defaultdict(dict)\n",
    "\n",
    "\n",
    "import math\n",
    "math.floor\n",
    "df = adata.obs\n",
    "for column in hv_columns:\n",
    "    for row_id in range(math.floor(float(df.shape[0])))[:50]:\n",
    "        rowGeneExpression[row_id] += adata.X[row_id, column]\n",
    "        #rowGeneExpression2[row_id][column] = adata.X[row_id, column]\n"
   ]
  },
  {
   "cell_type": "code",
   "execution_count": 22,
   "id": "14eb167a",
   "metadata": {},
   "outputs": [
    {
     "data": {
      "text/plain": [
       "50"
      ]
     },
     "execution_count": 22,
     "metadata": {},
     "output_type": "execute_result"
    }
   ],
   "source": [
    "len(rowGeneExpression)"
   ]
  },
  {
   "cell_type": "code",
   "execution_count": 23,
   "id": "37853254",
   "metadata": {},
   "outputs": [],
   "source": [
    "df = adata.obs\n",
    "dependent_variables =  [rowGeneExpression[row] for row in range(df.shape[0])]\n",
    "df['geneExpressionCount'] = dependent_variables\n",
    "numerical_values = df.select_dtypes(include=[int, float]).values.tolist()\n"
   ]
  },
  {
   "cell_type": "code",
   "execution_count": 24,
   "id": "9aa9e33d",
   "metadata": {},
   "outputs": [],
   "source": [
    "import torch.optim as optim\n",
    "\n",
    "\n",
    "criterion = torch.nn.CrossEntropyLoss()\n",
    "#optimizer = optim.SGD(net.parameters(), lr=0.001, momentum=0.9)\n"
   ]
  },
  {
   "cell_type": "code",
   "execution_count": 25,
   "id": "01957362",
   "metadata": {},
   "outputs": [],
   "source": [
    "from torch import tensor\n",
    "\n",
    "t_dep = tensor(dependent_variables) # pertrubations\n"
   ]
  },
  {
   "cell_type": "code",
   "execution_count": 26,
   "id": "17156f0f",
   "metadata": {},
   "outputs": [
    {
     "data": {
      "text/plain": [
       "tensor([[3017.0000,  877.0000,  -27.6404,  ..., 1704.0000,  711.0000,\n",
       "          135.0695],\n",
       "        [2481.0000,  713.0000,  -27.4936,  ..., 1614.0000,  662.0000,\n",
       "          126.1152],\n",
       "        [ 703.0000,  337.0000,  -10.4682,  ...,  908.0000,  337.0000,\n",
       "           26.5247],\n",
       "        ...,\n",
       "        [1522.0000,  523.0000,   25.1424,  ..., 1422.0000,  523.0000,\n",
       "            0.0000],\n",
       "        [1143.0000,  503.0000,   14.3597,  ..., 1185.0000,  503.0000,\n",
       "            0.0000],\n",
       "        [1031.0000,  421.0000,   14.5721,  ..., 1144.0000,  419.0000,\n",
       "            0.0000]])"
      ]
     },
     "execution_count": 26,
     "metadata": {},
     "output_type": "execute_result"
    }
   ],
   "source": [
    "t_indep = tensor(numerical_values, dtype=torch.float)\n",
    "t_indep"
   ]
  },
  {
   "cell_type": "code",
   "execution_count": 27,
   "id": "9294b33e",
   "metadata": {},
   "outputs": [
    {
     "data": {
      "text/plain": [
       "8"
      ]
     },
     "execution_count": 27,
     "metadata": {},
     "output_type": "execute_result"
    }
   ],
   "source": [
    "t_indep.shape[1]"
   ]
  },
  {
   "cell_type": "code",
   "execution_count": 28,
   "id": "6564bf50",
   "metadata": {},
   "outputs": [
    {
     "data": {
      "text/plain": [
       "tensor([ 0.2734,  0.0020, -0.4899,  0.4178, -0.2422, -0.4913,  0.0021,  0.3943])"
      ]
     },
     "execution_count": 28,
     "metadata": {},
     "output_type": "execute_result"
    }
   ],
   "source": [
    "\n",
    "n_coeff = t_indep.shape[1]\n",
    "coeffs = torch.rand(n_coeff)-0.5\n",
    "coeffs"
   ]
  },
  {
   "cell_type": "code",
   "execution_count": 29,
   "id": "88297088",
   "metadata": {},
   "outputs": [],
   "source": [
    "def acc(coeffs): return (val_dep.bool()==(calc_preds(coeffs, val_indep)>0.1)).float().mean()\n",
    "def calc_preds(coeffs, indeps): return (coeffs * indeps).sum(axis=1)\n",
    "def calc_preds(coeffs, indeps): return torch.sigmoid((indeps*coeffs).sum(axis=1))\n",
    "\n",
    "def calc_loss(coeffs, indeps, deps): return torch.abs(calc_preds(coeffs, indeps)-deps).mean()"
   ]
  },
  {
   "cell_type": "code",
   "execution_count": 30,
   "id": "5dfdf216",
   "metadata": {},
   "outputs": [
    {
     "data": {
      "text/plain": [
       "tensor(241.1038, dtype=torch.float64)"
      ]
     },
     "execution_count": 30,
     "metadata": {},
     "output_type": "execute_result"
    }
   ],
   "source": [
    "preds = (t_indep*coeffs).sum(axis=1)\n",
    "loss = torch.abs(preds-t_dep).mean()\n",
    "loss = calc_loss(coeffs, t_indep, t_dep)\n",
    "\n",
    "loss = torch.abs(preds-t_dep).mean()\n",
    "loss"
   ]
  },
  {
   "cell_type": "code",
   "execution_count": 31,
   "id": "bab45dde",
   "metadata": {},
   "outputs": [],
   "source": [
    "import torch, numpy as np, pandas as pd\n",
    "np.set_printoptions(linewidth=140)\n",
    "torch.set_printoptions(linewidth=140, sci_mode=False, edgeitems=7)\n",
    "pd.set_option('display.width', 140)"
   ]
  },
  {
   "cell_type": "code",
   "execution_count": 32,
   "id": "955bcb18",
   "metadata": {},
   "outputs": [],
   "source": [
    "vals,indices = t_indep.max(dim=0)\n",
    "t_indep = t_indep / vals"
   ]
  },
  {
   "cell_type": "code",
   "execution_count": 33,
   "id": "2926f2b8",
   "metadata": {},
   "outputs": [
    {
     "data": {
      "text/plain": [
       "tensor([[     0.0698,      0.0006,      0.3083,      0.1455,     -0.2180,     -0.2779,      0.0011,      0.3220],\n",
       "        [     0.0574,      0.0005,      0.3067,      0.2812,     -0.2180,     -0.2633,      0.0010,      0.3007],\n",
       "        [     0.0163,      0.0002,      0.1168,     -0.0582,     -0.0727,     -0.1481,      0.0005,      0.0632],\n",
       "        [     0.0791,      0.0006,      0.2718,      0.1986,     -0.2180,     -0.2835,      0.0010,      0.3115],\n",
       "        [     0.0731,      0.0008,     -0.3118,      0.2349,     -0.0969,     -0.3029,      0.0014,      0.2576],\n",
       "        [     0.0432,      0.0005,      0.0052,     -0.2469,     -0.1211,     -0.2487,      0.0010,      0.0775],\n",
       "        [     0.0264,      0.0003,      0.1774,      0.1952,     -0.2180,     -0.1887,      0.0007,      0.1851],\n",
       "        ...,\n",
       "        [     0.0147,      0.0003,      0.0742,     -0.0539,     -0.0727,     -0.1439,      0.0006,      0.0000],\n",
       "        [     0.0310,      0.0004,     -0.0861,      0.3241,     -0.1938,     -0.2160,      0.0007,      0.0000],\n",
       "        [     0.0239,      0.0003,     -0.2038,      0.0103,     -0.1453,     -0.1840,      0.0007,      0.0000],\n",
       "        [     0.0490,      0.0006,      0.1290,      0.0250,     -0.0969,     -0.2722,      0.0012,      0.0000],\n",
       "        [     0.0352,      0.0004,     -0.2804,      0.0642,     -0.1453,     -0.2319,      0.0008,      0.0000],\n",
       "        [     0.0264,      0.0004,     -0.1602,      0.1066,     -0.1453,     -0.1933,      0.0008,      0.0000],\n",
       "        [     0.0239,      0.0003,     -0.1625,     -0.0458,     -0.1211,     -0.1866,      0.0006,      0.0000]])"
      ]
     },
     "execution_count": 33,
     "metadata": {},
     "output_type": "execute_result"
    }
   ],
   "source": [
    "t_indep*coeffs"
   ]
  },
  {
   "cell_type": "code",
   "execution_count": 34,
   "id": "8fc0dfb8",
   "metadata": {},
   "outputs": [],
   "source": [
    "t_indep = t_indep / vals"
   ]
  },
  {
   "cell_type": "code",
   "execution_count": 35,
   "id": "25fea016",
   "metadata": {},
   "outputs": [
    {
     "data": {
      "text/plain": [
       "tensor([ 0.2734,  0.0020, -0.4899,  0.4178, -0.2422, -0.4913,  0.0021,  0.3943], requires_grad=True)"
      ]
     },
     "execution_count": 35,
     "metadata": {},
     "output_type": "execute_result"
    }
   ],
   "source": [
    "coeffs.requires_grad_()\n"
   ]
  },
  {
   "cell_type": "code",
   "execution_count": 36,
   "id": "6c5c1597",
   "metadata": {},
   "outputs": [],
   "source": [
    "loss = calc_loss(coeffs, t_indep, t_dep)\n",
    "\n",
    "loss.backward()"
   ]
  },
  {
   "cell_type": "code",
   "execution_count": 37,
   "id": "31babe26",
   "metadata": {},
   "outputs": [
    {
     "data": {
      "text/plain": [
       "tensor([     0.0000,      0.0000,      0.0001,      0.0000,      0.0161,      0.0000,      0.0001,     -0.0000])"
      ]
     },
     "execution_count": 37,
     "metadata": {},
     "output_type": "execute_result"
    }
   ],
   "source": [
    "coeffs.grad"
   ]
  },
  {
   "cell_type": "code",
   "execution_count": 39,
   "id": "7f25fe0f",
   "metadata": {},
   "outputs": [],
   "source": [
    "independent_variables = pd.DataFrame(numerical_values)\n",
    "\n",
    "\n",
    "\n"
   ]
  },
  {
   "cell_type": "code",
   "execution_count": 40,
   "id": "f6d67306",
   "metadata": {},
   "outputs": [],
   "source": [
    "from fastai.data.transforms import RandomSplitter\n",
    "trn_split,val_split=RandomSplitter(seed=42)(independent_variables)"
   ]
  },
  {
   "cell_type": "code",
   "execution_count": 41,
   "id": "42738fc9",
   "metadata": {},
   "outputs": [],
   "source": [
    "trn_indep,val_indep = t_indep[trn_split],t_indep[val_split]\n",
    "trn_dep,val_dep = t_dep[trn_split],t_dep[val_split]\n",
    "#len(trn_indep),len(val_indep)"
   ]
  },
  {
   "cell_type": "code",
   "execution_count": 42,
   "id": "e76101ef",
   "metadata": {},
   "outputs": [
    {
     "name": "stdout",
     "output_type": "stream",
     "text": [
      "tensor(0.6167, dtype=torch.float64)\n"
     ]
    }
   ],
   "source": [
    "loss = calc_loss(coeffs, t_indep, t_dep)\n",
    "loss.backward()\n",
    "with torch.no_grad():\n",
    "    coeffs.sub_(coeffs.grad * 0.1)\n",
    "    coeffs.grad.zero_()\n",
    "    print(calc_loss(coeffs, t_indep, t_dep))"
   ]
  },
  {
   "cell_type": "code",
   "execution_count": 43,
   "id": "1034ada7",
   "metadata": {},
   "outputs": [],
   "source": [
    "\n",
    "\n",
    "\n",
    "\n",
    "def update_coeffs(coeffs, lr):\n",
    "    coeffs.sub_(coeffs.grad * lr)\n",
    "    coeffs.grad.zero_()"
   ]
  },
  {
   "cell_type": "code",
   "execution_count": 44,
   "id": "04dbc171",
   "metadata": {},
   "outputs": [],
   "source": [
    "def one_epoch(coeffs, lr):\n",
    "    loss = calc_loss(coeffs, trn_indep, trn_dep)\n",
    "    loss.backward()\n",
    "    with torch.no_grad(): update_coeffs(coeffs, lr)\n",
    "    print(f\"{loss:.3f}\", end=\"; \")"
   ]
  },
  {
   "cell_type": "code",
   "execution_count": 45,
   "id": "8b06960b",
   "metadata": {},
   "outputs": [],
   "source": [
    "def init_coeffs(): return (torch.rand(n_coeff)-0.5).requires_grad_()\n",
    "def init_coeffs(): return (torch.rand(n_coeff, 1)*0.1).requires_grad_()\n"
   ]
  },
  {
   "cell_type": "code",
   "execution_count": 46,
   "id": "e0499927",
   "metadata": {},
   "outputs": [],
   "source": [
    "def train_model(epochs=30, lr=0.01):\n",
    "    coeffs = init_coeffs()\n",
    "    for i in range(epochs): one_epoch(coeffs, lr=lr)\n",
    "    return coeffs"
   ]
  },
  {
   "cell_type": "code",
   "execution_count": 47,
   "id": "201694ec",
   "metadata": {},
   "outputs": [
    {
     "data": {
      "text/plain": [
       "torch.Size([24673, 8])"
      ]
     },
     "execution_count": 47,
     "metadata": {},
     "output_type": "execute_result"
    }
   ],
   "source": [
    "t_indep.shape"
   ]
  },
  {
   "cell_type": "code",
   "execution_count": 48,
   "id": "14ce99b2",
   "metadata": {},
   "outputs": [
    {
     "ename": "RuntimeError",
     "evalue": "The size of tensor a (19739) must match the size of tensor b (8) at non-singleton dimension 0",
     "output_type": "error",
     "traceback": [
      "\u001b[0;31m---------------------------------------------------------------------------\u001b[0m",
      "\u001b[0;31mRuntimeError\u001b[0m                              Traceback (most recent call last)",
      "Cell \u001b[0;32mIn[48], line 1\u001b[0m\n\u001b[0;32m----> 1\u001b[0m coeffs \u001b[38;5;241m=\u001b[39m \u001b[43mtrain_model\u001b[49m\u001b[43m(\u001b[49m\u001b[38;5;241;43m18\u001b[39;49m\u001b[43m,\u001b[49m\u001b[43m \u001b[49m\u001b[43mlr\u001b[49m\u001b[38;5;241;43m=\u001b[39;49m\u001b[38;5;241;43m0.2\u001b[39;49m\u001b[43m)\u001b[49m\n",
      "Cell \u001b[0;32mIn[46], line 3\u001b[0m, in \u001b[0;36mtrain_model\u001b[0;34m(epochs, lr)\u001b[0m\n\u001b[1;32m      1\u001b[0m \u001b[38;5;28;01mdef\u001b[39;00m \u001b[38;5;21mtrain_model\u001b[39m(epochs\u001b[38;5;241m=\u001b[39m\u001b[38;5;241m30\u001b[39m, lr\u001b[38;5;241m=\u001b[39m\u001b[38;5;241m0.01\u001b[39m):\n\u001b[1;32m      2\u001b[0m     coeffs \u001b[38;5;241m=\u001b[39m init_coeffs()\n\u001b[0;32m----> 3\u001b[0m     \u001b[38;5;28;01mfor\u001b[39;00m i \u001b[38;5;129;01min\u001b[39;00m \u001b[38;5;28mrange\u001b[39m(epochs): \u001b[43mone_epoch\u001b[49m\u001b[43m(\u001b[49m\u001b[43mcoeffs\u001b[49m\u001b[43m,\u001b[49m\u001b[43m \u001b[49m\u001b[43mlr\u001b[49m\u001b[38;5;241;43m=\u001b[39;49m\u001b[43mlr\u001b[49m\u001b[43m)\u001b[49m\n\u001b[1;32m      4\u001b[0m     \u001b[38;5;28;01mreturn\u001b[39;00m coeffs\n",
      "Cell \u001b[0;32mIn[44], line 2\u001b[0m, in \u001b[0;36mone_epoch\u001b[0;34m(coeffs, lr)\u001b[0m\n\u001b[1;32m      1\u001b[0m \u001b[38;5;28;01mdef\u001b[39;00m \u001b[38;5;21mone_epoch\u001b[39m(coeffs, lr):\n\u001b[0;32m----> 2\u001b[0m     loss \u001b[38;5;241m=\u001b[39m \u001b[43mcalc_loss\u001b[49m\u001b[43m(\u001b[49m\u001b[43mcoeffs\u001b[49m\u001b[43m,\u001b[49m\u001b[43m \u001b[49m\u001b[43mtrn_indep\u001b[49m\u001b[43m,\u001b[49m\u001b[43m \u001b[49m\u001b[43mtrn_dep\u001b[49m\u001b[43m)\u001b[49m\n\u001b[1;32m      3\u001b[0m     loss\u001b[38;5;241m.\u001b[39mbackward()\n\u001b[1;32m      4\u001b[0m     \u001b[38;5;28;01mwith\u001b[39;00m torch\u001b[38;5;241m.\u001b[39mno_grad(): update_coeffs(coeffs, lr)\n",
      "Cell \u001b[0;32mIn[29], line 5\u001b[0m, in \u001b[0;36mcalc_loss\u001b[0;34m(coeffs, indeps, deps)\u001b[0m\n\u001b[0;32m----> 5\u001b[0m \u001b[38;5;28;01mdef\u001b[39;00m \u001b[38;5;21mcalc_loss\u001b[39m(coeffs, indeps, deps): \u001b[38;5;28;01mreturn\u001b[39;00m torch\u001b[38;5;241m.\u001b[39mabs(\u001b[43mcalc_preds\u001b[49m\u001b[43m(\u001b[49m\u001b[43mcoeffs\u001b[49m\u001b[43m,\u001b[49m\u001b[43m \u001b[49m\u001b[43mindeps\u001b[49m\u001b[43m)\u001b[49m\u001b[38;5;241m-\u001b[39mdeps)\u001b[38;5;241m.\u001b[39mmean()\n",
      "Cell \u001b[0;32mIn[29], line 3\u001b[0m, in \u001b[0;36mcalc_preds\u001b[0;34m(coeffs, indeps)\u001b[0m\n\u001b[0;32m----> 3\u001b[0m \u001b[38;5;28;01mdef\u001b[39;00m \u001b[38;5;21mcalc_preds\u001b[39m(coeffs, indeps): \u001b[38;5;28;01mreturn\u001b[39;00m torch\u001b[38;5;241m.\u001b[39msigmoid((\u001b[43mindeps\u001b[49m\u001b[38;5;241;43m*\u001b[39;49m\u001b[43mcoeffs\u001b[49m)\u001b[38;5;241m.\u001b[39msum(axis\u001b[38;5;241m=\u001b[39m\u001b[38;5;241m1\u001b[39m))\n",
      "\u001b[0;31mRuntimeError\u001b[0m: The size of tensor a (19739) must match the size of tensor b (8) at non-singleton dimension 0"
     ]
    }
   ],
   "source": [
    "coeffs = train_model(18, lr=0.2)"
   ]
  },
  {
   "cell_type": "code",
   "execution_count": 49,
   "id": "403b7645",
   "metadata": {},
   "outputs": [
    {
     "data": {
      "text/plain": [
       "tensor([ 0.2734,  0.0020, -0.4899,  0.4178, -0.2454, -0.4913,  0.0021,  0.3943], requires_grad=True)"
      ]
     },
     "execution_count": 49,
     "metadata": {},
     "output_type": "execute_result"
    }
   ],
   "source": [
    "coeffs"
   ]
  },
  {
   "cell_type": "code",
   "execution_count": 50,
   "id": "c6a6df33",
   "metadata": {},
   "outputs": [
    {
     "data": {
      "text/plain": [
       "{'nCount_RNA': tensor(0.2734),\n",
       " 'nFeature_RNA': tensor(0.0020),\n",
       " 'tsne1': tensor(-0.4899),\n",
       " 'tsne2': tensor(0.4178),\n",
       " 'cluster': tensor(-0.2454),\n",
       " 'nCount_SCT': tensor(-0.4913),\n",
       " 'nFeature_SCT': tensor(0.0021),\n",
       " 'geneExpressionCount': tensor(0.3943)}"
      ]
     },
     "execution_count": 50,
     "metadata": {},
     "output_type": "execute_result"
    }
   ],
   "source": [
    "indep_cols = ['nCount_RNA' ,                \n",
    "'nFeature_RNA'    ,             \n",
    "'tsne1'     ,                 \n",
    "'tsne2'  ,                   \n",
    "'cluster'    ,                  \n",
    "'nCount_SCT'   ,              \n",
    "'nFeature_SCT',\n",
    "'geneExpressionCount'\n",
    "]    \n",
    "def show_coeffs(): return dict(zip(indep_cols, coeffs.requires_grad_(False)))\n",
    "show_coeffs()"
   ]
  },
  {
   "cell_type": "code",
   "execution_count": 51,
   "id": "7a2135c9",
   "metadata": {},
   "outputs": [
    {
     "data": {
      "text/plain": [
       "tensor([0.4975, 0.4983, 0.4986, 0.4976, 0.4975, 0.4956, 0.4969,  ..., 0.4983, 0.4965, 0.4952, 0.4984, 0.4951, 0.4960, 0.4957])"
      ]
     },
     "execution_count": 51,
     "metadata": {},
     "output_type": "execute_result"
    }
   ],
   "source": [
    "def calc_preds(coeffs, indeps): return (indeps*coeffs).sum(axis=1)\n",
    "def calc_preds(coeffs, indeps): return torch.sigmoid(indeps@coeffs)\n",
    "\n",
    "calc_preds(coeffs, t_indep)"
   ]
  },
  {
   "cell_type": "code",
   "execution_count": null,
   "id": "a1c04066",
   "metadata": {},
   "outputs": [],
   "source": []
  },
  {
   "cell_type": "code",
   "execution_count": 52,
   "id": "90b26225",
   "metadata": {},
   "outputs": [
    {
     "data": {
      "text/plain": [
       "848"
      ]
     },
     "execution_count": 52,
     "metadata": {},
     "output_type": "execute_result"
    }
   ],
   "source": [
    "len([prob for prob in calc_preds(coeffs, t_indep) if prob > .5]) # should be 5000"
   ]
  },
  {
   "cell_type": "code",
   "execution_count": 53,
   "id": "e22a96b2",
   "metadata": {},
   "outputs": [
    {
     "data": {
      "text/plain": [
       "tensor(0.0020)"
      ]
     },
     "execution_count": 53,
     "metadata": {},
     "output_type": "execute_result"
    }
   ],
   "source": [
    "\n",
    "acc(coeffs) \n",
    "\n",
    "##\n",
    "# predictions = tf.nn.sigmoid(predictions)\n",
    "# predictions = tf.where(predictions < 0.5, 0, 1)\n",
    "\n",
    "# print('Predictions:\\n', predictions.numpy())\n",
    "# print('Labels:\\n', label_batch)\n",
    "\n",
    "# pass in a h5ad file and get back \n",
    "#Predictions:\n",
    "# [0 0 0 0 0 1 1 1 0 0 0 1 0 1 0 0 1 0 1 0 0 0 0 0 1 1 0 1 1 1 0 0]\n",
    "# Perturbations:\n",
    "# [0 0 0 0 0 1 1 1 0 0 0 1 0 1 0 0 1 0 1 0 0 0 0 0 1 0 0 1 1 1 0 0]"
   ]
  },
  {
   "cell_type": "code",
   "execution_count": 121,
   "id": "66dfff8d",
   "metadata": {},
   "outputs": [
    {
     "ename": "SyntaxError",
     "evalue": "Missing parentheses in call to 'print'. Did you mean print(...)? (517448773.py, line 1)",
     "output_type": "error",
     "traceback": [
      "\u001b[0;36m  Cell \u001b[0;32mIn[121], line 1\u001b[0;36m\u001b[0m\n\u001b[0;31m    print 50\u001b[0m\n\u001b[0m    ^\u001b[0m\n\u001b[0;31mSyntaxError\u001b[0m\u001b[0;31m:\u001b[0m Missing parentheses in call to 'print'. Did you mean print(...)?\n"
     ]
    }
   ],
   "source": [
    "print 50\n",
    "!pip install --quiet hyperopt\n",
    "!pip install --quiet \"ray[tune]\"\n",
    "!pip install --quiet scvi-colab\n",
    "from scvi_colab import install\n",
    "\n",
    "install()\n",
    "\n",
    "\n",
    "import ray\n",
    "import scanpy as sc\n",
    "import scvi\n",
    "from ray import tune\n",
    "from scvi import autotune"
   ]
  },
  {
   "cell_type": "code",
   "execution_count": 48,
   "id": "385450cb",
   "metadata": {},
   "outputs": [],
   "source": [
    "def benchmarkResults():\n",
    "    pass"
   ]
  },
  {
   "cell_type": "code",
   "execution_count": 49,
   "id": "7a58542a",
   "metadata": {},
   "outputs": [],
   "source": [
    "import scgen\n",
    "adata.obs.rename({\"label\": \"condition\"}, axis=1, inplace=True)\n",
    "adata.obs[\"condition\"].replace({\"ctrl\": \"control\", \"stim\": \"stimulated\"}, inplace=True)\n",
    "\n",
    "\n",
    "\n",
    "\n",
    "\n",
    "\n",
    "# adata_t = adata[\n",
    "#     ~(\n",
    "#         (adata.obs[\"cell_type\"] == \"CD4 T cells\")\n",
    "#         & (adata.obs[\"condition\"] == \"stimulated\")\n",
    "#     )\n",
    "# ].copy()\n",
    "\n",
    "# cd4t_stim = adata[\n",
    "#     (\n",
    "#         (adata.obs[\"cell_type\"] == \"CD4 T cells\")\n",
    "#         & (adata.obs[\"condition\"] == \"stimulated\")\n",
    "#     )\n",
    "# ].copy()\n",
    "\n",
    "\n",
    "\n",
    "\n",
    "\n",
    "\n",
    "\n",
    "\n",
    "# scgen.SCGEN.setup_anndata(adata_t, batch_key=\"condition\", labels_key=\"cell_type\")\n"
   ]
  },
  {
   "cell_type": "code",
   "execution_count": 50,
   "id": "05b5f88d",
   "metadata": {},
   "outputs": [],
   "source": [
    "# model = scgen.SCGEN(adata_t, n_hidden=800, n_latent=100, n_layers=2)"
   ]
  },
  {
   "cell_type": "code",
   "execution_count": 51,
   "id": "214e901b",
   "metadata": {},
   "outputs": [],
   "source": [
    "# model.train(\n",
    "#     max_epochs=1, batch_size=32, early_stopping=True, early_stopping_patience=25\n",
    "# )"
   ]
  },
  {
   "cell_type": "code",
   "execution_count": 52,
   "id": "4f6f2f98",
   "metadata": {},
   "outputs": [],
   "source": [
    "# adata_t.obsm[\"scgen\"] = model.get_latent_representation()"
   ]
  },
  {
   "cell_type": "code",
   "execution_count": 53,
   "id": "84889a70",
   "metadata": {},
   "outputs": [],
   "source": [
    "# sc.pp.neighbors(adata_t, use_rep=\"scgen\")\n",
    "# sc.tl.umap(adata)"
   ]
  },
  {
   "cell_type": "code",
   "execution_count": null,
   "id": "5ec93614",
   "metadata": {},
   "outputs": [],
   "source": [
    "# adata_t"
   ]
  },
  {
   "cell_type": "code",
   "execution_count": null,
   "id": "6a4a815a",
   "metadata": {},
   "outputs": [],
   "source": [
    "# pred, delta = model.predict(\n",
    "#     ctrl_key=\"control\", stim_key=\"stimulated\", celltype_to_predict=\"CD4 T cells\"\n",
    "# )\n",
    "\n",
    "# # we annotate the predicted cells to distinguish them later from ground truth cells.\n",
    "# pred.obs[\"condition\"] = \"prediction\"\n",
    "# print(pred)"
   ]
  },
  {
   "cell_type": "code",
   "execution_count": null,
   "id": "3b7c5ca2",
   "metadata": {},
   "outputs": [],
   "source": []
  },
  {
   "cell_type": "code",
   "execution_count": null,
   "id": "8d6ca81e",
   "metadata": {},
   "outputs": [],
   "source": [
    "# pred.obs"
   ]
  },
  {
   "cell_type": "code",
   "execution_count": null,
   "id": "b7007635",
   "metadata": {},
   "outputs": [],
   "source": [
    "\n",
    "# train = adata\n",
    "# ctrl_adata = adata[\n",
    "#     ((adata.obs[\"cell_type\"] == \"CD4 T cells\") & (adata.obs[\"condition\"] == \"control\"))\n",
    "# ]\n",
    "# stim_adata = train[((train.obs['cell_type'] == 'CD4T') & (train.obs['condition'] == 'stimulated'))]\n",
    "\n",
    "# # concatenate pred, control and real CD4 T cells in to one object\n",
    "# eval_adata = ctrl_adata.concatenate(cd4t_stim, pred)"
   ]
  },
  {
   "cell_type": "code",
   "execution_count": null,
   "id": "c1bc85ef",
   "metadata": {},
   "outputs": [],
   "source": [
    "# sc.tl.pca(eval_adata)\n",
    "# sc.pl.pca(eval_adata, color=\"condition\", frameon=False)"
   ]
  },
  {
   "cell_type": "code",
   "execution_count": null,
   "id": "66b16e35",
   "metadata": {},
   "outputs": [],
   "source": [
    "# cd4t_adata = adata[adata.obs[\"cell_type\"] == \"CD4 T cells\"]"
   ]
  },
  {
   "cell_type": "code",
   "execution_count": null,
   "id": "3508e753",
   "metadata": {},
   "outputs": [],
   "source": [
    "# sc.tl.rank_genes_groups(cd4t_adata, groupby=\"condition\", method=\"wilcoxon\")\n",
    "# diff_genes = cd4t_adata.uns[\"rank_genes_groups\"][\"names\"][\"stimulated\"]\n",
    "# diff_genes"
   ]
  },
  {
   "cell_type": "code",
   "execution_count": null,
   "id": "d35f7e0e",
   "metadata": {},
   "outputs": [],
   "source": []
  },
  {
   "cell_type": "code",
   "execution_count": null,
   "id": "c13e4f3a",
   "metadata": {},
   "outputs": [],
   "source": [
    "# r2_value = model.reg_mean_plot(\n",
    "#     eval_adata,\n",
    "#     axis_keys={\"x\": \"predicted stimulated\", \"y\": \"stimulated\"},\n",
    "#     gene_list=diff_genes[:10],\n",
    "#     top_100_genes=diff_genes,\n",
    "#     labels={\"x\": \"predicted\", \"y\": \"ground truth\"},\n",
    "#     show=True,\n",
    "#     legend=False,\n",
    "# )"
   ]
  },
  {
   "cell_type": "code",
   "execution_count": null,
   "id": "e8c0260c",
   "metadata": {},
   "outputs": [],
   "source": [
    "# sc.pl.violin(eval_adata, keys=\"ISG15\", groupby=\"condition\")"
   ]
  },
  {
   "cell_type": "code",
   "execution_count": null,
   "id": "74c9b210",
   "metadata": {},
   "outputs": [],
   "source": [
    "# import pertpy as pt\n",
    "# import muon as mu\n",
    "# import scanpy as sc"
   ]
  },
  {
   "cell_type": "code",
   "execution_count": null,
   "id": "01d4a34d",
   "metadata": {},
   "outputs": [],
   "source": [
    "# mdata = pt.dt.papalexi_2021()\n",
    "# for col in mdata.obs: print(col)"
   ]
  },
  {
   "cell_type": "code",
   "execution_count": null,
   "id": "6a027076",
   "metadata": {},
   "outputs": [],
   "source": [
    "# sc.pp.normalize_total(mdata[\"rna\"])\n",
    "# sc.pp.log1p(mdata[\"rna\"])\n",
    "# sc.pp.highly_variable_genes(mdata[\"rna\"], subset=True)"
   ]
  },
  {
   "cell_type": "code",
   "execution_count": null,
   "id": "d3ffac33",
   "metadata": {},
   "outputs": [],
   "source": [
    "# mu.prot.pp.clr(mdata[\"adt\"])"
   ]
  },
  {
   "cell_type": "code",
   "execution_count": null,
   "id": "2fe04851",
   "metadata": {},
   "outputs": [],
   "source": [
    "# sc.pp.pca(mdata[\"rna\"])"
   ]
  },
  {
   "cell_type": "code",
   "execution_count": null,
   "id": "ec5308a8",
   "metadata": {},
   "outputs": [],
   "source": [
    "# We calculate neighbors with the cosine distance similarly to the original Seurat implementation\n",
    "# sc.pp.neighbors(mdata[\"rna\"], metric=\"cosine\")"
   ]
  },
  {
   "cell_type": "code",
   "execution_count": null,
   "id": "fd0721f3",
   "metadata": {},
   "outputs": [],
   "source": [
    "# sc.tl.umap(mdata[\"rna\"])"
   ]
  },
  {
   "cell_type": "code",
   "execution_count": null,
   "id": "40747691",
   "metadata": {},
   "outputs": [],
   "source": [
    "# sc.pl.umap(mdata[\"rna\"], color=[\"replicate\", \"Phase\", \"perturbation\"])"
   ]
  },
  {
   "cell_type": "code",
   "execution_count": null,
   "id": "bfcb4db3",
   "metadata": {},
   "outputs": [],
   "source": []
  },
  {
   "cell_type": "code",
   "execution_count": null,
   "id": "c0f25d73",
   "metadata": {},
   "outputs": [],
   "source": [
    "# ms = pt.tl.Mixscape()\n",
    "\n",
    "# ms.perturbation_signature(\n",
    "#     mdata[\"rna\"],\n",
    "#     pert_key=\"perturbation\",\n",
    "#     control=\"NT\",\n",
    "#     split_by=\"replicate\",\n",
    "#     n_neighbors=20,\n",
    "# )"
   ]
  },
  {
   "cell_type": "code",
   "execution_count": null,
   "id": "37ab276f",
   "metadata": {},
   "outputs": [],
   "source": [
    "# We create a copy of the object to recalculate the PCA.\n",
    "# Alternatively we could replace the X of the RNA part of our MuData object with the `X_pert` layer.\n",
    "# adata_pert = mdata[\"rna\"].copy()\n",
    "# adata_pert.X = adata_pert.layers[\"X_pert\"]\n",
    "# sc.pp.pca(adata_pert)\n",
    "# sc.pp.neighbors(adata_pert, metric=\"cosine\")\n",
    "# sc.tl.umap(adata_pert)\n",
    "# sc.pl.umap(adata_pert, color=[\"replicate\", \"Phase\", \"perturbation\"])"
   ]
  },
  {
   "cell_type": "code",
   "execution_count": null,
   "id": "bc3197d7",
   "metadata": {},
   "outputs": [],
   "source": [
    "# ms.mixscape(adata=mdata[\"rna\"], control=\"NT\", labels=\"gene_target\", layer=\"X_pert\")"
   ]
  },
  {
   "cell_type": "code",
   "execution_count": null,
   "id": "545ffa58",
   "metadata": {},
   "outputs": [],
   "source": [
    "# mdata[\"rna\"].obs"
   ]
  },
  {
   "cell_type": "code",
   "execution_count": null,
   "id": "82d8bb65",
   "metadata": {},
   "outputs": [],
   "source": [
    "# pt.pl.ms.perturbscore(\n",
    "#     adata=mdata[\"rna\"], labels=\"gene_target\", target_gene=\"IFNGR2\", color=\"orange\"\n",
    "# )"
   ]
  },
  {
   "cell_type": "code",
   "execution_count": null,
   "id": "cf75ea2b",
   "metadata": {},
   "outputs": [],
   "source": [
    "# sc.settings.set_figure_params(figsize=(10, 10))\n",
    "# pt.pl.ms.violin(\n",
    "#     adata=mdata[\"rna\"],\n",
    "#     target_gene_idents=[\"NT\", \"IFNGR2 NP\", \"IFNGR2 KO\"],\n",
    "#     groupby=\"mixscape_class\",\n",
    "# )"
   ]
  },
  {
   "cell_type": "code",
   "execution_count": null,
   "id": "3ee147bb",
   "metadata": {},
   "outputs": [],
   "source": [
    "# pt.pl.ms.heatmap(\n",
    "#     adata=mdata[\"rna\"],\n",
    "#     labels=\"gene_target\",\n",
    "#     target_gene=\"IFNGR2\",\n",
    "#     layer=\"X_pert\",\n",
    "#     control=\"NT\",\n",
    "# )"
   ]
  },
  {
   "cell_type": "code",
   "execution_count": null,
   "id": "04d44870",
   "metadata": {},
   "outputs": [],
   "source": [
    "# mdata[\"adt\"].obs[\"mixscape_class_global\"] = mdata[\"rna\"].obs[\"mixscape_class_global\"]\n",
    "# pt.pl.ms.violin(\n",
    "#     adata=mdata[\"adt\"],\n",
    "#     target_gene_idents=[\"NT\", \"JAK2\", \"STAT1\", \"IFNGR1\", \"IFNGR2\", \"IRF1\"],\n",
    "#     keys=\"PDL1\",\n",
    "#     groupby=\"gene_target\",\n",
    "#     hue=\"mixscape_class_global\",\n",
    "# )"
   ]
  },
  {
   "cell_type": "code",
   "execution_count": null,
   "id": "5c4dfcf9",
   "metadata": {},
   "outputs": [],
   "source": [
    "# ms.lda(adata=mdata[\"rna\"], labels=\"gene_target\", layer=\"X_pert\")"
   ]
  },
  {
   "cell_type": "code",
   "execution_count": null,
   "id": "91b5cf87",
   "metadata": {},
   "outputs": [],
   "source": [
    "# pt.pl.ms.lda(adata=mdata[\"rna\"])\n",
    "#https://zenodo.org/record/7058382\n",
    "# folders = '/home/awahab/llm-testing/data_sets/'\n",
    "# fp1 = 'SC3_v3_NextGem_DI_CRISPR_A549_5K_Multiplex_count_raw_feature_bc_matrix.h5'\n",
    "# fp2 = 'SC3_v3_NextGem_DI_CRISPR_A549_5K_Multiplex_count_raw_molecule_info.h5'\n",
    "\n",
    "\n",
    "# import h5py\n",
    "# import anndata\n",
    "\n",
    "# # Read the .h5 File\n",
    "# def explore_h5py_group(group, indent=0):\n",
    "#     \"\"\"Recursively print the contents of an h5py group/dataset.\"\"\"\n",
    "#     print(group.data.name)\n",
    "#     items = sorted(group.items())\n",
    "#     for name, item in items:\n",
    "#         if isinstance(item, h5py.Dataset):  # Check if item is a dataset\n",
    "#             print(\"  \" * indent + f\"Dataset: {name} (Shape: {item.shape}, Dtype: {item.dtype})\")\n",
    "#         elif isinstance(item, h5py.Group):  # Check if item is a group\n",
    "#             print(\"  \" * indent + f\"Group: {name}\")\n",
    "#             explore_h5py_group(item, indent + 1)  # Recursive call to explore subgroups\n",
    "\n",
    "# # Open your HDF5 file\n",
    "# with h5py.File(folders + fp1, 'r') as f:\n",
    "#     explore_h5py_group(f)"
   ]
  }
 ],
 "metadata": {
  "kernelspec": {
   "display_name": "Python 3 (ipykernel)",
   "language": "python",
   "name": "python3"
  },
  "language_info": {
   "codemirror_mode": {
    "name": "ipython",
    "version": 3
   },
   "file_extension": ".py",
   "mimetype": "text/x-python",
   "name": "python",
   "nbconvert_exporter": "python",
   "pygments_lexer": "ipython3",
   "version": "3.10.12"
  }
 },
 "nbformat": 4,
 "nbformat_minor": 5
}
