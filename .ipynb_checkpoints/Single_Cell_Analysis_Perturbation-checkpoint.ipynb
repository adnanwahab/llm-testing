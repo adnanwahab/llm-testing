{
 "cells": [
  {
   "cell_type": "code",
   "execution_count": 1,
   "id": "8d4fddc2",
   "metadata": {},
   "outputs": [],
   "source": [
    "import warnings\n",
    "import pandas \n",
    "pandas.set_option('mode.use_inf_as_na', True)\n",
    "\n",
    "warnings.filterwarnings(\"ignore\")\n",
    "warnings.simplefilter(\"ignore\")\n",
    "\n",
    "# This is required to catch warnings when the multiprocessing module is used\n",
    "import os\n",
    "\n",
    "os.environ[\"PYTHONWARNINGS\"] = \"ignore\"\n",
    "# import pertpy as pt\n",
    "import scanpy as sc\n",
    "\n",
    "import pertpy as pt\n",
    "adata = pt.dt.kang_2018()"
   ]
  },
  {
   "cell_type": "code",
   "execution_count": 2,
   "id": "30af6126",
   "metadata": {},
   "outputs": [],
   "source": [
    "# adata.var_keys."
   ]
  },
  {
   "cell_type": "code",
   "execution_count": 3,
   "id": "7ecb19f1",
   "metadata": {},
   "outputs": [],
   "source": [
    "# result = []\n",
    "# json = []\n",
    "# for row in adata.obs.values:\n",
    "#     result.append([item for kev, item in enumerate(row) ])\n",
    "# for row in result: json.append({k: v for k, v in zip(adata.obs.columns.tolist(), row)})\n",
    "\n",
    "# print(json)\n",
    "#adata.var.highly_variable.keys"
   ]
  },
  {
   "cell_type": "code",
   "execution_count": 4,
   "id": "0603158c",
   "metadata": {},
   "outputs": [
    {
     "data": {
      "text/html": [
       "<div>\n",
       "<style scoped>\n",
       "    .dataframe tbody tr th:only-of-type {\n",
       "        vertical-align: middle;\n",
       "    }\n",
       "\n",
       "    .dataframe tbody tr th {\n",
       "        vertical-align: top;\n",
       "    }\n",
       "\n",
       "    .dataframe thead th {\n",
       "        text-align: right;\n",
       "    }\n",
       "</style>\n",
       "<table border=\"1\" class=\"dataframe\">\n",
       "  <thead>\n",
       "    <tr style=\"text-align: right;\">\n",
       "      <th></th>\n",
       "      <th>name</th>\n",
       "    </tr>\n",
       "    <tr>\n",
       "      <th>index</th>\n",
       "      <th></th>\n",
       "    </tr>\n",
       "  </thead>\n",
       "  <tbody>\n",
       "    <tr>\n",
       "      <th>AL627309.1</th>\n",
       "      <td>AL627309.1</td>\n",
       "    </tr>\n",
       "    <tr>\n",
       "      <th>RP11-206L10.2</th>\n",
       "      <td>RP11-206L10.2</td>\n",
       "    </tr>\n",
       "    <tr>\n",
       "      <th>RP11-206L10.9</th>\n",
       "      <td>RP11-206L10.9</td>\n",
       "    </tr>\n",
       "    <tr>\n",
       "      <th>FAM87B</th>\n",
       "      <td>FAM87B</td>\n",
       "    </tr>\n",
       "    <tr>\n",
       "      <th>LINC00115</th>\n",
       "      <td>LINC00115</td>\n",
       "    </tr>\n",
       "    <tr>\n",
       "      <th>...</th>\n",
       "      <td>...</td>\n",
       "    </tr>\n",
       "    <tr>\n",
       "      <th>C21orf58</th>\n",
       "      <td>C21orf58</td>\n",
       "    </tr>\n",
       "    <tr>\n",
       "      <th>PCNT</th>\n",
       "      <td>PCNT</td>\n",
       "    </tr>\n",
       "    <tr>\n",
       "      <th>DIP2A</th>\n",
       "      <td>DIP2A</td>\n",
       "    </tr>\n",
       "    <tr>\n",
       "      <th>S100B</th>\n",
       "      <td>S100B</td>\n",
       "    </tr>\n",
       "    <tr>\n",
       "      <th>PRMT2</th>\n",
       "      <td>PRMT2</td>\n",
       "    </tr>\n",
       "  </tbody>\n",
       "</table>\n",
       "<p>15706 rows × 1 columns</p>\n",
       "</div>"
      ],
      "text/plain": [
       "                        name\n",
       "index                       \n",
       "AL627309.1        AL627309.1\n",
       "RP11-206L10.2  RP11-206L10.2\n",
       "RP11-206L10.9  RP11-206L10.9\n",
       "FAM87B                FAM87B\n",
       "LINC00115          LINC00115\n",
       "...                      ...\n",
       "C21orf58            C21orf58\n",
       "PCNT                    PCNT\n",
       "DIP2A                  DIP2A\n",
       "S100B                  S100B\n",
       "PRMT2                  PRMT2\n",
       "\n",
       "[15706 rows x 1 columns]"
      ]
     },
     "execution_count": 4,
     "metadata": {},
     "output_type": "execute_result"
    }
   ],
   "source": [
    "adata.var"
   ]
  },
  {
   "cell_type": "code",
   "execution_count": 68,
   "id": "ce738036",
   "metadata": {},
   "outputs": [
    {
     "name": "stdout",
     "output_type": "stream",
     "text": [
      "WARNING: adata.X seems to be already log-transformed.\n"
     ]
    }
   ],
   "source": [
    "\n",
    "sc.pp.log1p(adata)\n",
    "sc.pp.highly_variable_genes(adata)\n",
    "\n",
    "#hv_genes = filtered_keys = df[df['column_name'] == True].index.tolist()\n",
    "\n",
    "#normal_genes = filtered_keys = df[df['column_name'] == False].index.tolist()\n",
    "\n",
    "#print(hv_genes, normal_genes)\n",
    "hv_genes = (list(adata.var[adata.var['highly_variable'] == True].index))\n",
    "normal_genes = (list(adata.var_names))\n",
    "\n",
    "hv_columns = [i for i,val in enumerate(normal_genes) if val in hv_genes]\n",
    "#hv_genes"
   ]
  },
  {
   "cell_type": "code",
   "execution_count": 69,
   "id": "3adac277",
   "metadata": {},
   "outputs": [
    {
     "data": {
      "text/plain": [
       "659"
      ]
     },
     "execution_count": 69,
     "metadata": {},
     "output_type": "execute_result"
    }
   ],
   "source": [
    "len(hv_columns)"
   ]
  },
  {
   "cell_type": "code",
   "execution_count": 70,
   "id": "5024bce0",
   "metadata": {},
   "outputs": [],
   "source": [
    "#preprocess\n",
    "#batchcontrol\n",
    "#clustering\n",
    "#cell type annotation\n",
    "#embedding\n",
    "#reverse transcriptome\n",
    "#differential expression\n",
    "\n",
    "#rna velocity -> predicts the future state \n",
    "#predict the probability of unseen perturbations\n",
    "#test: first data set => output list of perturbations \n",
    "# take a 2nd dataset and get list of perturbations + their probability \n",
    "\n",
    "\n",
    "#representation learning (in particular, self-supervised, multi-view, and transfer learning\n",
    "#https://registry.opendata.aws/tabula-muris/#usageexamples\n",
    "\n",
    "#see what preprocessing is needed to get better accuracy\n",
    "\n",
    "##load data\n",
    "\n",
    "##import premade model => output list of predicted unseen perturbation\n",
    "\n",
    "#write custom model. get better accuracy"
   ]
  },
  {
   "cell_type": "code",
   "execution_count": 71,
   "id": "819836d4",
   "metadata": {},
   "outputs": [
    {
     "data": {
      "text/plain": [
       "5"
      ]
     },
     "execution_count": 71,
     "metadata": {},
     "output_type": "execute_result"
    }
   ],
   "source": [
    "sc.pp.calculate_qc_metrics(adata)\n",
    "5"
   ]
  },
  {
   "cell_type": "code",
   "execution_count": 72,
   "id": "c17792b3",
   "metadata": {},
   "outputs": [],
   "source": [
    "import requests\n",
    "import time\n",
    "from multiprocessing import cpu_count\n",
    "from multiprocessing.pool import ThreadPool\n",
    "\n",
    "def download_parallel(args):\n",
    "    cpus = cpu_count()\n",
    "    results = ThreadPool(cpus - 1).imap_unordered(download_url, args)\n",
    "    for result in results:\n",
    "        print('url:', result[0], 'time (s):', result[1])"
   ]
  },
  {
   "cell_type": "code",
   "execution_count": 73,
   "id": "23a91c7f",
   "metadata": {},
   "outputs": [],
   "source": [
    "import numpy as np\n",
    "import torch\n",
    "from torch.utils.data import Dataset, DataLoader"
   ]
  },
  {
   "cell_type": "code",
   "execution_count": 74,
   "id": "619d5e80",
   "metadata": {},
   "outputs": [],
   "source": [
    "# gene_expressed = [\"string1\", \"string2\", \"string3\"]\n",
    "\n",
    "    \n",
    "# strings = np.array(gene_expressed)\n",
    "# #adata.obs['genes_expressed'] = strings\n",
    "# coordinates = []\n",
    "cx = adata.X\n",
    "cx = cx.tocoo()\n",
    "\n",
    "# #delete non highly variable genes from matrix\n",
    "\n",
    "\n",
    "# for i,j,v in zip(cx.row, cx.col, cx.data):\n",
    "#     if i in hv_columns: coordinates += [[i,j,v]]\n",
    "# for coord in coordinates:\n",
    "#     coord[1] = adata.var_names[coord[1]]\n",
    "\n",
    "#print(coordinates)"
   ]
  },
  {
   "cell_type": "code",
   "execution_count": 75,
   "id": "7491d338",
   "metadata": {},
   "outputs": [
    {
     "data": {
      "text/html": [
       "<div>\n",
       "<style scoped>\n",
       "    .dataframe tbody tr th:only-of-type {\n",
       "        vertical-align: middle;\n",
       "    }\n",
       "\n",
       "    .dataframe tbody tr th {\n",
       "        vertical-align: top;\n",
       "    }\n",
       "\n",
       "    .dataframe thead th {\n",
       "        text-align: right;\n",
       "    }\n",
       "</style>\n",
       "<table border=\"1\" class=\"dataframe\">\n",
       "  <thead>\n",
       "    <tr style=\"text-align: right;\">\n",
       "      <th></th>\n",
       "      <th>nCount_RNA</th>\n",
       "      <th>nFeature_RNA</th>\n",
       "      <th>tsne1</th>\n",
       "      <th>tsne2</th>\n",
       "      <th>condition</th>\n",
       "      <th>cluster</th>\n",
       "      <th>cell_type</th>\n",
       "      <th>replicate</th>\n",
       "      <th>nCount_SCT</th>\n",
       "      <th>nFeature_SCT</th>\n",
       "      <th>integrated_snn_res.0.4</th>\n",
       "      <th>seurat_clusters</th>\n",
       "      <th>geneExpressionCount</th>\n",
       "    </tr>\n",
       "    <tr>\n",
       "      <th>index</th>\n",
       "      <th></th>\n",
       "      <th></th>\n",
       "      <th></th>\n",
       "      <th></th>\n",
       "      <th></th>\n",
       "      <th></th>\n",
       "      <th></th>\n",
       "      <th></th>\n",
       "      <th></th>\n",
       "      <th></th>\n",
       "      <th></th>\n",
       "      <th></th>\n",
       "      <th></th>\n",
       "    </tr>\n",
       "  </thead>\n",
       "  <tbody>\n",
       "    <tr>\n",
       "      <th>AAACATACATTTCC-1</th>\n",
       "      <td>3017.0</td>\n",
       "      <td>877</td>\n",
       "      <td>-27.640373</td>\n",
       "      <td>14.966629</td>\n",
       "      <td>control</td>\n",
       "      <td>9</td>\n",
       "      <td>CD14+ Monocytes</td>\n",
       "      <td>patient_1016</td>\n",
       "      <td>1704.0</td>\n",
       "      <td>711</td>\n",
       "      <td>1</td>\n",
       "      <td>1</td>\n",
       "      <td>234.670774</td>\n",
       "    </tr>\n",
       "    <tr>\n",
       "      <th>AAACATACCAGAAA-1</th>\n",
       "      <td>2481.0</td>\n",
       "      <td>713</td>\n",
       "      <td>-27.493646</td>\n",
       "      <td>28.924885</td>\n",
       "      <td>control</td>\n",
       "      <td>9</td>\n",
       "      <td>CD14+ Monocytes</td>\n",
       "      <td>patient_1256</td>\n",
       "      <td>1614.0</td>\n",
       "      <td>662</td>\n",
       "      <td>1</td>\n",
       "      <td>1</td>\n",
       "      <td>214.105606</td>\n",
       "    </tr>\n",
       "    <tr>\n",
       "      <th>AAACATACCATGCA-1</th>\n",
       "      <td>703.0</td>\n",
       "      <td>337</td>\n",
       "      <td>-10.468194</td>\n",
       "      <td>-5.984389</td>\n",
       "      <td>control</td>\n",
       "      <td>3</td>\n",
       "      <td>CD4 T cells</td>\n",
       "      <td>patient_1488</td>\n",
       "      <td>908.0</td>\n",
       "      <td>337</td>\n",
       "      <td>6</td>\n",
       "      <td>6</td>\n",
       "      <td>45.892522</td>\n",
       "    </tr>\n",
       "    <tr>\n",
       "      <th>AAACATACCTCGCT-1</th>\n",
       "      <td>3420.0</td>\n",
       "      <td>850</td>\n",
       "      <td>-24.367997</td>\n",
       "      <td>20.429285</td>\n",
       "      <td>control</td>\n",
       "      <td>9</td>\n",
       "      <td>CD14+ Monocytes</td>\n",
       "      <td>patient_1256</td>\n",
       "      <td>1738.0</td>\n",
       "      <td>653</td>\n",
       "      <td>1</td>\n",
       "      <td>1</td>\n",
       "      <td>226.106354</td>\n",
       "    </tr>\n",
       "    <tr>\n",
       "      <th>AAACATACCTGGTA-1</th>\n",
       "      <td>3158.0</td>\n",
       "      <td>1111</td>\n",
       "      <td>27.952170</td>\n",
       "      <td>24.159738</td>\n",
       "      <td>control</td>\n",
       "      <td>4</td>\n",
       "      <td>Dendritic cells</td>\n",
       "      <td>patient_1039</td>\n",
       "      <td>1857.0</td>\n",
       "      <td>928</td>\n",
       "      <td>12</td>\n",
       "      <td>12</td>\n",
       "      <td>212.404950</td>\n",
       "    </tr>\n",
       "    <tr>\n",
       "      <th>...</th>\n",
       "      <td>...</td>\n",
       "      <td>...</td>\n",
       "      <td>...</td>\n",
       "      <td>...</td>\n",
       "      <td>...</td>\n",
       "      <td>...</td>\n",
       "      <td>...</td>\n",
       "      <td>...</td>\n",
       "      <td>...</td>\n",
       "      <td>...</td>\n",
       "      <td>...</td>\n",
       "      <td>...</td>\n",
       "      <td>...</td>\n",
       "    </tr>\n",
       "    <tr>\n",
       "      <th>TTTGCATGCCTGAA-2</th>\n",
       "      <td>1033.0</td>\n",
       "      <td>468</td>\n",
       "      <td>18.268321</td>\n",
       "      <td>1.058202</td>\n",
       "      <td>stimulated</td>\n",
       "      <td>6</td>\n",
       "      <td>CD4 T cells</td>\n",
       "      <td>patient_1244</td>\n",
       "      <td>1128.0</td>\n",
       "      <td>468</td>\n",
       "      <td>2</td>\n",
       "      <td>2</td>\n",
       "      <td>0.000000</td>\n",
       "    </tr>\n",
       "    <tr>\n",
       "      <th>TTTGCATGCCTGTC-2</th>\n",
       "      <td>2116.0</td>\n",
       "      <td>819</td>\n",
       "      <td>-11.563067</td>\n",
       "      <td>2.574095</td>\n",
       "      <td>stimulated</td>\n",
       "      <td>4</td>\n",
       "      <td>B cells</td>\n",
       "      <td>patient_1256</td>\n",
       "      <td>1669.0</td>\n",
       "      <td>799</td>\n",
       "      <td>3</td>\n",
       "      <td>3</td>\n",
       "      <td>0.000000</td>\n",
       "    </tr>\n",
       "    <tr>\n",
       "      <th>TTTGCATGCTAAGC-2</th>\n",
       "      <td>1522.0</td>\n",
       "      <td>523</td>\n",
       "      <td>25.142392</td>\n",
       "      <td>6.603815</td>\n",
       "      <td>stimulated</td>\n",
       "      <td>6</td>\n",
       "      <td>CD4 T cells</td>\n",
       "      <td>patient_107</td>\n",
       "      <td>1422.0</td>\n",
       "      <td>523</td>\n",
       "      <td>0</td>\n",
       "      <td>0</td>\n",
       "      <td>0.000000</td>\n",
       "    </tr>\n",
       "    <tr>\n",
       "      <th>TTTGCATGGGACGA-2</th>\n",
       "      <td>1143.0</td>\n",
       "      <td>503</td>\n",
       "      <td>14.359657</td>\n",
       "      <td>10.965601</td>\n",
       "      <td>stimulated</td>\n",
       "      <td>6</td>\n",
       "      <td>CD4 T cells</td>\n",
       "      <td>patient_1488</td>\n",
       "      <td>1185.0</td>\n",
       "      <td>503</td>\n",
       "      <td>0</td>\n",
       "      <td>0</td>\n",
       "      <td>0.000000</td>\n",
       "    </tr>\n",
       "    <tr>\n",
       "      <th>TTTGCATGTCTTAC-2</th>\n",
       "      <td>1031.0</td>\n",
       "      <td>421</td>\n",
       "      <td>14.572118</td>\n",
       "      <td>-4.713942</td>\n",
       "      <td>stimulated</td>\n",
       "      <td>5</td>\n",
       "      <td>CD4 T cells</td>\n",
       "      <td>patient_1016</td>\n",
       "      <td>1144.0</td>\n",
       "      <td>419</td>\n",
       "      <td>2</td>\n",
       "      <td>2</td>\n",
       "      <td>0.000000</td>\n",
       "    </tr>\n",
       "  </tbody>\n",
       "</table>\n",
       "<p>24673 rows × 13 columns</p>\n",
       "</div>"
      ],
      "text/plain": [
       "                  nCount_RNA  nFeature_RNA      tsne1      tsne2   condition  cluster        cell_type     replicate  nCount_SCT  \\\n",
       "index                                                                                                                              \n",
       "AAACATACATTTCC-1      3017.0           877 -27.640373  14.966629     control        9  CD14+ Monocytes  patient_1016      1704.0   \n",
       "AAACATACCAGAAA-1      2481.0           713 -27.493646  28.924885     control        9  CD14+ Monocytes  patient_1256      1614.0   \n",
       "AAACATACCATGCA-1       703.0           337 -10.468194  -5.984389     control        3      CD4 T cells  patient_1488       908.0   \n",
       "AAACATACCTCGCT-1      3420.0           850 -24.367997  20.429285     control        9  CD14+ Monocytes  patient_1256      1738.0   \n",
       "AAACATACCTGGTA-1      3158.0          1111  27.952170  24.159738     control        4  Dendritic cells  patient_1039      1857.0   \n",
       "...                      ...           ...        ...        ...         ...      ...              ...           ...         ...   \n",
       "TTTGCATGCCTGAA-2      1033.0           468  18.268321   1.058202  stimulated        6      CD4 T cells  patient_1244      1128.0   \n",
       "TTTGCATGCCTGTC-2      2116.0           819 -11.563067   2.574095  stimulated        4          B cells  patient_1256      1669.0   \n",
       "TTTGCATGCTAAGC-2      1522.0           523  25.142392   6.603815  stimulated        6      CD4 T cells   patient_107      1422.0   \n",
       "TTTGCATGGGACGA-2      1143.0           503  14.359657  10.965601  stimulated        6      CD4 T cells  patient_1488      1185.0   \n",
       "TTTGCATGTCTTAC-2      1031.0           421  14.572118  -4.713942  stimulated        5      CD4 T cells  patient_1016      1144.0   \n",
       "\n",
       "                  nFeature_SCT integrated_snn_res.0.4 seurat_clusters  geneExpressionCount  \n",
       "index                                                                                       \n",
       "AAACATACATTTCC-1           711                      1               1           234.670774  \n",
       "AAACATACCAGAAA-1           662                      1               1           214.105606  \n",
       "AAACATACCATGCA-1           337                      6               6            45.892522  \n",
       "AAACATACCTCGCT-1           653                      1               1           226.106354  \n",
       "AAACATACCTGGTA-1           928                     12              12           212.404950  \n",
       "...                        ...                    ...             ...                  ...  \n",
       "TTTGCATGCCTGAA-2           468                      2               2             0.000000  \n",
       "TTTGCATGCCTGTC-2           799                      3               3             0.000000  \n",
       "TTTGCATGCTAAGC-2           523                      0               0             0.000000  \n",
       "TTTGCATGGGACGA-2           503                      0               0             0.000000  \n",
       "TTTGCATGTCTTAC-2           419                      2               2             0.000000  \n",
       "\n",
       "[24673 rows x 13 columns]"
      ]
     },
     "execution_count": 75,
     "metadata": {},
     "output_type": "execute_result"
    }
   ],
   "source": [
    "adata.obs\n",
    "#batch removal - one patient at at time\n",
    "#one cell_type at a time \n",
    "#index cell type\n",
    "#index ctrl/stim\n",
    "#"
   ]
  },
  {
   "cell_type": "code",
   "execution_count": 76,
   "id": "e04c40b7",
   "metadata": {},
   "outputs": [],
   "source": [
    "from collections import defaultdict\n",
    "rowGeneExpression = defaultdict(int)\n",
    "rowGeneExpression2 = defaultdict(dict)\n",
    "\n",
    "\n",
    "import math\n",
    "math.floor\n",
    "df = adata.obs\n",
    "end = 50 if True else -1\n",
    "for column in hv_columns:\n",
    "    for row_id in range(math.floor(float(df.shape[0])))[:end]:\n",
    "        rowGeneExpression[row_id] += adata.X[row_id, column]\n",
    "        #rowGeneExpression2[row_id][column] = adata.X[row_id, column]\n"
   ]
  },
  {
   "cell_type": "code",
   "execution_count": null,
   "id": "3225e687",
   "metadata": {},
   "outputs": [],
   "source": []
  },
  {
   "cell_type": "code",
   "execution_count": 77,
   "id": "37853254",
   "metadata": {},
   "outputs": [],
   "source": [
    "df = adata.obs\n",
    "dependent_variables =  [rowGeneExpression[row] for row in range(df.shape[0])]\n",
    "df['geneExpressionCount'] = dependent_variables\n",
    "numerical_values = df.select_dtypes(include=[int, float]).values.tolist()\n"
   ]
  },
  {
   "cell_type": "code",
   "execution_count": 78,
   "id": "9aa9e33d",
   "metadata": {},
   "outputs": [],
   "source": [
    "import torch.optim as optim\n",
    "\n",
    "\n",
    "criterion = torch.nn.CrossEntropyLoss()\n",
    "#optimizer = optim.SGD(net.parameters(), lr=0.001, momentum=0.9)\n"
   ]
  },
  {
   "cell_type": "code",
   "execution_count": 79,
   "id": "4e593d4f",
   "metadata": {},
   "outputs": [],
   "source": [
    "dependent_variables = [x / 50 for x in dependent_variables]"
   ]
  },
  {
   "cell_type": "code",
   "execution_count": 80,
   "id": "01957362",
   "metadata": {},
   "outputs": [],
   "source": [
    "from torch import tensor\n",
    "\n",
    "t_dep = tensor(dependent_variables) # pertrubations\n"
   ]
  },
  {
   "cell_type": "code",
   "execution_count": 81,
   "id": "17156f0f",
   "metadata": {},
   "outputs": [
    {
     "data": {
      "text/plain": [
       "tensor([[  3017.0000,    877.0000,    -27.6404,     14.9666,      9.0000,   1704.0000,    711.0000,    135.0695],\n",
       "        [  2481.0000,    713.0000,    -27.4936,     28.9249,      9.0000,   1614.0000,    662.0000,    126.1152],\n",
       "        [   703.0000,    337.0000,    -10.4682,     -5.9844,      3.0000,    908.0000,    337.0000,     26.5247],\n",
       "        [  3420.0000,    850.0000,    -24.3680,     20.4293,      9.0000,   1738.0000,    653.0000,    130.6354],\n",
       "        [  3158.0000,   1111.0000,     27.9522,     24.1597,      4.0000,   1857.0000,    928.0000,    108.0558],\n",
       "        [  1869.0000,    635.0000,     -0.4702,    -25.3987,      5.0000,   1525.0000,    634.0000,     32.5236],\n",
       "        [  1142.0000,    436.0000,    -15.9062,     20.0853,      9.0000,   1157.0000,    436.0000,     77.6361],\n",
       "        ...,\n",
       "        [   635.0000,    424.0000,     -6.6479,     -5.5475,      3.0000,    882.0000,    423.0000,      0.0000],\n",
       "        [  1340.0000,    480.0000,      7.7202,     33.3402,      8.0000,   1324.0000,    480.0000,      0.0000],\n",
       "        [  1033.0000,    468.0000,     18.2683,      1.0582,      6.0000,   1128.0000,    468.0000,      0.0000],\n",
       "        [  2116.0000,    819.0000,    -11.5631,      2.5741,      4.0000,   1669.0000,    799.0000,      0.0000],\n",
       "        [  1522.0000,    523.0000,     25.1424,      6.6038,      6.0000,   1422.0000,    523.0000,      0.0000],\n",
       "        [  1143.0000,    503.0000,     14.3597,     10.9656,      6.0000,   1185.0000,    503.0000,      0.0000],\n",
       "        [  1031.0000,    421.0000,     14.5721,     -4.7139,      5.0000,   1144.0000,    419.0000,      0.0000]])"
      ]
     },
     "execution_count": 81,
     "metadata": {},
     "output_type": "execute_result"
    }
   ],
   "source": [
    "t_indep = tensor(numerical_values, dtype=torch.float)\n",
    "t_indep"
   ]
  },
  {
   "cell_type": "code",
   "execution_count": 82,
   "id": "9294b33e",
   "metadata": {},
   "outputs": [
    {
     "data": {
      "text/plain": [
       "8"
      ]
     },
     "execution_count": 82,
     "metadata": {},
     "output_type": "execute_result"
    }
   ],
   "source": [
    "t_indep.shape[1]"
   ]
  },
  {
   "cell_type": "code",
   "execution_count": 83,
   "id": "6564bf50",
   "metadata": {},
   "outputs": [
    {
     "data": {
      "text/plain": [
       "tensor([-0.0558, -0.2434,  0.1778,  0.0342,  0.4743,  0.0667,  0.3610,  0.3110])"
      ]
     },
     "execution_count": 83,
     "metadata": {},
     "output_type": "execute_result"
    }
   ],
   "source": [
    "\n",
    "n_coeff = t_indep.shape[1]\n",
    "coeffs = torch.rand(n_coeff)-0.5\n",
    "coeffs"
   ]
  },
  {
   "cell_type": "code",
   "execution_count": 84,
   "id": "88297088",
   "metadata": {},
   "outputs": [],
   "source": [
    "def acc(coeffs): return (val_dep.bool()==(calc_preds(coeffs, val_indep)>0.1)).float().mean()\n",
    "def calc_preds(coeffs, indeps): return (coeffs * indeps).sum(axis=1)\n",
    "def calc_preds(coeffs, indeps): return torch.sigmoid((indeps*coeffs).sum(axis=1))\n",
    "\n",
    "def calc_loss(coeffs, indeps, deps): return torch.abs(calc_preds(coeffs, indeps)-deps).mean()"
   ]
  },
  {
   "cell_type": "code",
   "execution_count": 85,
   "id": "5dfdf216",
   "metadata": {},
   "outputs": [
    {
     "data": {
      "text/plain": [
       "tensor(70.7701, dtype=torch.float64)"
      ]
     },
     "execution_count": 85,
     "metadata": {},
     "output_type": "execute_result"
    }
   ],
   "source": [
    "preds = (t_indep*coeffs).sum(axis=1)\n",
    "loss = torch.abs(preds-t_dep).mean()\n",
    "loss = calc_loss(coeffs, t_indep, t_dep)\n",
    "\n",
    "loss = torch.abs(preds-t_dep).mean()\n",
    "loss"
   ]
  },
  {
   "cell_type": "code",
   "execution_count": 86,
   "id": "bab45dde",
   "metadata": {},
   "outputs": [],
   "source": [
    "import torch, numpy as np, pandas as pd\n",
    "np.set_printoptions(linewidth=140)\n",
    "torch.set_printoptions(linewidth=140, sci_mode=False, edgeitems=7)\n",
    "pd.set_option('display.width', 140)"
   ]
  },
  {
   "cell_type": "code",
   "execution_count": 87,
   "id": "955bcb18",
   "metadata": {},
   "outputs": [],
   "source": [
    "vals,indices = t_indep.max(dim=0)\n",
    "t_indep = t_indep / vals"
   ]
  },
  {
   "cell_type": "code",
   "execution_count": 88,
   "id": "2926f2b8",
   "metadata": {},
   "outputs": [
    {
     "data": {
      "text/plain": [
       "tensor([[-0.0142, -0.0774, -0.1119,  0.0119,  0.4269,  0.0377,  0.1810,  0.2541],\n",
       "        [-0.0117, -0.0630, -0.1113,  0.0230,  0.4269,  0.0357,  0.1685,  0.2372],\n",
       "        [-0.0033, -0.0298, -0.0424, -0.0048,  0.1423,  0.0201,  0.0858,  0.0499],\n",
       "        [-0.0161, -0.0751, -0.0986,  0.0163,  0.4269,  0.0385,  0.1662,  0.2457],\n",
       "        [-0.0149, -0.0981,  0.1131,  0.0192,  0.1897,  0.0411,  0.2362,  0.2032],\n",
       "        [-0.0088, -0.0561, -0.0019, -0.0202,  0.2372,  0.0337,  0.1614,  0.0612],\n",
       "        [-0.0054, -0.0385, -0.0644,  0.0160,  0.4269,  0.0256,  0.1110,  0.1460],\n",
       "        ...,\n",
       "        [-0.0030, -0.0374, -0.0269, -0.0044,  0.1423,  0.0195,  0.1077,  0.0000],\n",
       "        [-0.0063, -0.0424,  0.0313,  0.0265,  0.3795,  0.0293,  0.1222,  0.0000],\n",
       "        [-0.0049, -0.0413,  0.0739,  0.0008,  0.2846,  0.0250,  0.1191,  0.0000],\n",
       "        [-0.0100, -0.0723, -0.0468,  0.0020,  0.1897,  0.0369,  0.2034,  0.0000],\n",
       "        [-0.0072, -0.0462,  0.1018,  0.0053,  0.2846,  0.0315,  0.1331,  0.0000],\n",
       "        [-0.0054, -0.0444,  0.0581,  0.0087,  0.2846,  0.0262,  0.1280,  0.0000],\n",
       "        [-0.0049, -0.0372,  0.0590, -0.0038,  0.2372,  0.0253,  0.1067,  0.0000]])"
      ]
     },
     "execution_count": 88,
     "metadata": {},
     "output_type": "execute_result"
    }
   ],
   "source": [
    "t_indep*coeffs"
   ]
  },
  {
   "cell_type": "code",
   "execution_count": 89,
   "id": "8fc0dfb8",
   "metadata": {},
   "outputs": [],
   "source": [
    "t_indep = t_indep / vals"
   ]
  },
  {
   "cell_type": "code",
   "execution_count": 90,
   "id": "25fea016",
   "metadata": {},
   "outputs": [
    {
     "data": {
      "text/plain": [
       "tensor([-0.0558, -0.2434,  0.1778,  0.0342,  0.4743,  0.0667,  0.3610,  0.3110], requires_grad=True)"
      ]
     },
     "execution_count": 90,
     "metadata": {},
     "output_type": "execute_result"
    }
   ],
   "source": [
    "coeffs.requires_grad_()\n"
   ]
  },
  {
   "cell_type": "code",
   "execution_count": 91,
   "id": "6c5c1597",
   "metadata": {},
   "outputs": [],
   "source": [
    "loss = calc_loss(coeffs, t_indep, t_dep)\n",
    "\n",
    "loss.backward()"
   ]
  },
  {
   "cell_type": "code",
   "execution_count": 92,
   "id": "31babe26",
   "metadata": {},
   "outputs": [
    {
     "data": {
      "text/plain": [
       "tensor([     0.0000,      0.0000,      0.0001,      0.0000,      0.0161,      0.0000,      0.0001,     -0.0000])"
      ]
     },
     "execution_count": 92,
     "metadata": {},
     "output_type": "execute_result"
    }
   ],
   "source": [
    "coeffs.grad"
   ]
  },
  {
   "cell_type": "code",
   "execution_count": 93,
   "id": "7f25fe0f",
   "metadata": {},
   "outputs": [],
   "source": [
    "independent_variables = pd.DataFrame(numerical_values)"
   ]
  },
  {
   "cell_type": "code",
   "execution_count": 94,
   "id": "f6d67306",
   "metadata": {},
   "outputs": [],
   "source": [
    "from fastai.data.transforms import RandomSplitter\n",
    "trn_split,val_split=RandomSplitter(seed=42)(independent_variables)"
   ]
  },
  {
   "cell_type": "code",
   "execution_count": 95,
   "id": "42738fc9",
   "metadata": {},
   "outputs": [],
   "source": [
    "trn_indep,val_indep = t_indep[trn_split],t_indep[val_split]\n",
    "trn_dep,val_dep = t_dep[trn_split],t_dep[val_split]\n",
    "#len(trn_indep),len(val_indep)"
   ]
  },
  {
   "cell_type": "code",
   "execution_count": 96,
   "id": "e76101ef",
   "metadata": {},
   "outputs": [
    {
     "name": "stdout",
     "output_type": "stream",
     "text": [
      "tensor(0.5080, dtype=torch.float64)\n"
     ]
    }
   ],
   "source": [
    "loss = calc_loss(coeffs, t_indep, t_dep)\n",
    "loss.backward()\n",
    "with torch.no_grad():\n",
    "    coeffs.sub_(coeffs.grad * 0.1)\n",
    "    coeffs.grad.zero_()\n",
    "    print(calc_loss(coeffs, t_indep, t_dep))"
   ]
  },
  {
   "cell_type": "code",
   "execution_count": 97,
   "id": "1034ada7",
   "metadata": {},
   "outputs": [],
   "source": [
    "\n",
    "\n",
    "\n",
    "\n",
    "def update_coeffs(coeffs, lr):\n",
    "    coeffs.sub_(coeffs.grad * lr)\n",
    "    coeffs.grad.zero_()"
   ]
  },
  {
   "cell_type": "code",
   "execution_count": 98,
   "id": "04dbc171",
   "metadata": {},
   "outputs": [],
   "source": [
    "def one_epoch(coeffs, lr):\n",
    "    loss = calc_loss(coeffs, trn_indep, trn_dep)\n",
    "    loss.backward()\n",
    "    with torch.no_grad(): update_coeffs(coeffs, lr)\n",
    "    print(f\"{loss:.3f}\", end=\"; \")"
   ]
  },
  {
   "cell_type": "code",
   "execution_count": 99,
   "id": "8b06960b",
   "metadata": {},
   "outputs": [
    {
     "data": {
      "text/plain": [
       "tensor([0.2168, 0.6564, 0.1267, 0.3521, 0.0668, 0.2042, 0.4393, 0.1597])"
      ]
     },
     "execution_count": 99,
     "metadata": {},
     "output_type": "execute_result"
    }
   ],
   "source": [
    "def init_coeffs(): return (torch.rand(n_coeff)).requires_grad_()\n",
    "\n",
    "\n",
    "torch.rand(n_coeff)"
   ]
  },
  {
   "cell_type": "code",
   "execution_count": 100,
   "id": "e0499927",
   "metadata": {},
   "outputs": [],
   "source": [
    "# def init_coeffs(): \n",
    "#     hiddens = [10, 10] # <-- set this to the size of each hidden layer you want_ \n",
    "#     sizes = [n_coeff] + hiddens + [1] \n",
    "#     n = len(sizes) \n",
    "#     layers = [(torch.rand(sizes[i], sizes[i+1])-0.3)/sizes[i+1]  for i in range(n-1)] \n",
    "#     consts = [(torch.rand(1)[0]-0.5)*0.1 for i in range(n-1)] \n",
    "#     for l in layers+consts:\n",
    "#         l.requires_grad_() \n",
    "#     return layers,consts\n",
    "\n",
    "# import torch.nn.functional as F \n",
    "# def calc_preds(coeffs, indeps): \n",
    "#     layers,consts = coeffs \n",
    "#     n = len(layers) \n",
    "#     res = indeps \n",
    "#     for i,l in enumerate(layers): \n",
    "#         res = res@l + consts[i] \n",
    "#         if i!=n-1: res = F.relu(res) \n",
    "#     return torch.sigmoid(res)\n",
    "\n",
    "# def update_coeffs(coeffs, lr): \n",
    "#     layers, consts = coeffs \n",
    "#     for layer in layers+consts: \n",
    "#         layer.sub_(layer.grad * lr) \n",
    "#         layer.grad.zero_()\n",
    "\n",
    "\n",
    "\n",
    "def train_model(epochs=30, lr=0.01):\n",
    "    coeffs = init_coeffs()\n",
    "    for i in range(epochs): one_epoch(coeffs, lr=lr)\n",
    "    return coeffs"
   ]
  },
  {
   "cell_type": "code",
   "execution_count": 101,
   "id": "201694ec",
   "metadata": {},
   "outputs": [
    {
     "data": {
      "text/plain": [
       "torch.Size([24673, 8])"
      ]
     },
     "execution_count": 101,
     "metadata": {},
     "output_type": "execute_result"
    }
   ],
   "source": [
    "t_indep.shape"
   ]
  },
  {
   "cell_type": "code",
   "execution_count": 102,
   "id": "14ce99b2",
   "metadata": {},
   "outputs": [
    {
     "name": "stdout",
     "output_type": "stream",
     "text": [
      "0.506; 0.506; 0.506; 0.506; 0.506; 0.506; 0.506; 0.506; 0.506; 0.506; 0.506; 0.505; 0.505; 0.505; 0.505; 0.505; 0.505; 0.505; "
     ]
    }
   ],
   "source": [
    "coeffs = train_model(18, lr=0.2)"
   ]
  },
  {
   "cell_type": "code",
   "execution_count": 103,
   "id": "403b7645",
   "metadata": {},
   "outputs": [
    {
     "data": {
      "text/plain": [
       "tensor([0.8913, 0.5993, 0.8357, 0.5418, 0.2899, 0.0137, 0.4507, 0.3668], requires_grad=True)"
      ]
     },
     "execution_count": 103,
     "metadata": {},
     "output_type": "execute_result"
    }
   ],
   "source": [
    "coeffs"
   ]
  },
  {
   "cell_type": "code",
   "execution_count": 104,
   "id": "c6a6df33",
   "metadata": {},
   "outputs": [
    {
     "data": {
      "text/plain": [
       "{'nCount_RNA': tensor(0.8913),\n",
       " 'nFeature_RNA': tensor(0.5993),\n",
       " 'tsne1': tensor(0.8357),\n",
       " 'tsne2': tensor(0.5418),\n",
       " 'cluster': tensor(0.2899),\n",
       " 'nCount_SCT': tensor(0.0137),\n",
       " 'nFeature_SCT': tensor(0.4507),\n",
       " 'geneExpressionCount': tensor(0.3668)}"
      ]
     },
     "execution_count": 104,
     "metadata": {},
     "output_type": "execute_result"
    }
   ],
   "source": [
    "indep_cols = ['nCount_RNA' ,                \n",
    "'nFeature_RNA'    ,             \n",
    "'tsne1'     ,                 \n",
    "'tsne2'  ,                   \n",
    "'cluster'    ,                  \n",
    "'nCount_SCT'   ,              \n",
    "'nFeature_SCT',\n",
    "'geneExpressionCount'\n",
    "]    \n",
    "def show_coeffs(): return dict(zip(indep_cols, coeffs.requires_grad_(False)))\n",
    "show_coeffs()"
   ]
  },
  {
   "cell_type": "code",
   "execution_count": 105,
   "id": "7a2135c9",
   "metadata": {},
   "outputs": [
    {
     "data": {
      "text/plain": [
       "tensor([0.0206, 0.0246, 0.0029, 0.0235, 0.0326, 0.0075, 0.0263,  ..., 0.0043, 0.0365, 0.0258, 0.0076, 0.0304, 0.0270, 0.0196])"
      ]
     },
     "execution_count": 105,
     "metadata": {},
     "output_type": "execute_result"
    }
   ],
   "source": [
    "def calc_preds(coeffs, indeps): return (indeps*coeffs).sum(axis=1)\n",
    "#def calc_preds(coeffs, indeps): return torch.sigmoid(indeps@coeffs)\n",
    "\n",
    "calc_preds(coeffs, t_indep)"
   ]
  },
  {
   "cell_type": "code",
   "execution_count": 106,
   "id": "a1c04066",
   "metadata": {},
   "outputs": [
    {
     "data": {
      "text/plain": [
       "tensor([0.8913, 0.5993, 0.8357, 0.5418, 0.2899, 0.0137, 0.4507, 0.3668])"
      ]
     },
     "execution_count": 106,
     "metadata": {},
     "output_type": "execute_result"
    }
   ],
   "source": [
    "coeffs"
   ]
  },
  {
   "cell_type": "code",
   "execution_count": 107,
   "id": "90b26225",
   "metadata": {},
   "outputs": [
    {
     "data": {
      "text/plain": [
       "14050"
      ]
     },
     "execution_count": 107,
     "metadata": {},
     "output_type": "execute_result"
    }
   ],
   "source": [
    "len([prob for prob in calc_preds(coeffs, t_indep) if prob > .02]) # should be 5000"
   ]
  },
  {
   "cell_type": "code",
   "execution_count": 109,
   "id": "e22a96b2",
   "metadata": {},
   "outputs": [
    {
     "data": {
      "text/plain": [
       "tensor([0.8913, 0.5993, 0.8357, 0.5418, 0.2899, 0.0137, 0.4507, 0.3668])"
      ]
     },
     "execution_count": 109,
     "metadata": {},
     "output_type": "execute_result"
    }
   ],
   "source": [
    "\n",
    "acc(coeffs) \n",
    "coeffs\n",
    "##\n",
    "# predictions = tf.nn.sigmoid(predictions)\n",
    "# predictions = tf.where(predictions < 0.5, 0, 1)\n",
    "\n",
    "# print('Predictions:\\n', predictions.numpy())\n",
    "# print('Labels:\\n', label_batch)\n",
    "\n",
    "# pass in a h5ad file and get back \n",
    "#Predictions:\n",
    "# [0 0 0 0 0 1 1 1 0 0 0 1 0 1 0 0 1 0 1 0 0 0 0 0 1 1 0 1 1 1 0 0]\n",
    "# Perturbations:\n",
    "# [0 0 0 0 0 1 1 1 0 0 0 1 0 1 0 0 1 0 1 0 0 0 0 0 1 0 0 1 1 1 0 0]"
   ]
  },
  {
   "cell_type": "code",
   "execution_count": 45,
   "id": "66dfff8d",
   "metadata": {},
   "outputs": [],
   "source": [
    "\n",
    "# !pip install --quiet hyperopt\n",
    "# !pip install --quiet \"ray[tune]\"\n",
    "# !pip install --quiet scvi-colab\n",
    "# from scvi_colab import install\n",
    "\n",
    "# install()\n",
    "\n",
    "\n",
    "# import ray\n",
    "# import scanpy as sc\n",
    "# import scvi\n",
    "# from ray import tune\n",
    "# from scvi import autotune\n",
    "# model_cls = scvi.model.SCVI\n",
    "# model_cls.setup_anndata(adata)\n",
    "# scvi_tuner = autotune.ModelTuner(model_cls)\n"
   ]
  },
  {
   "cell_type": "code",
   "execution_count": 46,
   "id": "385450cb",
   "metadata": {},
   "outputs": [],
   "source": [
    "def benchmarkResults():\n",
    "    pass"
   ]
  },
  {
   "cell_type": "code",
   "execution_count": 47,
   "id": "7a58542a",
   "metadata": {},
   "outputs": [],
   "source": [
    "import scgen\n",
    "adata.obs.rename({\"label\": \"condition\"}, axis=1, inplace=True)\n",
    "adata.obs[\"condition\"].replace({\"ctrl\": \"control\", \"stim\": \"stimulated\"}, inplace=True)\n",
    "\n",
    "\n",
    "\n",
    "\n",
    "# https://genomebiology.biomedcentral.com/articles/10.1186/s13059-022-02605-1\n",
    "\n",
    "# adata_t = adata[\n",
    "#     ~(\n",
    "#         (adata.obs[\"cell_type\"] == \"CD4 T cells\")\n",
    "#         & (adata.obs[\"condition\"] == \"stimulated\")\n",
    "#     )\n",
    "# ].copy()\n",
    "\n",
    "# cd4t_stim = adata[\n",
    "#     (\n",
    "#         (adata.obs[\"cell_type\"] == \"CD4 T cells\")\n",
    "#         & (adata.obs[\"condition\"] == \"stimulated\")\n",
    "#     )\n",
    "# ].copy()\n",
    "\n",
    "\n",
    "\n",
    "\n",
    "\n",
    "\n",
    "\n",
    "\n",
    "# scgen.SCGEN.setup_anndata(adata_t, batch_key=\"condition\", labels_key=\"cell_type\")\n"
   ]
  },
  {
   "cell_type": "code",
   "execution_count": 48,
   "id": "05b5f88d",
   "metadata": {},
   "outputs": [],
   "source": [
    "# model = scgen.SCGEN(adata_t, n_hidden=800, n_latent=100, n_layers=2)"
   ]
  },
  {
   "cell_type": "code",
   "execution_count": 49,
   "id": "214e901b",
   "metadata": {},
   "outputs": [],
   "source": [
    "# model.train(\n",
    "#     max_epochs=1, batch_size=32, early_stopping=True, early_stopping_patience=25\n",
    "# )"
   ]
  },
  {
   "cell_type": "code",
   "execution_count": 50,
   "id": "4f6f2f98",
   "metadata": {},
   "outputs": [],
   "source": [
    "# adata_t.obsm[\"scgen\"] = model.get_latent_representation()"
   ]
  },
  {
   "cell_type": "code",
   "execution_count": 51,
   "id": "84889a70",
   "metadata": {},
   "outputs": [],
   "source": [
    "# sc.pp.neighbors(adata_t, use_rep=\"scgen\")\n",
    "# sc.tl.umap(adata)"
   ]
  },
  {
   "cell_type": "code",
   "execution_count": 52,
   "id": "5ec93614",
   "metadata": {},
   "outputs": [],
   "source": [
    "# adata_t"
   ]
  },
  {
   "cell_type": "code",
   "execution_count": 53,
   "id": "6a4a815a",
   "metadata": {},
   "outputs": [],
   "source": [
    "# pred, delta = model.predict(\n",
    "#     ctrl_key=\"control\", stim_key=\"stimulated\", celltype_to_predict=\"CD4 T cells\"\n",
    "# )\n",
    "\n",
    "# # we annotate the predicted cells to distinguish them later from ground truth cells.\n",
    "# pred.obs[\"condition\"] = \"prediction\"\n",
    "# print(pred)"
   ]
  },
  {
   "cell_type": "code",
   "execution_count": null,
   "id": "3b7c5ca2",
   "metadata": {},
   "outputs": [],
   "source": []
  },
  {
   "cell_type": "code",
   "execution_count": 54,
   "id": "8d6ca81e",
   "metadata": {},
   "outputs": [],
   "source": [
    "# pred.obs"
   ]
  },
  {
   "cell_type": "code",
   "execution_count": 55,
   "id": "b7007635",
   "metadata": {},
   "outputs": [],
   "source": [
    "\n",
    "# train = adata\n",
    "# ctrl_adata = adata[\n",
    "#     ((adata.obs[\"cell_type\"] == \"CD4 T cells\") & (adata.obs[\"condition\"] == \"control\"))\n",
    "# ]\n",
    "# stim_adata = train[((train.obs['cell_type'] == 'CD4T') & (train.obs['condition'] == 'stimulated'))]\n",
    "\n",
    "# # concatenate pred, control and real CD4 T cells in to one object\n",
    "# eval_adata = ctrl_adata.concatenate(cd4t_stim, pred)"
   ]
  },
  {
   "cell_type": "code",
   "execution_count": 56,
   "id": "c1bc85ef",
   "metadata": {},
   "outputs": [],
   "source": [
    "# sc.tl.pca(eval_adata)\n",
    "# sc.pl.pca(eval_adata, color=\"condition\", frameon=False)"
   ]
  },
  {
   "cell_type": "code",
   "execution_count": null,
   "id": "66b16e35",
   "metadata": {},
   "outputs": [],
   "source": [
    "# cd4t_adata = adata[adata.obs[\"cell_type\"] == \"CD4 T cells\"]"
   ]
  },
  {
   "cell_type": "code",
   "execution_count": null,
   "id": "3508e753",
   "metadata": {},
   "outputs": [],
   "source": [
    "# sc.tl.rank_genes_groups(cd4t_adata, groupby=\"condition\", method=\"wilcoxon\")\n",
    "# diff_genes = cd4t_adata.uns[\"rank_genes_groups\"][\"names\"][\"stimulated\"]\n",
    "# diff_genes"
   ]
  },
  {
   "cell_type": "code",
   "execution_count": null,
   "id": "d35f7e0e",
   "metadata": {},
   "outputs": [],
   "source": []
  },
  {
   "cell_type": "code",
   "execution_count": null,
   "id": "c13e4f3a",
   "metadata": {},
   "outputs": [],
   "source": [
    "# r2_value = model.reg_mean_plot(\n",
    "#     eval_adata,\n",
    "#     axis_keys={\"x\": \"predicted stimulated\", \"y\": \"stimulated\"},\n",
    "#     gene_list=diff_genes[:10],\n",
    "#     top_100_genes=diff_genes,\n",
    "#     labels={\"x\": \"predicted\", \"y\": \"ground truth\"},\n",
    "#     show=True,\n",
    "#     legend=False,\n",
    "# )"
   ]
  },
  {
   "cell_type": "code",
   "execution_count": null,
   "id": "e8c0260c",
   "metadata": {},
   "outputs": [],
   "source": [
    "# sc.pl.violin(eval_adata, keys=\"ISG15\", groupby=\"condition\")"
   ]
  },
  {
   "cell_type": "code",
   "execution_count": null,
   "id": "74c9b210",
   "metadata": {},
   "outputs": [],
   "source": [
    "# import pertpy as pt\n",
    "# import muon as mu\n",
    "# import scanpy as sc"
   ]
  },
  {
   "cell_type": "code",
   "execution_count": null,
   "id": "01d4a34d",
   "metadata": {},
   "outputs": [],
   "source": [
    "# mdata = pt.dt.papalexi_2021()\n",
    "# for col in mdata.obs: print(col)"
   ]
  },
  {
   "cell_type": "code",
   "execution_count": null,
   "id": "6a027076",
   "metadata": {},
   "outputs": [],
   "source": [
    "# sc.pp.normalize_total(mdata[\"rna\"])\n",
    "# sc.pp.log1p(mdata[\"rna\"])\n",
    "# sc.pp.highly_variable_genes(mdata[\"rna\"], subset=True)"
   ]
  },
  {
   "cell_type": "code",
   "execution_count": null,
   "id": "d3ffac33",
   "metadata": {},
   "outputs": [],
   "source": [
    "# mu.prot.pp.clr(mdata[\"adt\"])"
   ]
  },
  {
   "cell_type": "code",
   "execution_count": null,
   "id": "2fe04851",
   "metadata": {},
   "outputs": [],
   "source": [
    "# sc.pp.pca(mdata[\"rna\"])"
   ]
  },
  {
   "cell_type": "code",
   "execution_count": null,
   "id": "ec5308a8",
   "metadata": {},
   "outputs": [],
   "source": [
    "# We calculate neighbors with the cosine distance similarly to the original Seurat implementation\n",
    "# sc.pp.neighbors(mdata[\"rna\"], metric=\"cosine\")"
   ]
  },
  {
   "cell_type": "code",
   "execution_count": null,
   "id": "fd0721f3",
   "metadata": {},
   "outputs": [],
   "source": [
    "# sc.tl.umap(mdata[\"rna\"])"
   ]
  },
  {
   "cell_type": "code",
   "execution_count": null,
   "id": "40747691",
   "metadata": {},
   "outputs": [],
   "source": [
    "# sc.pl.umap(mdata[\"rna\"], color=[\"replicate\", \"Phase\", \"perturbation\"])"
   ]
  },
  {
   "cell_type": "code",
   "execution_count": null,
   "id": "bfcb4db3",
   "metadata": {},
   "outputs": [],
   "source": []
  },
  {
   "cell_type": "code",
   "execution_count": null,
   "id": "c0f25d73",
   "metadata": {},
   "outputs": [],
   "source": [
    "# ms = pt.tl.Mixscape()\n",
    "\n",
    "# ms.perturbation_signature(\n",
    "#     mdata[\"rna\"],\n",
    "#     pert_key=\"perturbation\",\n",
    "#     control=\"NT\",\n",
    "#     split_by=\"replicate\",\n",
    "#     n_neighbors=20,\n",
    "# )"
   ]
  },
  {
   "cell_type": "code",
   "execution_count": null,
   "id": "37ab276f",
   "metadata": {},
   "outputs": [],
   "source": [
    "# We create a copy of the object to recalculate the PCA.\n",
    "# Alternatively we could replace the X of the RNA part of our MuData object with the `X_pert` layer.\n",
    "# adata_pert = mdata[\"rna\"].copy()\n",
    "# adata_pert.X = adata_pert.layers[\"X_pert\"]\n",
    "# sc.pp.pca(adata_pert)\n",
    "# sc.pp.neighbors(adata_pert, metric=\"cosine\")\n",
    "# sc.tl.umap(adata_pert)\n",
    "# sc.pl.umap(adata_pert, color=[\"replicate\", \"Phase\", \"perturbation\"])"
   ]
  },
  {
   "cell_type": "code",
   "execution_count": null,
   "id": "bc3197d7",
   "metadata": {},
   "outputs": [],
   "source": [
    "# ms.mixscape(adata=mdata[\"rna\"], control=\"NT\", labels=\"gene_target\", layer=\"X_pert\")"
   ]
  },
  {
   "cell_type": "code",
   "execution_count": null,
   "id": "545ffa58",
   "metadata": {},
   "outputs": [],
   "source": [
    "# mdata[\"rna\"].obs"
   ]
  },
  {
   "cell_type": "code",
   "execution_count": null,
   "id": "82d8bb65",
   "metadata": {},
   "outputs": [],
   "source": [
    "# pt.pl.ms.perturbscore(\n",
    "#     adata=mdata[\"rna\"], labels=\"gene_target\", target_gene=\"IFNGR2\", color=\"orange\"\n",
    "# )"
   ]
  },
  {
   "cell_type": "code",
   "execution_count": null,
   "id": "cf75ea2b",
   "metadata": {},
   "outputs": [],
   "source": [
    "# sc.settings.set_figure_params(figsize=(10, 10))\n",
    "# pt.pl.ms.violin(\n",
    "#     adata=mdata[\"rna\"],\n",
    "#     target_gene_idents=[\"NT\", \"IFNGR2 NP\", \"IFNGR2 KO\"],\n",
    "#     groupby=\"mixscape_class\",\n",
    "# )"
   ]
  },
  {
   "cell_type": "code",
   "execution_count": null,
   "id": "3ee147bb",
   "metadata": {},
   "outputs": [],
   "source": [
    "# pt.pl.ms.heatmap(\n",
    "#     adata=mdata[\"rna\"],\n",
    "#     labels=\"gene_target\",\n",
    "#     target_gene=\"IFNGR2\",\n",
    "#     layer=\"X_pert\",\n",
    "#     control=\"NT\",\n",
    "# )"
   ]
  },
  {
   "cell_type": "code",
   "execution_count": null,
   "id": "04d44870",
   "metadata": {},
   "outputs": [],
   "source": [
    "# mdata[\"adt\"].obs[\"mixscape_class_global\"] = mdata[\"rna\"].obs[\"mixscape_class_global\"]\n",
    "# pt.pl.ms.violin(\n",
    "#     adata=mdata[\"adt\"],\n",
    "#     target_gene_idents=[\"NT\", \"JAK2\", \"STAT1\", \"IFNGR1\", \"IFNGR2\", \"IRF1\"],\n",
    "#     keys=\"PDL1\",\n",
    "#     groupby=\"gene_target\",\n",
    "#     hue=\"mixscape_class_global\",\n",
    "# )"
   ]
  },
  {
   "cell_type": "code",
   "execution_count": null,
   "id": "5c4dfcf9",
   "metadata": {},
   "outputs": [],
   "source": [
    "# ms.lda(adata=mdata[\"rna\"], labels=\"gene_target\", layer=\"X_pert\")"
   ]
  },
  {
   "cell_type": "code",
   "execution_count": null,
   "id": "91b5cf87",
   "metadata": {},
   "outputs": [],
   "source": [
    "# pt.pl.ms.lda(adata=mdata[\"rna\"])\n",
    "#https://zenodo.org/record/7058382\n",
    "# folders = '/home/awahab/llm-testing/data_sets/'\n",
    "# fp1 = 'SC3_v3_NextGem_DI_CRISPR_A549_5K_Multiplex_count_raw_feature_bc_matrix.h5'\n",
    "# fp2 = 'SC3_v3_NextGem_DI_CRISPR_A549_5K_Multiplex_count_raw_molecule_info.h5'\n",
    "\n",
    "\n",
    "# import h5py\n",
    "# import anndata\n",
    "\n",
    "# # Read the .h5 File\n",
    "# def explore_h5py_group(group, indent=0):\n",
    "#     \"\"\"Recursively print the contents of an h5py group/dataset.\"\"\"\n",
    "#     print(group.data.name)\n",
    "#     items = sorted(group.items())\n",
    "#     for name, item in items:\n",
    "#         if isinstance(item, h5py.Dataset):  # Check if item is a dataset\n",
    "#             print(\"  \" * indent + f\"Dataset: {name} (Shape: {item.shape}, Dtype: {item.dtype})\")\n",
    "#         elif isinstance(item, h5py.Group):  # Check if item is a group\n",
    "#             print(\"  \" * indent + f\"Group: {name}\")\n",
    "#             explore_h5py_group(item, indent + 1)  # Recursive call to explore subgroups\n",
    "\n",
    "# # Open your HDF5 file\n",
    "# with h5py.File(folders + fp1, 'r') as f:\n",
    "#     explore_h5py_group(f)"
   ]
  }
 ],
 "metadata": {
  "kernelspec": {
   "display_name": "Python 3 (ipykernel)",
   "language": "python",
   "name": "python3"
  },
  "language_info": {
   "codemirror_mode": {
    "name": "ipython",
    "version": 3
   },
   "file_extension": ".py",
   "mimetype": "text/x-python",
   "name": "python",
   "nbconvert_exporter": "python",
   "pygments_lexer": "ipython3",
   "version": "3.10.12"
  }
 },
 "nbformat": 4,
 "nbformat_minor": 5
}
