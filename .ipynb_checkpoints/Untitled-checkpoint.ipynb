{
 "cells": [
  {
   "cell_type": "code",
   "execution_count": 1,
   "id": "0f69791f",
   "metadata": {},
   "outputs": [],
   "source": [
    "import pandas as pd"
   ]
  },
  {
   "cell_type": "code",
   "execution_count": null,
   "id": "50bf0ca8",
   "metadata": {},
   "outputs": [],
   "source": [
    "fp = '/home/awahab/llm-testing/data_sets/Train/'"
   ]
  },
  {
   "cell_type": "code",
   "execution_count": null,
   "id": "88f7e1b0",
   "metadata": {},
   "outputs": [],
   "source": [
    "df = pd.read_csv(fp + '.tsv', delimiter='\\t')\n",
    "\n",
    "# Display the first few rows\n",
    "print(df.head())"
   ]
  }
 ],
 "metadata": {
  "kernelspec": {
   "display_name": "Python 3 (ipykernel)",
   "language": "python",
   "name": "python3"
  },
  "language_info": {
   "codemirror_mode": {
    "name": "ipython",
    "version": 3
   },
   "file_extension": ".py",
   "mimetype": "text/x-python",
   "name": "python",
   "nbconvert_exporter": "python",
   "pygments_lexer": "ipython3",
   "version": "3.10.12"
  }
 },
 "nbformat": 4,
 "nbformat_minor": 5
}
