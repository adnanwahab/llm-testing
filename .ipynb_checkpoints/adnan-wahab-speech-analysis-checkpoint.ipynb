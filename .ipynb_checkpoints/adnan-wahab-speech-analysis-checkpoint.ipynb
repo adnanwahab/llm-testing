{
 "cells": [
  {
   "cell_type": "code",
   "execution_count": null,
   "id": "395eca4f",
   "metadata": {},
   "outputs": [],
   "source": [
    "from faster_whisper import WhisperModel\n",
    "\n",
    "model_size = \"large-v2\"\n",
    "\n",
    "# Run on GPU with FP16\n",
    "model = WhisperModel(model_size, device=\"cuda\", compute_type=\"float16\")"
   ]
  },
  {
   "cell_type": "code",
   "execution_count": 8,
   "id": "0893bf72",
   "metadata": {},
   "outputs": [
    {
     "name": "stdout",
     "output_type": "stream",
     "text": [
      "Detected language 'en' with probability 0.456299\n",
      "[30.00s -> 40.00s]  I'm afraid, short of fire I'm the dark in need of light\n",
      "[40.00s -> 49.00s]  When we touch, you inspire Feel the change in me tonight\n",
      "[49.00s -> 57.00s]  So take me up, take me higher There's a wall not far from here\n",
      "[57.00s -> 67.00s]  We can dive in desire But we can burn in love tonight\n",
      "[67.00s -> 76.00s]  Our hearts are like firestorms But when they strike, we feel the love\n",
      "[76.00s -> 85.00s]  Sparks will fly, they ignite our bones But when they strike, we light up the world\n",
      "[85.00s -> 93.00s]  Our hearts are like firestorms But when they strike, we feel the love\n",
      "[93.00s -> 102.00s]  Sparks will fly, they ignite our bones But when they strike, we light up the world\n",
      "[102.00s -> 107.00s]  We light up the world\n",
      "[115.00s -> 126.00s]  We light up the world\n",
      "[126.00s -> 142.00s]  Firestorm\n",
      "[143.00s -> 152.00s]  I'm for male, you're for white Perfect strangers in the night\n",
      "[152.00s -> 162.00s]  Here we are, come together To the one we'll testify\n",
      "[162.00s -> 171.00s]  Our hearts are like firestorms But when they strike, we feel the love\n",
      "[171.00s -> 181.00s]  Sparks will fly, they ignite our bones But when they strike, we light up the world\n",
      "[181.00s -> 201.00s]  We light up the world\n",
      "[201.00s -> 216.00s]  Firestorm\n"
     ]
    }
   ],
   "source": [
    "\n",
    "\n",
    "# or run on GPU with INT8\n",
    "# model = WhisperModel(model_size, device=\"cuda\", compute_type=\"int8_float16\")\n",
    "# or run on CPU with INT8\n",
    "# model = WhisperModel(model_size, device=\"cpu\", compute_type=\"int8\")\n",
    "\n",
    "segments, info = model.transcribe(\"Kygo - Firestone ft. Conrad Sewell (Official Video) [9Sc-ir2UwGU].mp3\", beam_size=5)\n",
    "\n",
    "print(\"Detected language '%s' with probability %f\" % (info.language, info.language_probability))\n",
    "\n",
    "for segment in segments:\n",
    "   print(\"[%.2fs -> %.2fs] %s\" % (segment.start, segment.end, segment.text))"
   ]
  },
  {
   "cell_type": "code",
   "execution_count": 4,
   "id": "9c02973c",
   "metadata": {},
   "outputs": [
    {
     "name": "stderr",
     "output_type": "stream",
     "text": [
      "[debug] Encodings: locale UTF-8, fs utf-8, pref UTF-8, out UTF-8 (No ANSI), error UTF-8 (No ANSI), screen UTF-8 (No ANSI)\n",
      "[debug] yt-dlp version stable@2023.07.06 [b532a3481] (pip) API\n",
      "[debug] params: {'format': 'bestaudio/best', 'postprocessors': [{'key': 'FFmpegExtractAudio', 'preferredcodec': 'mp3', 'preferredquality': '192'}], 'verbose': True, 'compat_opts': set()}\n",
      "[debug] Python 3.10.12 (CPython x86_64 64bit) - Linux-5.15.90.1-microsoft-standard-WSL2-x86_64-with-glibc2.35 (OpenSSL 3.0.10 1 Aug 2023, glibc 2.35)\n",
      "[debug] exe versions: ffmpeg 4.4.2 (setts), ffprobe 4.4.2\n",
      "[debug] Optional libraries: Cryptodome-3.18.0, brotli-None, certifi-2023.07.22, mutagen-1.46.0, sqlite3-2.6.0, websockets-11.0.3\n",
      "[debug] Proxy map: {}\n",
      "[debug] Loaded 1855 extractors\n"
     ]
    },
    {
     "name": "stdout",
     "output_type": "stream",
     "text": [
      "[youtube] Extracting URL: https://www.youtube.com/watch?v=9Sc-ir2UwGU&ab_channel=KygoOfficialVEVO\n",
      "[youtube] 9Sc-ir2UwGU: Downloading webpage\n",
      "[youtube] 9Sc-ir2UwGU: Downloading ios player API JSON\n",
      "[youtube] 9Sc-ir2UwGU: Downloading android player API JSON\n",
      "[youtube] 9Sc-ir2UwGU: Downloading m3u8 information\n"
     ]
    },
    {
     "name": "stderr",
     "output_type": "stream",
     "text": [
      "[debug] Sort order given by extractor: quality, res, fps, hdr:12, source, vcodec:vp9.2, channels, acodec, lang, proto\n",
      "[debug] Formats sorted by: hasvid, ie_pref, quality, res, fps, hdr:12(7), source, vcodec:vp9.2(10), channels, acodec, lang, proto, size, br, asr, vext, aext, hasaud, id\n"
     ]
    },
    {
     "name": "stdout",
     "output_type": "stream",
     "text": [
      "[info] 9Sc-ir2UwGU: Downloading 1 format(s): 251\n"
     ]
    },
    {
     "name": "stderr",
     "output_type": "stream",
     "text": [
      "[debug] Invoking http downloader on \"https://rr2---sn-q4fl6nss.googlevideo.com/videoplayback?expire=1691196615&ei=Z0jNZNewA5CW2_gPpKO70A8&ip=73.77.43.211&id=o-APrChcy7g8yrFRGosBIDUaNi-9Pd3YVd_BSs-5NCtLWe&itag=251&source=youtube&requiressl=yes&mh=WZ&mm=31%2C29&mn=sn-q4fl6nss%2Csn-q4flrnss&ms=au%2Crdu&mv=m&mvi=2&pl=16&initcwndbps=1811250&spc=UWF9f6GD9DMX88H6ydhI03_xAdPv3z4&vprv=1&svpuc=1&mime=audio%2Fwebm&gir=yes&clen=3758379&dur=222.461&lmt=1655306999953790&mt=1691174513&fvip=3&keepalive=yes&fexp=24007246%2C51000013&c=ANDROID&txp=4532434&sparams=expire%2Cei%2Cip%2Cid%2Citag%2Csource%2Crequiressl%2Cspc%2Cvprv%2Csvpuc%2Cmime%2Cgir%2Cclen%2Cdur%2Clmt&sig=AOq0QJ8wRQIhALlYLbXivaRMEqsmQs3KlaOjaLnAkjLaqdnkEaJwExSaAiAG4uy7R7UdTwT-B64TPy5z6nYf4u9ABpYX-zEdLEBmXA%3D%3D&lsparams=mh%2Cmm%2Cmn%2Cms%2Cmv%2Cmvi%2Cpl%2Cinitcwndbps&lsig=AG3C_xAwRQIgVwTQQ0eXeLNZc7f5xiy5WFDZ187hf2YZL0NVEToaKqsCIQCsioWUqKOGt1MHGJnU9n_JwKFXKEc8cmm5XFJwIHHkjg%3D%3D\"\n"
     ]
    },
    {
     "name": "stdout",
     "output_type": "stream",
     "text": [
      "[download] Destination: Kygo - Firestone ft. Conrad Sewell (Official Video) [9Sc-ir2UwGU].webm\n",
      "[download] 100% of    3.58MiB in 00:00:00 at 17.67MiB/s  \n"
     ]
    },
    {
     "name": "stderr",
     "output_type": "stream",
     "text": [
      "[debug] ffmpeg command line: ffprobe -show_streams 'file:Kygo - Firestone ft. Conrad Sewell (Official Video) [9Sc-ir2UwGU].webm'\n"
     ]
    },
    {
     "name": "stdout",
     "output_type": "stream",
     "text": [
      "[ExtractAudio] Destination: Kygo - Firestone ft. Conrad Sewell (Official Video) [9Sc-ir2UwGU].mp3\n"
     ]
    },
    {
     "name": "stderr",
     "output_type": "stream",
     "text": [
      "[debug] ffmpeg command line: ffmpeg -y -loglevel repeat+info -i 'file:Kygo - Firestone ft. Conrad Sewell (Official Video) [9Sc-ir2UwGU].webm' -vn -acodec libmp3lame -b:a 192.0k -movflags +faststart 'file:Kygo - Firestone ft. Conrad Sewell (Official Video) [9Sc-ir2UwGU].mp3'\n"
     ]
    },
    {
     "name": "stdout",
     "output_type": "stream",
     "text": [
      "Deleting original file Kygo - Firestone ft. Conrad Sewell (Official Video) [9Sc-ir2UwGU].webm (pass -k to keep)\n",
      "wtfaasdfasdfa 0\n"
     ]
    }
   ],
   "source": [
    "import yt_dlp\n",
    "\n",
    "\n",
    "ydl_opts = {\n",
    "    'format': 'bestaudio/best',\n",
    "    'postprocessors': [{\n",
    "        'key': 'FFmpegExtractAudio',\n",
    "        'preferredcodec': 'mp3',\n",
    "        'preferredquality': '192',\n",
    "    }],\n",
    "        'verbose': True,\n",
    "\n",
    "}\n",
    "\n",
    "\n",
    "fp = 'https://www.youtube.com/watch?v=9Sc-ir2UwGU&ab_channel=KygoOfficialVEVO'\n",
    "with yt_dlp.YoutubeDL(ydl_opts) as ydl:\n",
    "     print('wtfaasdfasdfa',ydl.download([fp]))"
   ]
  },
  {
   "cell_type": "code",
   "execution_count": null,
   "id": "442b7a60",
   "metadata": {},
   "outputs": [],
   "source": [
    "import beatnet\n"
   ]
  }
 ],
 "metadata": {
  "kernelspec": {
   "display_name": "Python 3 (ipykernel)",
   "language": "python",
   "name": "python3"
  },
  "language_info": {
   "codemirror_mode": {
    "name": "ipython",
    "version": 3
   },
   "file_extension": ".py",
   "mimetype": "text/x-python",
   "name": "python",
   "nbconvert_exporter": "python",
   "pygments_lexer": "ipython3",
   "version": "3.10.12"
  }
 },
 "nbformat": 4,
 "nbformat_minor": 5
}
