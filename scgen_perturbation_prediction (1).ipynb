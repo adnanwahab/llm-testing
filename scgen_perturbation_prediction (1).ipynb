{
 "cells": [
  {
   "cell_type": "markdown",
   "metadata": {
    "id": "P5KvZ2OwAcIX"
   },
   "source": [
    "# SCGEN:  Perturbation Prediction"
   ]
  },
  {
   "cell_type": "code",
   "execution_count": null,
   "metadata": {
    "id": "US92wUNyAde5"
   },
   "outputs": [],
   "source": []
  },
  {
   "cell_type": "code",
   "execution_count": 1,
   "metadata": {
    "id": "9DMvk8sqAcIa"
   },
   "outputs": [],
   "source": [
    "import sys\n",
    "#if branch is stable, will install via pypi, else will install from source\n",
    "branch = \"stable\"\n",
    "IN_COLAB = \"google.colab\" in sys.modules\n",
    "\n",
    "if IN_COLAB and branch == \"stable\":\n",
    "    !pip install --quiet scgen[tutorials]\n",
    "elif IN_COLAB and branch != \"stable\":\n",
    "    !pip install --quiet --upgrade jsonschema\n",
    "    !pip install --quiet git+https://github.com/theislab/scgen@$branch#egg=scgen[tutorials]"
   ]
  },
  {
   "cell_type": "code",
   "execution_count": 2,
   "metadata": {
    "colab": {
     "base_uri": "https://localhost:8080/",
     "height": 321
    },
    "id": "pMOkA_v9AcIb",
    "outputId": "c348647b-c0c2-4101-b5d3-35bc106c7842"
   },
   "outputs": [
    {
     "name": "stderr",
     "output_type": "stream",
     "text": [
      "/home/awahab/anaconda3/envs/shit/lib/python3.10/site-packages/scvi/_settings.py:63: UserWarning: Since v1.0.0, scvi-tools no longer uses a random seed by default. Run `scvi.settings.seed = 0` to reproduce results from previous versions.\n",
      "  self.seed = seed\n",
      "/home/awahab/anaconda3/envs/shit/lib/python3.10/site-packages/scvi/_settings.py:70: UserWarning: Setting `dl_pin_memory_gpu_training` is deprecated in v1.0 and will be removed in v1.1. Please pass in `pin_memory` to the data loaders instead.\n",
      "  self.dl_pin_memory_gpu_training = (\n"
     ]
    }
   ],
   "source": [
    "import logging\n",
    "import scanpy as sc\n",
    "import scgen"
   ]
  },
  {
   "cell_type": "markdown",
   "metadata": {
    "id": "ejQ0Ax1jAcIb"
   },
   "source": [
    "### Loading Train Data"
   ]
  },
  {
   "cell_type": "code",
   "execution_count": 3,
   "metadata": {
    "id": "7hstRTTcAcIb"
   },
   "outputs": [
    {
     "data": {
      "application/vnd.jupyter.widget-view+json": {
       "model_id": "ffd5d49cd40a4ae7a0959dab8b9f366d",
       "version_major": 2,
       "version_minor": 0
      },
      "text/plain": [
       "  0%|          | 0.00/22.4M [00:00<?, ?B/s]"
      ]
     },
     "metadata": {},
     "output_type": "display_data"
    },
    {
     "name": "stderr",
     "output_type": "stream",
     "text": [
      "/home/awahab/anaconda3/envs/shit/lib/python3.10/site-packages/anndata/compat/__init__.py:229: FutureWarning: Moving element from .uns['neighbors']['distances'] to .obsp['distances'].\n",
      "\n",
      "This is where adjacency matrices should go now.\n",
      "  warn(\n",
      "/home/awahab/anaconda3/envs/shit/lib/python3.10/site-packages/anndata/compat/__init__.py:229: FutureWarning: Moving element from .uns['neighbors']['connectivities'] to .obsp['connectivities'].\n",
      "\n",
      "This is where adjacency matrices should go now.\n",
      "  warn(\n"
     ]
    }
   ],
   "source": [
    "train = sc.read(\"./tests/data/train_kang.h5ad\",\n",
    "                backup_url='https://drive.google.com/uc?id=1r87vhoLLq6PXAYdmyyd89zG90eJOFYLk')"
   ]
  },
  {
   "cell_type": "markdown",
   "metadata": {
    "id": "RApUYoSRAcIc"
   },
   "source": [
    "Let's remove stimulated CD4T cells from both the training set. This is just for the sake of this notebook, in practice, you do not need to do this step, just pass the train data"
   ]
  },
  {
   "cell_type": "code",
   "execution_count": 4,
   "metadata": {
    "id": "wdsCqF_UAcIc"
   },
   "outputs": [],
   "source": [
    "train_new = train[~((train.obs[\"cell_type\"] == \"CD4T\") &\n",
    "                    (train.obs[\"condition\"] == \"stimulated\"))]"
   ]
  },
  {
   "cell_type": "markdown",
   "metadata": {
    "id": "wO7hT2liAcIc"
   },
   "source": [
    "### Preprocessing Data"
   ]
  },
  {
   "cell_type": "code",
   "execution_count": 5,
   "metadata": {
    "id": "LwVKvOduAcIc"
   },
   "outputs": [
    {
     "ename": "ValueError",
     "evalue": "Please run `adata = adata.copy()`",
     "output_type": "error",
     "traceback": [
      "\u001b[0;31m---------------------------------------------------------------------------\u001b[0m",
      "\u001b[0;31mValueError\u001b[0m                                Traceback (most recent call last)",
      "Cell \u001b[0;32mIn[5], line 1\u001b[0m\n\u001b[0;32m----> 1\u001b[0m \u001b[43mscgen\u001b[49m\u001b[38;5;241;43m.\u001b[39;49m\u001b[43mSCGEN\u001b[49m\u001b[38;5;241;43m.\u001b[39;49m\u001b[43msetup_anndata\u001b[49m\u001b[43m(\u001b[49m\u001b[43mtrain_new\u001b[49m\u001b[43m,\u001b[49m\u001b[43m \u001b[49m\u001b[43mbatch_key\u001b[49m\u001b[38;5;241;43m=\u001b[39;49m\u001b[38;5;124;43m\"\u001b[39;49m\u001b[38;5;124;43mcondition\u001b[39;49m\u001b[38;5;124;43m\"\u001b[39;49m\u001b[43m,\u001b[49m\u001b[43m \u001b[49m\u001b[43mlabels_key\u001b[49m\u001b[38;5;241;43m=\u001b[39;49m\u001b[38;5;124;43m\"\u001b[39;49m\u001b[38;5;124;43mcell_type\u001b[39;49m\u001b[38;5;124;43m\"\u001b[39;49m\u001b[43m)\u001b[49m\n",
      "File \u001b[0;32m~/anaconda3/envs/shit/lib/python3.10/site-packages/scgen/_scgen.py:777\u001b[0m, in \u001b[0;36mSCGEN.setup_anndata\u001b[0;34m(cls, adata, batch_key, labels_key, **kwargs)\u001b[0m\n\u001b[1;32m    769\u001b[0m anndata_fields \u001b[38;5;241m=\u001b[39m [\n\u001b[1;32m    770\u001b[0m     LayerField(REGISTRY_KEYS\u001b[38;5;241m.\u001b[39mX_KEY, \u001b[38;5;28;01mNone\u001b[39;00m, is_count_data\u001b[38;5;241m=\u001b[39m\u001b[38;5;28;01mFalse\u001b[39;00m),\n\u001b[1;32m    771\u001b[0m     CategoricalObsField(REGISTRY_KEYS\u001b[38;5;241m.\u001b[39mBATCH_KEY, batch_key),\n\u001b[1;32m    772\u001b[0m     CategoricalObsField(REGISTRY_KEYS\u001b[38;5;241m.\u001b[39mLABELS_KEY, labels_key),\n\u001b[1;32m    773\u001b[0m ]\n\u001b[1;32m    774\u001b[0m adata_manager \u001b[38;5;241m=\u001b[39m AnnDataManager(\n\u001b[1;32m    775\u001b[0m     fields\u001b[38;5;241m=\u001b[39manndata_fields, setup_method_args\u001b[38;5;241m=\u001b[39msetup_method_args\n\u001b[1;32m    776\u001b[0m )\n\u001b[0;32m--> 777\u001b[0m \u001b[43madata_manager\u001b[49m\u001b[38;5;241;43m.\u001b[39;49m\u001b[43mregister_fields\u001b[49m\u001b[43m(\u001b[49m\u001b[43madata\u001b[49m\u001b[43m,\u001b[49m\u001b[43m \u001b[49m\u001b[38;5;241;43m*\u001b[39;49m\u001b[38;5;241;43m*\u001b[39;49m\u001b[43mkwargs\u001b[49m\u001b[43m)\u001b[49m\n\u001b[1;32m    778\u001b[0m \u001b[38;5;28mcls\u001b[39m\u001b[38;5;241m.\u001b[39mregister_manager(adata_manager)\n",
      "File \u001b[0;32m~/anaconda3/envs/shit/lib/python3.10/site-packages/scvi/data/_manager.py:174\u001b[0m, in \u001b[0;36mAnnDataManager.register_fields\u001b[0;34m(self, adata, source_registry, **transfer_kwargs)\u001b[0m\n\u001b[1;32m    169\u001b[0m \u001b[38;5;28;01mif\u001b[39;00m source_registry \u001b[38;5;129;01mis\u001b[39;00m \u001b[38;5;28;01mNone\u001b[39;00m \u001b[38;5;129;01mand\u001b[39;00m transfer_kwargs:\n\u001b[1;32m    170\u001b[0m     \u001b[38;5;28;01mraise\u001b[39;00m \u001b[38;5;167;01mTypeError\u001b[39;00m(\n\u001b[1;32m    171\u001b[0m         \u001b[38;5;124mf\u001b[39m\u001b[38;5;124m\"\u001b[39m\u001b[38;5;124mregister_fields() got unexpected keyword arguments \u001b[39m\u001b[38;5;132;01m{\u001b[39;00mtransfer_kwargs\u001b[38;5;132;01m}\u001b[39;00m\u001b[38;5;124m passed without a source_registry.\u001b[39m\u001b[38;5;124m\"\u001b[39m\n\u001b[1;32m    172\u001b[0m     )\n\u001b[0;32m--> 174\u001b[0m \u001b[38;5;28;43mself\u001b[39;49m\u001b[38;5;241;43m.\u001b[39;49m\u001b[43m_validate_anndata_object\u001b[49m\u001b[43m(\u001b[49m\u001b[43madata\u001b[49m\u001b[43m)\u001b[49m\n\u001b[1;32m    176\u001b[0m \u001b[38;5;28;01mfor\u001b[39;00m field \u001b[38;5;129;01min\u001b[39;00m \u001b[38;5;28mself\u001b[39m\u001b[38;5;241m.\u001b[39mfields:\n\u001b[1;32m    177\u001b[0m     \u001b[38;5;28mself\u001b[39m\u001b[38;5;241m.\u001b[39m_add_field(\n\u001b[1;32m    178\u001b[0m         field\u001b[38;5;241m=\u001b[39mfield,\n\u001b[1;32m    179\u001b[0m         adata\u001b[38;5;241m=\u001b[39madata,\n\u001b[1;32m    180\u001b[0m         source_registry\u001b[38;5;241m=\u001b[39msource_registry,\n\u001b[1;32m    181\u001b[0m         \u001b[38;5;241m*\u001b[39m\u001b[38;5;241m*\u001b[39mtransfer_kwargs,\n\u001b[1;32m    182\u001b[0m     )\n",
      "File \u001b[0;32m~/anaconda3/envs/shit/lib/python3.10/site-packages/scvi/data/_manager.py:108\u001b[0m, in \u001b[0;36mAnnDataManager._validate_anndata_object\u001b[0;34m(self, adata)\u001b[0m\n\u001b[1;32m    106\u001b[0m \u001b[38;5;250m\u001b[39m\u001b[38;5;124;03m\"\"\"For a given AnnData object, runs general scvi-tools compatibility checks.\"\"\"\u001b[39;00m\n\u001b[1;32m    107\u001b[0m \u001b[38;5;28;01mif\u001b[39;00m \u001b[38;5;28mself\u001b[39m\u001b[38;5;241m.\u001b[39mvalidation_checks\u001b[38;5;241m.\u001b[39mcheck_if_view:\n\u001b[0;32m--> 108\u001b[0m     \u001b[43m_check_if_view\u001b[49m\u001b[43m(\u001b[49m\u001b[43madata\u001b[49m\u001b[43m,\u001b[49m\u001b[43m \u001b[49m\u001b[43mcopy_if_view\u001b[49m\u001b[38;5;241;43m=\u001b[39;49m\u001b[38;5;28;43;01mFalse\u001b[39;49;00m\u001b[43m)\u001b[49m\n\u001b[1;32m    110\u001b[0m \u001b[38;5;28;01mif\u001b[39;00m (\n\u001b[1;32m    111\u001b[0m     \u001b[38;5;28misinstance\u001b[39m(adata, MuData)\n\u001b[1;32m    112\u001b[0m     \u001b[38;5;129;01mand\u001b[39;00m \u001b[38;5;28mself\u001b[39m\u001b[38;5;241m.\u001b[39mvalidation_checks\u001b[38;5;241m.\u001b[39mcheck_fully_paired_mudata\n\u001b[1;32m    113\u001b[0m ):\n\u001b[1;32m    114\u001b[0m     _check_mudata_fully_paired(adata)\n",
      "File \u001b[0;32m~/anaconda3/envs/shit/lib/python3.10/site-packages/scvi/data/_utils.py:238\u001b[0m, in \u001b[0;36m_check_if_view\u001b[0;34m(adata, copy_if_view)\u001b[0m\n\u001b[1;32m    236\u001b[0m         _assign_adata_uuid(adata, overwrite\u001b[38;5;241m=\u001b[39m\u001b[38;5;28;01mTrue\u001b[39;00m)\n\u001b[1;32m    237\u001b[0m     \u001b[38;5;28;01melse\u001b[39;00m:\n\u001b[0;32m--> 238\u001b[0m         \u001b[38;5;28;01mraise\u001b[39;00m \u001b[38;5;167;01mValueError\u001b[39;00m(\u001b[38;5;124m\"\u001b[39m\u001b[38;5;124mPlease run `adata = adata.copy()`\u001b[39m\u001b[38;5;124m\"\u001b[39m)\n\u001b[1;32m    239\u001b[0m \u001b[38;5;28;01melif\u001b[39;00m \u001b[38;5;28misinstance\u001b[39m(adata, MuData):\n\u001b[1;32m    240\u001b[0m     \u001b[38;5;28;01mfor\u001b[39;00m mod_key \u001b[38;5;129;01min\u001b[39;00m adata\u001b[38;5;241m.\u001b[39mmod\u001b[38;5;241m.\u001b[39mkeys():\n",
      "\u001b[0;31mValueError\u001b[0m: Please run `adata = adata.copy()`"
     ]
    }
   ],
   "source": [
    "scgen.SCGEN.setup_anndata(train_new, batch_key=\"condition\", labels_key=\"cell_type\")"
   ]
  },
  {
   "cell_type": "markdown",
   "metadata": {
    "id": "o4RyRoSrAcId"
   },
   "source": [
    "## Creating and Saving the model¶"
   ]
  },
  {
   "cell_type": "code",
   "execution_count": null,
   "metadata": {
    "id": "kd1T-WkIAcId"
   },
   "outputs": [],
   "source": [
    "model = scgen.SCGEN(train_new)\n",
    "model.save(\"../saved_models/model_perturbation_prediction.pt\", overwrite=True)"
   ]
  },
  {
   "cell_type": "markdown",
   "metadata": {
    "id": "dcKzQUtvAcId"
   },
   "source": [
    "## Training the Model"
   ]
  },
  {
   "cell_type": "code",
   "execution_count": null,
   "metadata": {
    "id": "OH6UAUc2AcId"
   },
   "outputs": [],
   "source": [
    "model.train(\n",
    "    max_epochs=100,\n",
    "    batch_size=32,\n",
    "    early_stopping=True,\n",
    "    early_stopping_patience=25\n",
    ")"
   ]
  },
  {
   "cell_type": "markdown",
   "metadata": {
    "id": "KVb5pIlhAcId"
   },
   "source": [
    "### Latent Space"
   ]
  },
  {
   "cell_type": "code",
   "execution_count": null,
   "metadata": {
    "id": "X2-I_pQ2AcId"
   },
   "outputs": [],
   "source": [
    "latent_X = model.get_latent_representation()\n",
    "latent_adata = sc.AnnData(X=latent_X, obs=train_new.obs.copy())"
   ]
  },
  {
   "cell_type": "code",
   "execution_count": null,
   "metadata": {
    "id": "S7Y6pegVAcId"
   },
   "outputs": [],
   "source": [
    "sc.pp.neighbors(latent_adata)\n",
    "sc.tl.umap(latent_adata)\n",
    "sc.pl.umap(latent_adata, color=['condition', 'cell_type'], wspace=0.4, frameon=False,\n",
    "           save='latentspace_batch32_klw000005_z100__100e.pdf')"
   ]
  },
  {
   "cell_type": "markdown",
   "metadata": {
    "id": "gvuUDkzzAcIe"
   },
   "source": [
    "## Prediction"
   ]
  },
  {
   "cell_type": "markdown",
   "metadata": {
    "id": "D3Y51IVIAcIe"
   },
   "source": [
    "After training the model you can pass the adata of the cells you want to perturb. Here we pass unperturbed CD4T cells\n"
   ]
  },
  {
   "cell_type": "markdown",
   "metadata": {
    "id": "SHD88rz4AcIe"
   },
   "source": [
    "Here the 'adata' contains the cells that you want estimate the perturbation based on them. we set \"ctrl\" to our control labels and \"stim\" to our stimulated labels. If you apply it in another context just set \"ctrl\" :\"your_control_label\" and \"stim\":\"your_stimulated_label\". the returned value is a numpy matrix of our predicted cells and the second one is the difference vector between our conditions which might become useful later."
   ]
  },
  {
   "cell_type": "code",
   "execution_count": null,
   "metadata": {
    "id": "lSK0mIS7AcIe"
   },
   "outputs": [],
   "source": [
    "pred, delta = model.predict(\n",
    "    ctrl_key='control',\n",
    "    stim_key='stimulated',\n",
    "    celltype_to_predict='CD4T'\n",
    ")\n",
    "pred.obs['condition'] = 'pred'"
   ]
  },
  {
   "cell_type": "markdown",
   "metadata": {
    "id": "y0veb9cIAcIe"
   },
   "source": [
    "In the previous block, the difference between conditions is by default computed using all cells (obs_key=\"all\"). However, some times you might have a rough idea that which groups (e.g. cell types) are close to your cell type of interest. This might give you more accurate predictions. For example, we can restrict the delta computation only to CD8T and NK cells. We provide dictionary in form of obs_key={\"cell_type\": [\"CD8T\", \"NK\"]} which is telling the model to look at \"cell_type\" labels in adata (here: train_new) and only compute the delta vector based on \"CD8T\" and \"NK\" cells :"
   ]
  },
  {
   "cell_type": "markdown",
   "metadata": {
    "id": "g_4Km-8RAcIe"
   },
   "source": [
    "pred, delta = scg.predict(adata=train_new, adata_to_predict=unperturbed_cd4t, conditions={\"ctrl\": \"control\", \"stim\": \"stimulated\"}, cell_type_key=\"cell_type\", condition_key=\"condition\", obs_key={\"cell_type\": [\"CD8T\", \"NK\"]})`"
   ]
  },
  {
   "cell_type": "markdown",
   "metadata": {
    "id": "5mxwHDs7AcIe"
   },
   "source": [
    "## Evaluation of the predcition¶\n"
   ]
  },
  {
   "cell_type": "markdown",
   "metadata": {
    "id": "jSd2baWnAcIe"
   },
   "source": [
    "#### Extracting both control and real stimulated CD4T cells from our dataset"
   ]
  },
  {
   "cell_type": "code",
   "execution_count": null,
   "metadata": {
    "id": "9jnc4LZEAcIe"
   },
   "outputs": [],
   "source": [
    "ctrl_adata = train[((train.obs['cell_type'] == 'CD4T') & (train.obs['condition'] == 'control'))]\n",
    "stim_adata = train[((train.obs['cell_type'] == 'CD4T') & (train.obs['condition'] == 'stimulated'))]"
   ]
  },
  {
   "cell_type": "markdown",
   "metadata": {
    "id": "t49sWJLpAcIe"
   },
   "source": [
    "Merging predicted cells with real ones"
   ]
  },
  {
   "cell_type": "code",
   "execution_count": null,
   "metadata": {
    "id": "cjuSFb_YAcIe"
   },
   "outputs": [],
   "source": [
    "eval_adata = ctrl_adata.concatenate(stim_adata, pred)"
   ]
  },
  {
   "cell_type": "markdown",
   "metadata": {
    "id": "Iuj9E3REAcIe"
   },
   "source": [
    "### Embedding all real and predicted cells in one PCA plot¶"
   ]
  },
  {
   "cell_type": "code",
   "execution_count": null,
   "metadata": {
    "id": "M41turJWAcIe"
   },
   "outputs": [],
   "source": [
    "sc.tl.pca(eval_adata)\n",
    "sc.pl.pca(eval_adata, color=\"condition\", frameon=False,\n",
    "           save='pred_stim_b32_klw000005_z100__100e.pdf')"
   ]
  },
  {
   "cell_type": "code",
   "execution_count": null,
   "metadata": {
    "id": "39yzVAFMA1Xx"
   },
   "outputs": [],
   "source": []
  },
  {
   "cell_type": "markdown",
   "metadata": {
    "id": "fDbxmwAdAcIf"
   },
   "source": [
    "## Mean correlation plot¶"
   ]
  },
  {
   "cell_type": "markdown",
   "metadata": {
    "id": "_SPBslK7AcIf"
   },
   "source": [
    "You can also visualize your mean gene expression of your predicted cells vs control cells while highlighting your genes of interest (here top 10 differentially expressed genes)"
   ]
  },
  {
   "cell_type": "code",
   "execution_count": null,
   "metadata": {
    "id": "kwf4pOHEAcIf"
   },
   "outputs": [],
   "source": [
    "CD4T = train[train.obs[\"cell_type\"] ==\"CD4T\"]"
   ]
  },
  {
   "cell_type": "code",
   "execution_count": null,
   "metadata": {
    "id": "DpKfYKxxAcIf"
   },
   "outputs": [],
   "source": [
    "sc.tl.rank_genes_groups(CD4T, groupby=\"condition\", method=\"wilcoxon\")\n",
    "diff_genes = CD4T.uns[\"rank_genes_groups\"][\"names\"][\"stimulated\"]\n",
    "print(diff_genes)"
   ]
  },
  {
   "cell_type": "code",
   "execution_count": null,
   "metadata": {
    "id": "gq0G4_AvAcIf"
   },
   "outputs": [],
   "source": [
    "r2_value = model.reg_mean_plot(\n",
    "    eval_adata,\n",
    "    axis_keys={\"x\": \"pred\", \"y\": \"stimulated\"},\n",
    "    gene_list=diff_genes[:10],\n",
    "    labels={\"x\": \"predicted\", \"y\": \"ground truth\"},\n",
    "    path_to_save=\"./reg_mean1.pdf\",\n",
    "    show=True,\n",
    "    legend=False\n",
    ")"
   ]
  },
  {
   "cell_type": "markdown",
   "metadata": {
    "id": "E_4yZAfGAcIf"
   },
   "source": [
    "You can also pass a list of differentially epxressed genes to compute correlation based on them"
   ]
  },
  {
   "cell_type": "code",
   "execution_count": null,
   "metadata": {
    "id": "kj0d-n6hAcIf"
   },
   "outputs": [],
   "source": [
    "r2_value = model.reg_mean_plot(\n",
    "    eval_adata,\n",
    "    axis_keys={\"x\": \"pred\", \"y\": \"stimulated\"},\n",
    "    gene_list=diff_genes[:10],\n",
    "    top_100_genes= diff_genes,\n",
    "    labels={\"x\": \"predicted\",\"y\": \"ground truth\"},\n",
    "    path_to_save=\"./reg_mean1.pdf\",\n",
    "    show=True,\n",
    "    legend=False\n",
    ")"
   ]
  },
  {
   "cell_type": "markdown",
   "metadata": {
    "id": "fXiVujsCAcIf"
   },
   "source": [
    "### Violin plot for a specific gene¶\n"
   ]
  },
  {
   "cell_type": "markdown",
   "metadata": {
    "id": "bxrnAH62AcIf"
   },
   "source": [
    "Let's go deeper and compare the distribution of \"ISG15\", the top DEG between stimulated and control CD4T cells between predcited and real cells"
   ]
  },
  {
   "cell_type": "code",
   "execution_count": null,
   "metadata": {
    "id": "zbRORrPGAcIf"
   },
   "outputs": [],
   "source": [
    "sc.pl.violin(eval_adata, keys=\"ISG15\", groupby=\"condition\")"
   ]
  },
  {
   "cell_type": "code",
   "execution_count": null,
   "metadata": {
    "id": "4_WIbD5_AcIi"
   },
   "outputs": [],
   "source": []
  }
 ],
 "metadata": {
  "colab": {
   "provenance": []
  },
  "kernelspec": {
   "display_name": "Python 3 (ipykernel)",
   "language": "python",
   "name": "python3"
  },
  "language_info": {
   "codemirror_mode": {
    "name": "ipython",
    "version": 3
   },
   "file_extension": ".py",
   "mimetype": "text/x-python",
   "name": "python",
   "nbconvert_exporter": "python",
   "pygments_lexer": "ipython3",
   "version": "3.10.12"
  },
  "pycharm": {
   "stem_cell": {
    "cell_type": "raw",
    "metadata": {
     "collapsed": false
    },
    "source": []
   }
  }
 },
 "nbformat": 4,
 "nbformat_minor": 1
}
