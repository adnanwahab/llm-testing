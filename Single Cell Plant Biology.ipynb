{
 "cells": [
  {
   "cell_type": "code",
   "execution_count": 5,
   "id": "82f505ce",
   "metadata": {},
   "outputs": [
    {
     "name": "stdout",
     "output_type": "stream",
     "text": [
      "downloading:  https://cf.10xgenomics.com/samples/assembly/2.1.0/maize/maize_pseudohap.fasta.gz\n",
      "we are start\n",
      "we are done\n"
     ]
    }
   ],
   "source": [
    "#https://www.annualreviews.org/doi/pdf/10.1146/annurev-biodatasci-080917-013328\n",
    "\n",
    "\n",
    "# design a plant seed that can be put into the earth and makes a giant rain forest in like 1 week -> rainforest in your backyard or like an hour walk from the house\n",
    "\n",
    "a = 'https://cf.10xgenomics.com/samples/assembly/2.1.0/maize/maize_pseudohap.fasta.gz'\n",
    "import requests\n",
    "def download_url(url):\n",
    "  print(\"downloading: \",url)\n",
    "  # assumes that the last segment after the / represents the file name\n",
    "  # if url is abc/xyz/file.txt, the file name will be file.txt\n",
    "  file_name_start_pos = url.rfind(\"/\") + 1\n",
    "  file_name = url[file_name_start_pos:]\n",
    " \n",
    "  r = requests.get(url, stream=True)\n",
    "  print('we are start')\n",
    "\n",
    "  if r.status_code == requests.codes.ok:\n",
    "    with open(file_name, 'wb') as f:\n",
    "      for data in r:\n",
    "          f.write(data)\n",
    "  print('we are done')\n",
    "\n",
    "download_url(a)"
   ]
  },
  {
   "cell_type": "code",
   "execution_count": 15,
   "id": "f6883435",
   "metadata": {},
   "outputs": [],
   "source": [
    "import os\n",
    "\n",
    "#! tar xvf ./maize_pseudohap.fasta.gz\n",
    "\n",
    "! gzip -d ./maize_pseudohap.fasta.gz\n"
   ]
  },
  {
   "cell_type": "code",
   "execution_count": 18,
   "id": "879d787c",
   "metadata": {},
   "outputs": [],
   "source": [
    "from Bio import SeqIO\n",
    "\n",
    "input_seq_iterator = SeqIO.parse(\"maize_pseudohap.fasta\", \"fasta\")\n",
    "short_seq_iterator = (record for record in input_seq_iterator if len(record.seq) < 300)\n",
    "\n",
    "for i in short_seq_iterator:\n",
    "    print(i)"
   ]
  }
 ],
 "metadata": {
  "kernelspec": {
   "display_name": "Python 3 (ipykernel)",
   "language": "python",
   "name": "python3"
  },
  "language_info": {
   "codemirror_mode": {
    "name": "ipython",
    "version": 3
   },
   "file_extension": ".py",
   "mimetype": "text/x-python",
   "name": "python",
   "nbconvert_exporter": "python",
   "pygments_lexer": "ipython3",
   "version": "3.10.12"
  }
 },
 "nbformat": 4,
 "nbformat_minor": 5
}
