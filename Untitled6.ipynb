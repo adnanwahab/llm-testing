{
 "cells": [
  {
   "cell_type": "code",
   "execution_count": 3,
   "id": "f42c02f8",
   "metadata": {},
   "outputs": [
    {
     "name": "stderr",
     "output_type": "stream",
     "text": [
      "100%|███████████████████| 8403/8403 [00:04<00:00, 2070.15it/s, 65.6MiB, filtered_feature_bc_matrix.h5, brain3k_multiome]\n",
      "100%|████████████████████████| 208815/208815 [01:57<00:00, 1784.43it/s, 1.6GiB, atac_fragments.tsv.gz, brain3k_multiome]\n",
      "100%|████████████████████████| 118/118 [00:00<00:00, 1792.59it/s, 942.9KiB, atac_fragments.tsv.gz.tbi, brain3k_multiome]\n",
      "100%|█████████████████████████████████████| 392/392 [00:00<00:00, 1117.03it/s, 3.1MiB, atac_peaks.bed, brain3k_multiome]\n",
      "100%|███████████████████████████| 938/938 [00:00<00:00, 5592.76it/s, 7.3MiB, atac_peak_annotation.tsv, brain3k_multiome]\n",
      "/home/awahab/anaconda3/envs/shit/lib/python3.10/site-packages/mudatasets/core.py:203: UserWarning: Dataset is in the 10X .h5 format and can't be loaded as backed.\n",
      "  warn(\"Dataset is in the 10X .h5 format and can't be loaded as backed.\")\n",
      "/home/awahab/anaconda3/envs/shit/lib/python3.10/site-packages/umap/distances.py:1063: NumbaDeprecationWarning: \u001b[1mThe 'nopython' keyword argument was not supplied to the 'numba.jit' decorator. The implicit default value for this argument is currently False, but it will be changed to True in Numba 0.59.0. See https://numba.readthedocs.io/en/stable/reference/deprecation.html#deprecation-of-object-mode-fall-back-behaviour-when-using-jit for details.\u001b[0m\n",
      "  @numba.jit()\n",
      "/home/awahab/anaconda3/envs/shit/lib/python3.10/site-packages/umap/distances.py:1071: NumbaDeprecationWarning: \u001b[1mThe 'nopython' keyword argument was not supplied to the 'numba.jit' decorator. The implicit default value for this argument is currently False, but it will be changed to True in Numba 0.59.0. See https://numba.readthedocs.io/en/stable/reference/deprecation.html#deprecation-of-object-mode-fall-back-behaviour-when-using-jit for details.\u001b[0m\n",
      "  @numba.jit()\n",
      "/home/awahab/anaconda3/envs/shit/lib/python3.10/site-packages/umap/distances.py:1086: NumbaDeprecationWarning: \u001b[1mThe 'nopython' keyword argument was not supplied to the 'numba.jit' decorator. The implicit default value for this argument is currently False, but it will be changed to True in Numba 0.59.0. See https://numba.readthedocs.io/en/stable/reference/deprecation.html#deprecation-of-object-mode-fall-back-behaviour-when-using-jit for details.\u001b[0m\n",
      "  @numba.jit()\n",
      "/home/awahab/anaconda3/envs/shit/lib/python3.10/site-packages/umap/umap_.py:660: NumbaDeprecationWarning: \u001b[1mThe 'nopython' keyword argument was not supplied to the 'numba.jit' decorator. The implicit default value for this argument is currently False, but it will be changed to True in Numba 0.59.0. See https://numba.readthedocs.io/en/stable/reference/deprecation.html#deprecation-of-object-mode-fall-back-behaviour-when-using-jit for details.\u001b[0m\n",
      "  @numba.jit()\n",
      "2023-08-19 10:39:46.506245: I tensorflow/core/util/util.cc:169] oneDNN custom operations are on. You may see slightly different numerical results due to floating-point round-off errors from different computation orders. To turn them off, set the environment variable `TF_ENABLE_ONEDNN_OPTS=0`.\n"
     ]
    },
    {
     "name": "stdout",
     "output_type": "stream",
     "text": [
      "■ Loading filtered_feature_bc_matrix.h5...\n"
     ]
    },
    {
     "name": "stderr",
     "output_type": "stream",
     "text": [
      "/home/awahab/anaconda3/envs/shit/lib/python3.10/site-packages/anndata/_core/anndata.py:1840: UserWarning: Variable names are not unique. To make them unique, call `.var_names_make_unique`.\n",
      "  utils.warn_names_duplicates(\"var\")\n"
     ]
    },
    {
     "name": "stdout",
     "output_type": "stream",
     "text": [
      "Added `interval` annotation for features from /home/awahab/mudatasets/brain3k_multiome/filtered_feature_bc_matrix.h5\n"
     ]
    },
    {
     "name": "stderr",
     "output_type": "stream",
     "text": [
      "/home/awahab/anaconda3/envs/shit/lib/python3.10/site-packages/anndata/_core/anndata.py:1840: UserWarning: Variable names are not unique. To make them unique, call `.var_names_make_unique`.\n",
      "  utils.warn_names_duplicates(\"var\")\n",
      "/home/awahab/anaconda3/envs/shit/lib/python3.10/site-packages/mudata/_core/mudata.py:479: UserWarning: var_names are not unique. To make them unique, call `.var_names_make_unique`.\n",
      "  warnings.warn(\n"
     ]
    },
    {
     "name": "stdout",
     "output_type": "stream",
     "text": [
      "Added peak annotation from /home/awahab/mudatasets/brain3k_multiome/atac_peak_annotation.tsv to .uns['atac']['peak_annotation']\n",
      "Added gene names to peak annotation in .uns['atac']['peak_annotation']\n",
      "Located fragments file: /home/awahab/mudatasets/brain3k_multiome/atac_fragments.tsv.gz\n",
      "pysam is not available. It is required to work with the fragments file.                 Install pysam from PyPI (`pip install pysam`)                 or from GitHub (`pip install git+https://github.com/pysam-developers/pysam`)\n"
     ]
    }
   ],
   "source": [
    "import mudatasets\n",
    "mdata = mudatasets.load(\"brain3k_multiome\", full=True)\n",
    "mdata.var_names_make_unique()"
   ]
  },
  {
   "cell_type": "code",
   "execution_count": 6,
   "id": "29eb54ed",
   "metadata": {},
   "outputs": [
    {
     "data": {
      "text/html": [
       "<div>\n",
       "<style scoped>\n",
       "    .dataframe tbody tr th:only-of-type {\n",
       "        vertical-align: middle;\n",
       "    }\n",
       "\n",
       "    .dataframe tbody tr th {\n",
       "        vertical-align: top;\n",
       "    }\n",
       "\n",
       "    .dataframe thead th {\n",
       "        text-align: right;\n",
       "    }\n",
       "</style>\n",
       "<table border=\"1\" class=\"dataframe\">\n",
       "  <thead>\n",
       "    <tr style=\"text-align: right;\">\n",
       "      <th></th>\n",
       "    </tr>\n",
       "  </thead>\n",
       "  <tbody>\n",
       "    <tr>\n",
       "      <th>AAACAGCCATAGACTT-1</th>\n",
       "    </tr>\n",
       "    <tr>\n",
       "      <th>AAACAGCCATTATGCG-1</th>\n",
       "    </tr>\n",
       "    <tr>\n",
       "      <th>AAACCAACATAGACCC-1</th>\n",
       "    </tr>\n",
       "    <tr>\n",
       "      <th>AAACCGAAGATGCCTG-1</th>\n",
       "    </tr>\n",
       "    <tr>\n",
       "      <th>AAACCGAAGTTAGCTA-1</th>\n",
       "    </tr>\n",
       "    <tr>\n",
       "      <th>...</th>\n",
       "    </tr>\n",
       "    <tr>\n",
       "      <th>TTTGTGGCAAGGAATC-1</th>\n",
       "    </tr>\n",
       "    <tr>\n",
       "      <th>TTTGTGGCATGCTTAG-1</th>\n",
       "    </tr>\n",
       "    <tr>\n",
       "      <th>TTTGTGTTCGTTACAA-1</th>\n",
       "    </tr>\n",
       "    <tr>\n",
       "      <th>TTTGTTGGTGATCAGC-1</th>\n",
       "    </tr>\n",
       "    <tr>\n",
       "      <th>TTTGTTGGTGATTTGG-1</th>\n",
       "    </tr>\n",
       "  </tbody>\n",
       "</table>\n",
       "<p>3233 rows ￗ 0 columns</p>\n",
       "</div>"
      ],
      "text/plain": [
       "Empty DataFrame\n",
       "Columns: []\n",
       "Index: [AAACAGCCATAGACTT-1, AAACAGCCATTATGCG-1, AAACCAACATAGACCC-1, AAACCGAAGATGCCTG-1, AAACCGAAGTTAGCTA-1, AAACCGCGTCTTACTA-1, AAACCGCGTTAGCCAA-1, AAACCGGCAATCCCTT-1, AAACCGGCAGCAACAG-1, AAACCGGCAGCTTAAT-1, AAACGCGCATGTCGCG-1, AAACGCGCATTGGGAG-1, AAACGGATCATGAAGG-1, AAACGGATCCCGCCTA-1, AAAGCAAGTCGTAATG-1, AAAGCACCAAGTAAGC-1, AAAGCGGGTGAGCAAG-1, AAAGCGGGTGGAAACG-1, AAAGCTTGTCATTGTC-1, AAAGCTTGTCGCGCAA-1, AAAGGACGTTCCGGGA-1, AAAGGAGCAACTGGGA-1, AAAGGAGCACAAAGGT-1, AAAGGAGCACAGCCAT-1, AAAGGAGCACGAATTT-1, AAAGGAGCAGTTTCTC-1, AAAGGAGCATCAATCG-1, AAAGGAGCATCGCTCC-1, AAAGGCTCACTTGTTC-1, AAAGGCTCAGTTTCTC-1, AAAGGTTAGGAACGCG-1, AAAGGTTAGGTCCACA-1, AAAGGTTAGTGAGGGT-1, AAATCCGGTAGGTGTC-1, AAATGCCTCCAGGGAG-1, AAATGCCTCTACCTAT-1, AAATGGCCACCAAAGG-1, AAATGGCCAGAAATTG-1, AACAAAGGTCACGAAC-1, AACAAAGGTCCGTGAG-1, AACAAGCCAAGTTATC-1, AACAAGCCATAACGGG-1, AACAAGCCATTAGCGC-1, AACAGATAGGCTAAGA-1, AACAGCAAGACTTATG-1, AACAGCAAGCTGTACG-1, AACAGCAAGGCAAGTA-1, AACAGCAAGGTGCTGC-1, AACAGGATCTAAATCG-1, AACAGGATCTAACTGA-1, AACATAGCACTAGGTC-1, AACATCATCTATGACA-1, AACCCGCAGATGGACA-1, AACCCGCAGCTATTAG-1, AACCGCTCAGGCGAGT-1, AACCGCTCATTATGGT-1, AACCGGCTCATTTGTC-1, AACCGGCTCTTAGGAC-1, AACCTAATCAATGTGC-1, AACCTCCTCGAAGCGG-1, AACCTTAAGAAAGCAT-1, AACCTTAAGTTACTTC-1, AACGACAAGGCGCTAC-1, AACGCTAGTAAGGTCC-1, AACGGTAAGACTCGCA-1, AACGGTAAGGCCTGGT-1, AACGGTAAGGCCTTAG-1, AACTACTCAATCCTGA-1, AACTACTCATGTTGGC-1, AACTAGCTCAGGCTAT-1, AACTAGCTCATGTCAA-1, AACTAGCTCCGTTATT-1, AACTCACAGCCACAAT-1, AACTCACAGCGTGCAC-1, AACTCACAGTTTAACG-1, AACTGTTCAGAACCGA-1, AACTGTTCATGCTTAG-1, AACTTAGTCAGTGAAG-1, AAGAATCAGGAACCGG-1, AAGACAAGTTGGTTCT-1, AAGACATAGTAACGAG-1, AAGACCAAGGGTCCAC-1, AAGCAAGTCACAGCGC-1, AAGCAAGTCAGCTAAC-1, AAGCAAGTCGCACAAT-1, AAGCAAGTCTAAGTCA-1, AAGCATGAGTCTATGA-1, AAGCCACGTCATCCTG-1, AAGCCACGTGATTTGG-1, AAGCCACGTTACATCC-1, AAGCCACGTTGAGGTC-1, AAGCCTCCATGTTGGC-1, AAGCCTTAGGGTGAGT-1, AAGCCTTAGTGCACGC-1, AAGCGAGGTACAATGT-1, AAGCGAGGTGATTTGG-1, AAGCGCTGTCAAACTG-1, AAGCGCTGTTTATGGG-1, AAGCGGGTCGCTCCAT-1, AAGCGGGTCTAATCCT-1, ...]\n",
       "\n",
       "[3233 rows x 0 columns]"
      ]
     },
     "execution_count": 6,
     "metadata": {},
     "output_type": "execute_result"
    }
   ],
   "source": [
    "#were not doing anything if you do what you are doing \n",
    "#multi-view\n",
    "#from nothing algorithm in python to do something cool - solve original problem - dont use matrix factorization\n",
    "\n",
    "mdata."
   ]
  },
  {
   "cell_type": "code",
   "execution_count": 2,
   "id": "6e0d4cb1",
   "metadata": {},
   "outputs": [
    {
     "name": "stdout",
     "output_type": "stream",
     "text": [
      "Collecting mudatasets\n",
      "  Downloading mudatasets-0.0.2-py3-none-any.whl (12 kB)\n",
      "Requirement already satisfied: mudata in /home/awahab/anaconda3/envs/shit/lib/python3.10/site-packages (from mudatasets) (0.2.3)\n",
      "Requirement already satisfied: tqdm in /home/awahab/anaconda3/envs/shit/lib/python3.10/site-packages (from mudatasets) (4.65.0)\n",
      "Requirement already satisfied: requests in /home/awahab/anaconda3/envs/shit/lib/python3.10/site-packages (from mudatasets) (2.31.0)\n",
      "Requirement already satisfied: muon in /home/awahab/anaconda3/envs/shit/lib/python3.10/site-packages (from mudatasets) (0.1.5)\n",
      "Requirement already satisfied: numpy in /home/awahab/anaconda3/envs/shit/lib/python3.10/site-packages (from mudata->mudatasets) (1.23.5)\n",
      "Requirement already satisfied: pandas in /home/awahab/anaconda3/envs/shit/lib/python3.10/site-packages (from mudata->mudatasets) (1.5.3)\n",
      "Requirement already satisfied: h5py in /home/awahab/anaconda3/envs/shit/lib/python3.10/site-packages (from mudata->mudatasets) (3.9.0)\n",
      "Requirement already satisfied: anndata>=0.8 in /home/awahab/anaconda3/envs/shit/lib/python3.10/site-packages (from mudata->mudatasets) (0.9.2)\n",
      "Requirement already satisfied: matplotlib in /home/awahab/anaconda3/envs/shit/lib/python3.10/site-packages (from muon->mudatasets) (3.7.2)\n",
      "Requirement already satisfied: seaborn in /home/awahab/anaconda3/envs/shit/lib/python3.10/site-packages (from muon->mudatasets) (0.11.2)\n",
      "Requirement already satisfied: scanpy in /home/awahab/anaconda3/envs/shit/lib/python3.10/site-packages (from muon->mudatasets) (1.9.3)\n",
      "Requirement already satisfied: scikit-learn in /home/awahab/anaconda3/envs/shit/lib/python3.10/site-packages (from muon->mudatasets) (1.3.0)\n",
      "Requirement already satisfied: umap-learn in /home/awahab/anaconda3/envs/shit/lib/python3.10/site-packages (from muon->mudatasets) (0.5.3)\n",
      "Requirement already satisfied: numba in /home/awahab/anaconda3/envs/shit/lib/python3.10/site-packages (from muon->mudatasets) (0.57.1)\n",
      "Requirement already satisfied: protobuf in /home/awahab/anaconda3/envs/shit/lib/python3.10/site-packages (from muon->mudatasets) (3.19.6)\n",
      "Requirement already satisfied: charset-normalizer<4,>=2 in /home/awahab/anaconda3/envs/shit/lib/python3.10/site-packages (from requests->mudatasets) (3.1.0)\n",
      "Requirement already satisfied: idna<4,>=2.5 in /home/awahab/anaconda3/envs/shit/lib/python3.10/site-packages (from requests->mudatasets) (3.4)\n",
      "Requirement already satisfied: urllib3<3,>=1.21.1 in /home/awahab/anaconda3/envs/shit/lib/python3.10/site-packages (from requests->mudatasets) (1.26.16)\n",
      "Requirement already satisfied: certifi>=2017.4.17 in /home/awahab/anaconda3/envs/shit/lib/python3.10/site-packages (from requests->mudatasets) (2023.7.22)\n",
      "Requirement already satisfied: scipy>1.4 in /home/awahab/anaconda3/envs/shit/lib/python3.10/site-packages (from anndata>=0.8->mudata->mudatasets) (1.11.1)\n",
      "Requirement already satisfied: natsort in /home/awahab/anaconda3/envs/shit/lib/python3.10/site-packages (from anndata>=0.8->mudata->mudatasets) (8.4.0)\n",
      "Requirement already satisfied: packaging>=20 in /home/awahab/anaconda3/envs/shit/lib/python3.10/site-packages (from anndata>=0.8->mudata->mudatasets) (23.1)\n",
      "Requirement already satisfied: python-dateutil>=2.8.1 in /home/awahab/anaconda3/envs/shit/lib/python3.10/site-packages (from pandas->mudata->mudatasets) (2.8.2)\n",
      "Requirement already satisfied: pytz>=2020.1 in /home/awahab/anaconda3/envs/shit/lib/python3.10/site-packages (from pandas->mudata->mudatasets) (2022.7)\n",
      "Requirement already satisfied: contourpy>=1.0.1 in /home/awahab/anaconda3/envs/shit/lib/python3.10/site-packages (from matplotlib->muon->mudatasets) (1.1.0)\n",
      "Requirement already satisfied: cycler>=0.10 in /home/awahab/anaconda3/envs/shit/lib/python3.10/site-packages (from matplotlib->muon->mudatasets) (0.11.0)\n",
      "Requirement already satisfied: fonttools>=4.22.0 in /home/awahab/anaconda3/envs/shit/lib/python3.10/site-packages (from matplotlib->muon->mudatasets) (4.42.0)\n",
      "Requirement already satisfied: kiwisolver>=1.0.1 in /home/awahab/anaconda3/envs/shit/lib/python3.10/site-packages (from matplotlib->muon->mudatasets) (1.4.4)\n",
      "Requirement already satisfied: pillow>=6.2.0 in /home/awahab/anaconda3/envs/shit/lib/python3.10/site-packages (from matplotlib->muon->mudatasets) (9.3.0)\n",
      "Requirement already satisfied: pyparsing<3.1,>=2.3.1 in /home/awahab/anaconda3/envs/shit/lib/python3.10/site-packages (from matplotlib->muon->mudatasets) (3.0.9)\n",
      "Requirement already satisfied: llvmlite<0.41,>=0.40.0dev0 in /home/awahab/anaconda3/envs/shit/lib/python3.10/site-packages (from numba->muon->mudatasets) (0.40.1)\n",
      "Requirement already satisfied: statsmodels>=0.10.0rc2 in /home/awahab/anaconda3/envs/shit/lib/python3.10/site-packages (from scanpy->muon->mudatasets) (0.14.0)\n",
      "Requirement already satisfied: patsy in /home/awahab/anaconda3/envs/shit/lib/python3.10/site-packages (from scanpy->muon->mudatasets) (0.5.3)\n",
      "Requirement already satisfied: networkx>=2.3 in /home/awahab/anaconda3/envs/shit/lib/python3.10/site-packages (from scanpy->muon->mudatasets) (3.0)\n",
      "Requirement already satisfied: joblib in /home/awahab/anaconda3/envs/shit/lib/python3.10/site-packages (from scanpy->muon->mudatasets) (1.3.1)\n",
      "Requirement already satisfied: session-info in /home/awahab/anaconda3/envs/shit/lib/python3.10/site-packages (from scanpy->muon->mudatasets) (1.0.0)\n",
      "Requirement already satisfied: threadpoolctl>=2.0.0 in /home/awahab/anaconda3/envs/shit/lib/python3.10/site-packages (from scikit-learn->muon->mudatasets) (3.2.0)\n",
      "Requirement already satisfied: pynndescent>=0.5 in /home/awahab/anaconda3/envs/shit/lib/python3.10/site-packages (from umap-learn->muon->mudatasets) (0.5.10)\n",
      "Requirement already satisfied: six>=1.5 in /home/awahab/anaconda3/envs/shit/lib/python3.10/site-packages (from python-dateutil>=2.8.1->pandas->mudata->mudatasets) (1.16.0)\n",
      "Requirement already satisfied: stdlib-list in /home/awahab/anaconda3/envs/shit/lib/python3.10/site-packages (from session-info->scanpy->muon->mudatasets) (0.9.0)\n",
      "Installing collected packages: mudatasets\n",
      "Successfully installed mudatasets-0.0.2\n"
     ]
    }
   ],
   "source": [
    "!pip install mudatasets"
   ]
  },
  {
   "cell_type": "code",
   "execution_count": null,
   "id": "7ccafd7c",
   "metadata": {},
   "outputs": [],
   "source": []
  }
 ],
 "metadata": {
  "kernelspec": {
   "display_name": "Python 3 (ipykernel)",
   "language": "python",
   "name": "python3"
  },
  "language_info": {
   "codemirror_mode": {
    "name": "ipython",
    "version": 3
   },
   "file_extension": ".py",
   "mimetype": "text/x-python",
   "name": "python",
   "nbconvert_exporter": "python",
   "pygments_lexer": "ipython3",
   "version": "3.10.12"
  }
 },
 "nbformat": 4,
 "nbformat_minor": 5
}
