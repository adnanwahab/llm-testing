{
 "cells": [
  {
   "cell_type": "code",
   "execution_count": 1,
   "id": "d2177abb",
   "metadata": {},
   "outputs": [],
   "source": [
    "import scanpy as sc\n",
    "def readFiles():\n",
    "    one ='DatlingerBock2017.h5ad'\n",
    "    adata = sc.read_h5ad('./data_sets/' + one)\n",
    "    return adata  # a point of interest\n",
    "\n",
    "\n",
    "\n",
    "adata = readFiles()\n"
   ]
  },
  {
   "cell_type": "code",
   "execution_count": 2,
   "id": "487ca2ec",
   "metadata": {},
   "outputs": [
    {
     "ename": "AttributeError",
     "evalue": "'numpy.ndarray' object has no attribute 'get'",
     "output_type": "error",
     "traceback": [
      "\u001b[0;31m---------------------------------------------------------------------------\u001b[0m",
      "\u001b[0;31mAttributeError\u001b[0m                            Traceback (most recent call last)",
      "Cell \u001b[0;32mIn[2], line 7\u001b[0m\n\u001b[1;32m      5\u001b[0m buckets \u001b[38;5;241m=\u001b[39m []\n\u001b[1;32m      6\u001b[0m \u001b[38;5;28;01mwhile\u001b[39;00m(i \u001b[38;5;241m<\u001b[39m iterations):\n\u001b[0;32m----> 7\u001b[0m     \u001b[43madata\u001b[49m\u001b[38;5;241;43m.\u001b[39;49m\u001b[43mX\u001b[49m\u001b[38;5;241;43m.\u001b[39;49m\u001b[43mA\u001b[49m\u001b[38;5;241;43m.\u001b[39;49m\u001b[43mget\u001b[49m\n",
      "\u001b[0;31mAttributeError\u001b[0m: 'numpy.ndarray' object has no attribute 'get'"
     ]
    }
   ],
   "source": [
    "#use contraint + use constraint solving\n",
    "\n",
    "iterations = 1000\n",
    "i = 0\n",
    "buckets = []\n",
    "\n",
    "\n",
    "\n",
    "\n",
    "\n",
    "\n",
    "\n",
    "\n",
    "\n",
    "\n",
    "\n",
    "\n",
    "\n",
    "\n",
    "\n",
    "\n",
    "\n",
    "\n",
    "\n",
    "\n",
    "\n",
    "\n",
    "\n",
    "\n",
    "\n",
    "\n",
    "\n",
    "\n",
    "\n",
    "\n",
    "\n",
    "\n",
    "\n",
    "\n",
    "    #get 200 element variation of cells\n",
    "    #loop over 5000 cells - get columns which vary in n cells more than 5000\n",
    "    #calculate entropy for 5000x2000 in batches of 500 -> tile it using a map and combine it using matrix multiply\n",
    "    \n",
    "    \n",
    "    \n",
    "    #use a matrix to multiply a 500x200 tile - 10 groups\n",
    "    #then combine those 10 groups into "
   ]
  },
  {
   "cell_type": "code",
   "execution_count": null,
   "id": "2c57676c",
   "metadata": {},
   "outputs": [],
   "source": [
    "\n"
   ]
  },
  {
   "cell_type": "code",
   "execution_count": null,
   "id": "70207dd2",
   "metadata": {},
   "outputs": [],
   "source": [
    "# #if you solve it a different way - it wont finish the stream story\n",
    "# #dont forget it \n",
    "\n",
    "#this may or may not be the right thing to invent\n",
    "#using a store-bought technique like encoders or other DM\n",
    "\n",
    "#sensing \n",
    "\n",
    "# #7:00-10:am until its solved \n",
    "# #solve it from scratch w/o any libraries \n",
    "# #no excesive liquid"
   ]
  }
 ],
 "metadata": {
  "kernelspec": {
   "display_name": "Python 3 (ipykernel)",
   "language": "python",
   "name": "python3"
  },
  "language_info": {
   "codemirror_mode": {
    "name": "ipython",
    "version": 3
   },
   "file_extension": ".py",
   "mimetype": "text/x-python",
   "name": "python",
   "nbconvert_exporter": "python",
   "pygments_lexer": "ipython3",
   "version": "3.10.12"
  }
 },
 "nbformat": 4,
 "nbformat_minor": 5
}
