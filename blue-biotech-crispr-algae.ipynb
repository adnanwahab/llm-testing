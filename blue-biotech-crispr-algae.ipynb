{
 "cells": [
  {
   "cell_type": "code",
   "execution_count": 9,
   "metadata": {},
   "outputs": [
    {
     "ename": "ValueError",
     "evalue": "filedescriptor out of range in select()",
     "output_type": "error",
     "traceback": [
      "\u001b[0;31m---------------------------------------------------------------------------\u001b[0m",
      "\u001b[0;31mValueError\u001b[0m                                Traceback (most recent call last)",
      "Cell \u001b[0;32mIn[9], line 1\u001b[0m\n\u001b[0;32m----> 1\u001b[0m \u001b[43mget_ipython\u001b[49m\u001b[43m(\u001b[49m\u001b[43m)\u001b[49m\u001b[38;5;241;43m.\u001b[39;49m\u001b[43msystem\u001b[49m\u001b[43m(\u001b[49m\u001b[38;5;124;43m'\u001b[39;49m\u001b[38;5;124;43m conda install -c conda-forge pycirclize\u001b[39;49m\u001b[38;5;124;43m'\u001b[39;49m\u001b[43m)\u001b[49m\n",
      "File \u001b[0;32m~/anaconda3/envs/py465/lib/python3.9/site-packages/ipykernel/zmqshell.py:655\u001b[0m, in \u001b[0;36mZMQInteractiveShell.system_piped\u001b[0;34m(self, cmd)\u001b[0m\n\u001b[1;32m    653\u001b[0m         \u001b[38;5;28mself\u001b[39m\u001b[38;5;241m.\u001b[39muser_ns[\u001b[38;5;124m\"\u001b[39m\u001b[38;5;124m_exit_code\u001b[39m\u001b[38;5;124m\"\u001b[39m] \u001b[38;5;241m=\u001b[39m system(cmd)\n\u001b[1;32m    654\u001b[0m \u001b[38;5;28;01melse\u001b[39;00m:\n\u001b[0;32m--> 655\u001b[0m     \u001b[38;5;28mself\u001b[39m\u001b[38;5;241m.\u001b[39muser_ns[\u001b[38;5;124m\"\u001b[39m\u001b[38;5;124m_exit_code\u001b[39m\u001b[38;5;124m\"\u001b[39m] \u001b[38;5;241m=\u001b[39m \u001b[43msystem\u001b[49m\u001b[43m(\u001b[49m\u001b[38;5;28;43mself\u001b[39;49m\u001b[38;5;241;43m.\u001b[39;49m\u001b[43mvar_expand\u001b[49m\u001b[43m(\u001b[49m\u001b[43mcmd\u001b[49m\u001b[43m,\u001b[49m\u001b[43m \u001b[49m\u001b[43mdepth\u001b[49m\u001b[38;5;241;43m=\u001b[39;49m\u001b[38;5;241;43m1\u001b[39;49m\u001b[43m)\u001b[49m\u001b[43m)\u001b[49m\n",
      "File \u001b[0;32m~/anaconda3/envs/py465/lib/python3.9/site-packages/IPython/utils/_process_posix.py:153\u001b[0m, in \u001b[0;36mProcessHandler.system\u001b[0;34m(self, cmd)\u001b[0m\n\u001b[1;32m    149\u001b[0m flush \u001b[38;5;241m=\u001b[39m sys\u001b[38;5;241m.\u001b[39mstdout\u001b[38;5;241m.\u001b[39mflush\n\u001b[1;32m    150\u001b[0m \u001b[38;5;28;01mwhile\u001b[39;00m \u001b[38;5;28;01mTrue\u001b[39;00m:\n\u001b[1;32m    151\u001b[0m     \u001b[38;5;66;03m# res is the index of the pattern that caused the match, so we\u001b[39;00m\n\u001b[1;32m    152\u001b[0m     \u001b[38;5;66;03m# know whether we've finished (if we matched EOF) or not\u001b[39;00m\n\u001b[0;32m--> 153\u001b[0m     res_idx \u001b[38;5;241m=\u001b[39m \u001b[43mchild\u001b[49m\u001b[38;5;241;43m.\u001b[39;49m\u001b[43mexpect_list\u001b[49m\u001b[43m(\u001b[49m\u001b[43mpatterns\u001b[49m\u001b[43m,\u001b[49m\u001b[43m \u001b[49m\u001b[38;5;28;43mself\u001b[39;49m\u001b[38;5;241;43m.\u001b[39;49m\u001b[43mread_timeout\u001b[49m\u001b[43m)\u001b[49m\n\u001b[1;32m    154\u001b[0m     \u001b[38;5;28mprint\u001b[39m(child\u001b[38;5;241m.\u001b[39mbefore[out_size:]\u001b[38;5;241m.\u001b[39mdecode(enc, \u001b[38;5;124m'\u001b[39m\u001b[38;5;124mreplace\u001b[39m\u001b[38;5;124m'\u001b[39m), end\u001b[38;5;241m=\u001b[39m\u001b[38;5;124m'\u001b[39m\u001b[38;5;124m'\u001b[39m)\n\u001b[1;32m    155\u001b[0m     flush()\n",
      "File \u001b[0;32m~/anaconda3/envs/py465/lib/python3.9/site-packages/pexpect/spawnbase.py:372\u001b[0m, in \u001b[0;36mSpawnBase.expect_list\u001b[0;34m(self, pattern_list, timeout, searchwindowsize, async_, **kw)\u001b[0m\n\u001b[1;32m    370\u001b[0m     \u001b[38;5;28;01mreturn\u001b[39;00m expect_async(exp, timeout)\n\u001b[1;32m    371\u001b[0m \u001b[38;5;28;01melse\u001b[39;00m:\n\u001b[0;32m--> 372\u001b[0m     \u001b[38;5;28;01mreturn\u001b[39;00m \u001b[43mexp\u001b[49m\u001b[38;5;241;43m.\u001b[39;49m\u001b[43mexpect_loop\u001b[49m\u001b[43m(\u001b[49m\u001b[43mtimeout\u001b[49m\u001b[43m)\u001b[49m\n",
      "File \u001b[0;32m~/anaconda3/envs/py465/lib/python3.9/site-packages/pexpect/expect.py:169\u001b[0m, in \u001b[0;36mExpecter.expect_loop\u001b[0;34m(self, timeout)\u001b[0m\n\u001b[1;32m    167\u001b[0m     \u001b[38;5;28;01mreturn\u001b[39;00m \u001b[38;5;28mself\u001b[39m\u001b[38;5;241m.\u001b[39mtimeout()\n\u001b[1;32m    168\u001b[0m \u001b[38;5;66;03m# Still have time left, so read more data\u001b[39;00m\n\u001b[0;32m--> 169\u001b[0m incoming \u001b[38;5;241m=\u001b[39m \u001b[43mspawn\u001b[49m\u001b[38;5;241;43m.\u001b[39;49m\u001b[43mread_nonblocking\u001b[49m\u001b[43m(\u001b[49m\u001b[43mspawn\u001b[49m\u001b[38;5;241;43m.\u001b[39;49m\u001b[43mmaxread\u001b[49m\u001b[43m,\u001b[49m\u001b[43m \u001b[49m\u001b[43mtimeout\u001b[49m\u001b[43m)\u001b[49m\n\u001b[1;32m    170\u001b[0m \u001b[38;5;28;01mif\u001b[39;00m \u001b[38;5;28mself\u001b[39m\u001b[38;5;241m.\u001b[39mspawn\u001b[38;5;241m.\u001b[39mdelayafterread \u001b[38;5;129;01mis\u001b[39;00m \u001b[38;5;129;01mnot\u001b[39;00m \u001b[38;5;28;01mNone\u001b[39;00m:\n\u001b[1;32m    171\u001b[0m     time\u001b[38;5;241m.\u001b[39msleep(\u001b[38;5;28mself\u001b[39m\u001b[38;5;241m.\u001b[39mspawn\u001b[38;5;241m.\u001b[39mdelayafterread)\n",
      "File \u001b[0;32m~/anaconda3/envs/py465/lib/python3.9/site-packages/pexpect/pty_spawn.py:458\u001b[0m, in \u001b[0;36mspawn.read_nonblocking\u001b[0;34m(self, size, timeout)\u001b[0m\n\u001b[1;32m    450\u001b[0m         \u001b[38;5;28;01mreturn\u001b[39;00m select_ignore_interrupts([\u001b[38;5;28mself\u001b[39m\u001b[38;5;241m.\u001b[39mchild_fd], [], [], timeout)[\u001b[38;5;241m0\u001b[39m]\n\u001b[1;32m    452\u001b[0m \u001b[38;5;66;03m# If there is data available to read right now, read as much as\u001b[39;00m\n\u001b[1;32m    453\u001b[0m \u001b[38;5;66;03m# we can. We do this to increase performance if there are a lot\u001b[39;00m\n\u001b[1;32m    454\u001b[0m \u001b[38;5;66;03m# of bytes to be read. This also avoids calling isalive() too\u001b[39;00m\n\u001b[1;32m    455\u001b[0m \u001b[38;5;66;03m# often. See also:\u001b[39;00m\n\u001b[1;32m    456\u001b[0m \u001b[38;5;66;03m# * https://github.com/pexpect/pexpect/pull/304\u001b[39;00m\n\u001b[1;32m    457\u001b[0m \u001b[38;5;66;03m# * http://trac.sagemath.org/ticket/10295\u001b[39;00m\n\u001b[0;32m--> 458\u001b[0m \u001b[38;5;28;01mif\u001b[39;00m \u001b[43mselect\u001b[49m\u001b[43m(\u001b[49m\u001b[38;5;241;43m0\u001b[39;49m\u001b[43m)\u001b[49m:\n\u001b[1;32m    459\u001b[0m     \u001b[38;5;28;01mtry\u001b[39;00m:\n\u001b[1;32m    460\u001b[0m         incoming \u001b[38;5;241m=\u001b[39m \u001b[38;5;28msuper\u001b[39m(spawn, \u001b[38;5;28mself\u001b[39m)\u001b[38;5;241m.\u001b[39mread_nonblocking(size)\n",
      "File \u001b[0;32m~/anaconda3/envs/py465/lib/python3.9/site-packages/pexpect/pty_spawn.py:450\u001b[0m, in \u001b[0;36mspawn.read_nonblocking.<locals>.select\u001b[0;34m(timeout)\u001b[0m\n\u001b[1;32m    449\u001b[0m \u001b[38;5;28;01mdef\u001b[39;00m \u001b[38;5;21mselect\u001b[39m(timeout):\n\u001b[0;32m--> 450\u001b[0m     \u001b[38;5;28;01mreturn\u001b[39;00m \u001b[43mselect_ignore_interrupts\u001b[49m\u001b[43m(\u001b[49m\u001b[43m[\u001b[49m\u001b[38;5;28;43mself\u001b[39;49m\u001b[38;5;241;43m.\u001b[39;49m\u001b[43mchild_fd\u001b[49m\u001b[43m]\u001b[49m\u001b[43m,\u001b[49m\u001b[43m \u001b[49m\u001b[43m[\u001b[49m\u001b[43m]\u001b[49m\u001b[43m,\u001b[49m\u001b[43m \u001b[49m\u001b[43m[\u001b[49m\u001b[43m]\u001b[49m\u001b[43m,\u001b[49m\u001b[43m \u001b[49m\u001b[43mtimeout\u001b[49m\u001b[43m)\u001b[49m[\u001b[38;5;241m0\u001b[39m]\n",
      "File \u001b[0;32m~/anaconda3/envs/py465/lib/python3.9/site-packages/pexpect/utils.py:143\u001b[0m, in \u001b[0;36mselect_ignore_interrupts\u001b[0;34m(iwtd, owtd, ewtd, timeout)\u001b[0m\n\u001b[1;32m    141\u001b[0m \u001b[38;5;28;01mwhile\u001b[39;00m \u001b[38;5;28;01mTrue\u001b[39;00m:\n\u001b[1;32m    142\u001b[0m     \u001b[38;5;28;01mtry\u001b[39;00m:\n\u001b[0;32m--> 143\u001b[0m         \u001b[38;5;28;01mreturn\u001b[39;00m \u001b[43mselect\u001b[49m\u001b[38;5;241;43m.\u001b[39;49m\u001b[43mselect\u001b[49m\u001b[43m(\u001b[49m\u001b[43miwtd\u001b[49m\u001b[43m,\u001b[49m\u001b[43m \u001b[49m\u001b[43mowtd\u001b[49m\u001b[43m,\u001b[49m\u001b[43m \u001b[49m\u001b[43mewtd\u001b[49m\u001b[43m,\u001b[49m\u001b[43m \u001b[49m\u001b[43mtimeout\u001b[49m\u001b[43m)\u001b[49m\n\u001b[1;32m    144\u001b[0m     \u001b[38;5;28;01mexcept\u001b[39;00m \u001b[38;5;167;01mInterruptedError\u001b[39;00m:\n\u001b[1;32m    145\u001b[0m         err \u001b[38;5;241m=\u001b[39m sys\u001b[38;5;241m.\u001b[39mexc_info()[\u001b[38;5;241m1\u001b[39m]\n",
      "\u001b[0;31mValueError\u001b[0m: filedescriptor out of range in select()"
     ]
    }
   ],
   "source": [
    "\n"
   ]
  },
  {
   "cell_type": "code",
   "execution_count": null,
   "metadata": {},
   "outputs": [],
   "source": [
    "from pycirclize import Circos\n",
    "from pycirclize.utils import fetch_genbank_by_accid\n",
    "from pycirclize.parser import Genbank\n",
    "\n",
    "# Download `NC_002483` E.coli plasmid genbank\n",
    "gbk_fetch_data = fetch_genbank_by_accid(\"NC_002483\")\n",
    "gbk = Genbank(gbk_fetch_data)\n",
    "\n",
    "# Initialize Circos instance with genome size\n",
    "circos = Circos(sectors={gbk.name: gbk.range_size})\n",
    "circos.text(f\"Escherichia coli K-12 plasmid F\\n\\n{gbk.name}\", size=14)\n",
    "circos.rect(r_lim=(90, 100), fc=\"lightgrey\", ec=\"none\", alpha=0.5)\n",
    "sector = circos.sectors[0]\n",
    "\n",
    "# Plot forward strand CDS\n",
    "f_cds_track = sector.add_track((95, 100))\n",
    "f_cds_feats = gbk.extract_features(\"CDS\", target_strand=1)\n",
    "f_cds_track.genomic_features(f_cds_feats, plotstyle=\"arrow\", fc=\"salmon\", lw=0.5)\n",
    "\n",
    "# Plot reverse strand CDS\n",
    "r_cds_track = sector.add_track((90, 95))\n",
    "r_cds_feats = gbk.extract_features(\"CDS\", target_strand=-1)\n",
    "r_cds_track.genomic_features(r_cds_feats, plotstyle=\"arrow\", fc=\"skyblue\", lw=0.5)\n",
    "\n",
    "# Plot 'gene' qualifier label if exists\n",
    "labels, label_pos_list = [], []\n",
    "for feat in gbk.extract_features(\"CDS\"):\n",
    "    start = int(str(feat.location.start))\n",
    "    end = int(str(feat.location.end))\n",
    "    label_pos = (start + end) / 2\n",
    "    gene_name = feat.qualifiers.get(\"gene\", [None])[0]\n",
    "    if gene_name is not None:\n",
    "        labels.append(gene_name)\n",
    "        label_pos_list.append(label_pos)\n",
    "f_cds_track.xticks(label_pos_list, labels, label_size=6, label_orientation=\"vertical\")\n",
    "\n",
    "# Plot xticks (interval = 10 Kb)\n",
    "r_cds_track.xticks_by_interval(\n",
    "    10000, outer=False, label_formatter=lambda v: f\"{v/1000:.1f} Kb\"\n",
    ")\n",
    "\n",
    "circos.savefig(\"example02.png\")"
   ]
  },
  {
   "cell_type": "code",
   "execution_count": 1,
   "metadata": {},
   "outputs": [],
   "source": [
    "import time\n",
    "import ncbi.datasets.openapi\n",
    "from pprint import pprint\n",
    "from ncbi.datasets.openapi.api import gene_api\n",
    "from ncbi.datasets.openapi.model.rpc_status import RpcStatus\n",
    "from ncbi.datasets.openapi.model.v1_download_summary import V1DownloadSummary\n",
    "from ncbi.datasets.openapi.model.v1_fasta import V1Fasta\n",
    "from ncbi.datasets.openapi.model.v1_gene_dataset_request import V1GeneDatasetRequest\n",
    "from ncbi.datasets.openapi.model.v1_gene_dataset_request_content_type import V1GeneDatasetRequestContentType\n",
    "from ncbi.datasets.openapi.model.v1_gene_dataset_request_sort_field import V1GeneDatasetRequestSortField\n",
    "from ncbi.datasets.openapi.model.v1_gene_match import V1GeneMatch\n",
    "from ncbi.datasets.openapi.model.v1_gene_metadata import V1GeneMetadata\n",
    "from ncbi.datasets.openapi.model.v1_organism import V1Organism\n",
    "from ncbi.datasets.openapi.model.v1_organism_query_request_tax_rank_filter import V1OrganismQueryRequestTaxRankFilter\n",
    "from ncbi.datasets.openapi.model.v1_ortholog_request_content_type import V1OrthologRequestContentType\n",
    "from ncbi.datasets.openapi.model.v1_ortholog_set import V1OrthologSet\n",
    "from ncbi.datasets.openapi.model.v1_sci_name_and_ids import V1SciNameAndIds\n",
    "from ncbi.datasets.openapi.model.v1_sort_direction import V1SortDirection\n",
    "# Defining the host is optional and defaults to https://api.ncbi.nlm.nih.gov/datasets/v1\n",
    "# See configuration.py for a list of all supported configuration parameters.\n",
    "configuration = ncbi.datasets.openapi.Configuration(\n",
    "    host = \"https://api.ncbi.nlm.nih.gov/datasets/v1\"\n",
    ")\n",
    "\n",
    "# The client must configure the authentication and authorization parameters\n",
    "# in accordance with the API server security policy.\n",
    "# Examples for each auth method are provided below, use the example that\n",
    "# satisfies your auth use case.\n",
    "\n",
    "# Configure API key authorization: ApiKeyAuthHeader\n",
    "configuration.api_key['ApiKeyAuthHeader'] = '211dd1b92cbb746f313aff6e2956a6f90a09'\n",
    "\n",
    "# Uncomment below to setup prefix (e.g. Bearer) for API key, if needed\n",
    "# configuration.api_key_prefix['ApiKeyAuthHeader'] = 'Bearer'\n",
    "\n",
    "def download(geneId):\n",
    "    # Enter a context with an instance of the API client\n",
    "    with ncbi.datasets.openapi.ApiClient(configuration) as api_client:\n",
    "        # Create an instance of the API class\n",
    "        api_instance = gene_api.GeneApi(api_client)\n",
    "        gene_ids = geneId # [int] | NCBI gene ids\n",
    "        include_annotation_type = [V1Fasta(\"FASTA_UNSPECIFIED\")] # [V1Fasta] | Select additional types of annotation to include in the data package.  If unset, no annotation is provided. (optional)\n",
    "        fasta_filter = [\"fasta_filter_example\",] # [str] | Limit the FASTA sequences in the datasets package to these transcript and protein accessions (optional)\n",
    "        filename = \"ncbi_dataset.zip\" # str | Output file name. (optional) (default to \"ncbi_dataset.zip\")\n",
    "\n",
    "        api_response =  api_instance.download_gene_package(gene_ids, include_annotation_type=include_annotation_type, fasta_filter=fasta_filter, filename=filename)\n",
    "        print(api_response)\n",
    "        return api_response"
   ]
  },
  {
   "cell_type": "code",
   "execution_count": 2,
   "metadata": {},
   "outputs": [
    {
     "data": {
      "text/plain": [
       "'AACCTGAAAGACAAGGCCGACGCAGCATGGAGCCGAGACCCCGCGTGGAGAGCTCCGGCGCGCTCAACGACGTGTACGTGAAAAGCCAGGAGCACCTGCTCAGGCCGACGTCCGAGAACCCGCTGCCGACCTCCGTCCCACCGCCCTCGGCCGGGATGGCAGGCCTGATCGGCGTGCGCCATGTTCTCATCGTGATTGGTCTGCCGGAGCGCGGCAAGTGCTTCATCGCACAGCGTCTCTCAAAGTACCTCTACTTTTTCCACGGCGCAGAGGTCAAGCTCTTTGACGTCGCAGAGTACATGGGCTGCCAGCCCGTCGACATTGGCCACGCGGCGCAACCGCAGGACGAGTGTCGCATCGAGGCGTCGGCCAACACGCTCACGCGCGACCTCAAGCTCTTCCTCAACTCGTCGGGCGAGGCGGCGAGGCGGGCGGGCGGGAACATGACGGTGCCGGTGCCGCGGAACTGCCAGACCGCGCAGGCGCGCGCCGCCGAGCGGGCGATGGCGGCGGCGCGCGAGGAGATCCAGAACACCGAGCAGCACCTCTTGGTGGACGAGGCGGACCGGCGGCGCAAGAATGTCGACTCGGGCAAGGTGGCCATCATCTTCACGTCAGACGGGATGGGTAGCTTCTACGAGAAGTGGGCGTGCACCTCCAAGGAGCGGCGGCGCTGGGCGGCCGAGACCATCCAGTCAGACAAGCGCCTCGGTGCCAAGGTGATCTTCATCGAGGTGATAGTCAACTCGGCAAAGCTCATGGAGCAAAACCTGCTGTCCAAGATCCGCCATGAGCGGCGCCTCTCTCGCGGCGCGGAGGCGCGCGACTCGCGCGACTCGCGCCAGTCGCGCGAGGGGGAGGAGAACGCGCGCGGCATCGCCGTGCCCTCCTCGCCCGCCACCCCCGGCAGGCCGACCCGGGCCAGCTCCTCGCGCAATCATGGGTACGGCTCCGGATACGACTGGTCCGCCGCCGCCGCCGAAGCCCTCGAGGAGAGCGACGACATCCCTCCGCGGCTCGTGCGTGAGTTCCACGCGCGGGTGAACCGCTTCGCCCGCGTGTATGTCTCGCTCCAGGAGGACGGCTCCGAGGACGACCTCTCGTACATCAAGCTCATCAACTACGGAGACAAGGTGGTCACCAATAACATGCACGGGTACCTGCGGATGCGGATCGCCCAGTTCCTCACCGTCGTTCACCCGACGCCGCACGTCATCTACCTGACGCGCCACGGCCAGTCCACGTACAATCAGCTCGGCAAGATCGGCGGCAACTCGCCCCTCTCGCCCGCCGGCGAGGAGTACGCGCGCCGGCTCGGCGCGTGGGTGATGCCGTACGTGTGCTACCAGCAGGCTGCCGGCCTCGACTCGCTCACAAAGACGCGCCTGTGGACCTCCTCGCTCCAGCGCACCATCCTCACCGCCCAGCACATCCCACACCCGATCATCAGCGAGGAGGACCTCGGCACTCCGTCCGTGCCGCCCGAACCCGACGCCGACGATGCCCTCGCCAACGGCGACTCGCCGACCCGCTGCAGCGCCGGCCGCAGCAGCGGCTTGCGCGGGACCCCGCCGCGCGCGAACGGGCTCCGAGAGCGGCTGCGCTCGGGCGGCCTCTCCGGCGTCGTCGGCGGCGTCGCGCTCGGAGGGATCGACTTGGACTCGGACCGCGGCGGCGGCGGCGACCGCGACCGCGTGTGGCAGCAGATGGCGCCGCGCGTGTACCGCAACCTCGACGAGATCTTCGCGGGCGAGTGCGAGGGGATGACGTACGAGGAGATCCAGCACAGCTTCCCGTCCGAGGCGAAGATGCGCGCCACCGACAAGATCGGCTTCCGCTACCCGCGCGGCGAGTCGTACCTCGACATCCTCGCGCGGCTCGACCCGCTCGTGCACGAGCTCGAGTCGTACCACGAGCCGCTGGTCATCGTCTCGCACCAGGCCGTGCTGCGGCTGCTTTACTGCTACCTGACCGGGCGGACGCGGGCGCAGGCGCCCAAGCTGTCGATGCCGCTGCACACGGTCATCCGAATCACCTACGACGGCTGGACGCCGCCCACTGAGGAGCGCTTCTACCTCGGGCCGGAGTGCTCACAGACGGACGGGCAGACGCACCTCTGAGAGTGGAGTGGCGTCGCCGCCCCCGACAGAGGCGCACCGGCGAGTACAGGTTGGTCGTGCGGTAGCGAACGTACGTCTACGTGTACTTCTTGAGGGGGAAGTCGAGGTTGATTGAGGCGAGGTCGTTGAGACTTTGGAGAGTGTTGAATG'"
      ]
     },
     "execution_count": 2,
     "metadata": {},
     "output_type": "execute_result"
    }
   ],
   "source": [
    "#https://algae.biocyc.org/\n",
    "fna = './ncbi_dataset/data/rna.fna'\n",
    "from Bio import SeqIO\n",
    "str(next(SeqIO.parse(fna, 'fasta')).seq)"
   ]
  },
  {
   "cell_type": "code",
   "execution_count": 3,
   "metadata": {},
   "outputs": [],
   "source": [
    "\n",
    "lines = []\n",
    "with open('./gene_result.txt') as geneResult:\n",
    "    for line in geneResult:\n",
    "        lines.append(line.split('\\t'))\n",
    "        #geneResult.read().split('\\n')\n",
    "lines = lines[1:]"
   ]
  },
  {
   "cell_type": "code",
   "execution_count": 4,
   "metadata": {},
   "outputs": [],
   "source": [
    "s = str(next(SeqIO.parse(fna, 'fasta')).seq)\n",
    "\n",
    "\n",
    "for i in range(len(s)):\n",
    "    seq = s[i:i+3]"
   ]
  },
  {
   "cell_type": "code",
   "execution_count": 5,
   "metadata": {},
   "outputs": [],
   "source": [
    "s =str(next(SeqIO.parse('./maize.fasta', 'fasta')).seq)\n",
    "\n",
    "lookingForThisGene = s[100:200]\n",
    "\n",
    "\n",
    "def findIndex():\n",
    "    for i in range(len(s)):\n",
    "        s[i] "
   ]
  },
  {
   "cell_type": "code",
   "execution_count": null,
   "metadata": {},
   "outputs": [],
   "source": [
    "import subprocess\n",
    "import math\n",
    "#from StringIO import StringIO\n",
    "def extract_zip(input_zip):\n",
    "    input_zip=ZipFile(input_zip)\n",
    "    return {name: input_zip.read(name) for name in input_zip.namelist()}\n",
    "\n",
    "names = []\n",
    "for l in range(0, math.floor(len(lines) / 10), 10):\n",
    "    print(l)\n",
    "    if Path.exists(f\"./archive/{l}.zip\"): continue\n",
    "    geneId = [(item[2]) for item in lines[l:l+10]]\n",
    "    api_response = download([int(g) for g in geneId])\n",
    "    names.append(api_response)\n",
    "    #runThis = reqiores join ['datasets', 'download', 'gene', 'gene-id', '17252077', '42265561', '54106928', '42265467', '2673707', '857442', '42265564', '54106925', '17286490', '17265309', '--filename', f'{l}.zip']\n",
    "    #subprocess.run(runThis)\n",
    "    #print(extract_zip('human-reference.zip'))"
   ]
  },
  {
   "cell_type": "code",
   "execution_count": null,
   "metadata": {},
   "outputs": [],
   "source": [
    "#https://www.ncbi.nlm.nih.gov/pmc/articles/PMC7698662/\n",
    "def _():\n",
    "    return 1\n",
    "# dont lose momentum\n",
    "# create momentum\n",
    "# ignore everything - just type."
   ]
  },
  {
   "cell_type": "code",
   "execution_count": null,
   "metadata": {},
   "outputs": [],
   "source": [
    "from pathlib import Path\n",
    "\n",
    "path_exists = Path.exists(\"home/dir/file.txt\")"
   ]
  },
  {
   "cell_type": "code",
   "execution_count": null,
   "metadata": {},
   "outputs": [],
   "source": [
    "import zipfile\n",
    "\n",
    "with zipfile.ZipFile(names[3]) as zipf:\n",
    "    # List the names of the files in the ZIP\n",
    "    filenames = zipf.namelist()\n",
    "\n",
    "    for name in filenames:\n",
    "        # Extract each file\n",
    "        file_data = zipf.read(name)\n",
    "\n",
    "        # Do something with the extracted file data\n",
    "        print(f\"Contents of {name}:\")\n",
    "        print(file_data.decode('utf-8'))  "
   ]
  },
  {
   "cell_type": "code",
   "execution_count": null,
   "metadata": {},
   "outputs": [],
   "source": [
    "names\n",
    "\n",
    "from zipfile import ZipFile\n",
    "\n",
    "with ZipFile('filename.zip', 'r') as f:\n",
    "    f.extractall()"
   ]
  },
  {
   "cell_type": "code",
   "execution_count": null,
   "metadata": {},
   "outputs": [],
   "source": [
    "names[0].read()"
   ]
  },
  {
   "cell_type": "code",
   "execution_count": null,
   "metadata": {},
   "outputs": [],
   "source": [
    "from Bio import SeqIO\n",
    "from orffinder import orffinder\n",
    "\n",
    "sequences = SeqIO.parse(\"maize.fasta\", \"fasta\")"
   ]
  },
  {
   "cell_type": "code",
   "execution_count": null,
   "metadata": {},
   "outputs": [],
   "source": [
    "lotsOfLetters = next(sequences)"
   ]
  },
  {
   "cell_type": "code",
   "execution_count": null,
   "metadata": {},
   "outputs": [],
   "source": [
    "z = str(lotsOfLetters.seq)"
   ]
  },
  {
   "cell_type": "code",
   "execution_count": null,
   "metadata": {},
   "outputs": [],
   "source": [
    "openReadingFrame = orffinder.getORFs(next(sequences), minimum_length=75, remove_nested=True)"
   ]
  },
  {
   "cell_type": "code",
   "execution_count": null,
   "metadata": {},
   "outputs": [],
   "source": [
    "#protein interaction network\n",
    "\n",
    "foundGenes = [] #tuple, seqIndex, charIndex\n",
    "\n",
    "\n",
    "\n",
    "# foundGenes = []\n",
    "# for seq in sequences:\n",
    "#     for gene in geneResult:\n",
    "#         for orf in openReadingFrame:\n",
    "# #             start = orf['start']\n",
    "# #             end = orf['end']\n",
    "#             if seq[start:end] === gene:\n",
    "                \n",
    "#             if seq[start:end] === gene: \n",
    "#                 foundGenes.append(o)\n",
    "    "
   ]
  },
  {
   "cell_type": "code",
   "execution_count": null,
   "metadata": {},
   "outputs": [],
   "source": [
    "! git status"
   ]
  },
  {
   "cell_type": "code",
   "execution_count": null,
   "metadata": {},
   "outputs": [],
   "source": []
  }
 ],
 "metadata": {
  "kernelspec": {
   "display_name": "Python 3 (ipykernel)",
   "language": "python",
   "name": "python3"
  },
  "language_info": {
   "codemirror_mode": {
    "name": "ipython",
    "version": 3
   },
   "file_extension": ".py",
   "mimetype": "text/x-python",
   "name": "python",
   "nbconvert_exporter": "python",
   "pygments_lexer": "ipython3",
   "version": "3.9.17"
  }
 },
 "nbformat": 4,
 "nbformat_minor": 2
}
