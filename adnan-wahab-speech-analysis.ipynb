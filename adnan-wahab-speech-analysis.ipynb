{
 "cells": [
  {
   "cell_type": "code",
   "execution_count": 1,
   "id": "86d8b71d",
   "metadata": {},
   "outputs": [],
   "source": [
    "from faster_whisper import WhisperModel\n",
    "\n",
    "model_size = \"large-v2\"\n",
    "\n",
    "# Run on GPU with FP16\n",
    "model = WhisperModel(model_size, device=\"cuda\", compute_type=\"float16\")"
   ]
  },
  {
   "cell_type": "code",
   "execution_count": 2,
   "id": "b5f86d36",
   "metadata": {},
   "outputs": [
    {
     "name": "stdout",
     "output_type": "stream",
     "text": [
      "Detected language 'en' with probability 0.456299\n",
      "[30.00s -> 40.00s]  I'm afraid, short of fire I'm the dark in need of light\n",
      "[40.00s -> 49.00s]  When we touch, you inspire Feel the change in me tonight\n",
      "[49.00s -> 57.00s]  So take me up, take me higher There's a wall not far from here\n",
      "[57.00s -> 67.00s]  We can dive in desire But we can burn in love tonight\n",
      "[67.00s -> 76.00s]  Our hearts are like firestorms But when they strike, we feel the love\n",
      "[76.00s -> 85.00s]  Sparks will fly, they ignite our bones But when they strike, we light up the world\n",
      "[85.00s -> 93.00s]  Our hearts are like firestorms But when they strike, we feel the love\n",
      "[93.00s -> 102.00s]  Sparks will fly, they ignite our bones But when they strike, we light up the world\n",
      "[102.00s -> 107.00s]  We light up the world\n",
      "[115.00s -> 126.00s]  We light up the world\n",
      "[126.00s -> 142.00s]  Firestorm\n",
      "[143.00s -> 152.00s]  I'm for male, you're for white Perfect strangers in the night\n",
      "[152.00s -> 162.00s]  Here we are, come together To the one we'll testify\n",
      "[162.00s -> 171.00s]  Our hearts are like firestorms But when they strike, we feel the love\n",
      "[171.00s -> 181.00s]  Sparks will fly, they ignite our bones But when they strike, we light up the world\n",
      "[181.00s -> 201.00s]  We light up the world\n",
      "[201.00s -> 216.00s]  Firestorm\n"
     ]
    }
   ],
   "source": [
    "\n",
    "\n",
    "# or run on GPU with INT8\n",
    "# model = WhisperModel(model_size, device=\"cuda\", compute_type=\"int8_float16\")\n",
    "# or run on CPU with INT8\n",
    "# model = WhisperModel(model_size, device=\"cpu\", compute_type=\"int8\")\n",
    "file_name = \"Kygo - Firestone ft. Conrad Sewell (Official Video) [9Sc-ir2UwGU].mp3\"\n",
    "segments, info = model.transcribe(file_name , beam_size=5)\n",
    "\n",
    "print(\"Detected language '%s' with probability %f\" % (info.language, info.language_probability))\n",
    "\n",
    "for segment in segments:\n",
    "   print(\"[%.2fs -> %.2fs] %s\" % (segment.start, segment.end, segment.text))"
   ]
  },
  {
   "cell_type": "code",
   "execution_count": 3,
   "id": "80277c58",
   "metadata": {},
   "outputs": [
    {
     "name": "stderr",
     "output_type": "stream",
     "text": [
      "[debug] Encodings: locale UTF-8, fs utf-8, pref UTF-8, out UTF-8 (No ANSI), error UTF-8 (No ANSI), screen UTF-8 (No ANSI)\n",
      "[debug] yt-dlp version stable@2023.07.06 [b532a3481] (pip) API\n",
      "[debug] params: {'format': 'bestaudio/best', 'postprocessors': [{'key': 'FFmpegExtractAudio', 'preferredcodec': 'mp3', 'preferredquality': '192'}], 'verbose': True, 'compat_opts': set()}\n",
      "[debug] Python 3.10.12 (CPython x86_64 64bit) - Linux-5.15.90.1-microsoft-standard-WSL2-x86_64-with-glibc2.35 (OpenSSL 3.0.10 1 Aug 2023, glibc 2.35)\n",
      "[debug] exe versions: ffmpeg 4.4.2 (setts), ffprobe 4.4.2\n",
      "[debug] Optional libraries: Cryptodome-3.18.0, brotli-None, certifi-2023.07.22, mutagen-1.46.0, sqlite3-2.6.0, websockets-11.0.3\n",
      "[debug] Proxy map: {}\n",
      "[debug] Loaded 1855 extractors\n"
     ]
    },
    {
     "name": "stdout",
     "output_type": "stream",
     "text": [
      "[youtube] Extracting URL: https://www.youtube.com/watch?v=9Sc-ir2UwGU&ab_channel=KygoOfficialVEVO\n",
      "[youtube] 9Sc-ir2UwGU: Downloading webpage\n",
      "[youtube] 9Sc-ir2UwGU: Downloading ios player API JSON\n",
      "[youtube] 9Sc-ir2UwGU: Downloading android player API JSON\n",
      "[youtube] 9Sc-ir2UwGU: Downloading m3u8 information\n"
     ]
    },
    {
     "name": "stderr",
     "output_type": "stream",
     "text": [
      "[debug] Sort order given by extractor: quality, res, fps, hdr:12, source, vcodec:vp9.2, channels, acodec, lang, proto\n",
      "[debug] Formats sorted by: hasvid, ie_pref, quality, res, fps, hdr:12(7), source, vcodec:vp9.2(10), channels, acodec, lang, proto, size, br, asr, vext, aext, hasaud, id\n"
     ]
    },
    {
     "name": "stdout",
     "output_type": "stream",
     "text": [
      "[info] 9Sc-ir2UwGU: Downloading 1 format(s): 251\n"
     ]
    },
    {
     "name": "stderr",
     "output_type": "stream",
     "text": [
      "[debug] Invoking http downloader on \"https://rr3---sn-q4flrnss.googlevideo.com/videoplayback?expire=1691216049&ei=UZTNZOXZKLH82_gPgrc9&ip=73.77.43.211&id=o-AJvUGOxq7uLhkzwIJ2tSesrLAPdHNGHLKO4BxsymiiTF&itag=251&source=youtube&requiressl=yes&mh=WZ&mm=31%2C29&mn=sn-q4flrnss%2Csn-q4fl6nss&ms=au%2Crdu&mv=m&mvi=3&pl=16&initcwndbps=1865000&spc=UWF9f1dNT8oDi33Fm3mnZEGyl3eT2R8&vprv=1&svpuc=1&mime=audio%2Fwebm&gir=yes&clen=3758379&dur=222.461&lmt=1655306999953790&mt=1691193934&fvip=2&keepalive=yes&fexp=24007246&beids=24350017&c=ANDROID&txp=4532434&sparams=expire%2Cei%2Cip%2Cid%2Citag%2Csource%2Crequiressl%2Cspc%2Cvprv%2Csvpuc%2Cmime%2Cgir%2Cclen%2Cdur%2Clmt&sig=AOq0QJ8wRgIhANH9gD8qxgmslaWtpwOSvQgpV3cU98jqD9XLd3BzEd8rAiEAtZQJ2OEABZN64zeOH_hPHLBZ3NhJwMEA5WnwohRjjRE%3D&lsparams=mh%2Cmm%2Cmn%2Cms%2Cmv%2Cmvi%2Cpl%2Cinitcwndbps&lsig=AG3C_xAwRgIhAMfmGI2S6j-YVMinUp6uCqBo8RDBEMsMvG50AR3H1ZVGAiEAlaNaVSWhkZebauwRQkYynRNnaZlRvg2UuE_nEK6FY_0%3D\"\n"
     ]
    },
    {
     "name": "stdout",
     "output_type": "stream",
     "text": [
      "[download] Destination: Kygo - Firestone ft. Conrad Sewell (Official Video) [9Sc-ir2UwGU].webm\n",
      "[download] 100% of    3.58MiB in 00:00:00 at 16.55MiB/s  \n"
     ]
    },
    {
     "name": "stderr",
     "output_type": "stream",
     "text": [
      "[debug] ffmpeg command line: ffprobe -show_streams 'file:Kygo - Firestone ft. Conrad Sewell (Official Video) [9Sc-ir2UwGU].webm'\n"
     ]
    },
    {
     "name": "stdout",
     "output_type": "stream",
     "text": [
      "[ExtractAudio] Destination: Kygo - Firestone ft. Conrad Sewell (Official Video) [9Sc-ir2UwGU].mp3\n"
     ]
    },
    {
     "name": "stderr",
     "output_type": "stream",
     "text": [
      "[debug] ffmpeg command line: ffmpeg -y -loglevel repeat+info -i 'file:Kygo - Firestone ft. Conrad Sewell (Official Video) [9Sc-ir2UwGU].webm' -vn -acodec libmp3lame -b:a 192.0k -movflags +faststart 'file:Kygo - Firestone ft. Conrad Sewell (Official Video) [9Sc-ir2UwGU].mp3'\n"
     ]
    },
    {
     "name": "stdout",
     "output_type": "stream",
     "text": [
      "Deleting original file Kygo - Firestone ft. Conrad Sewell (Official Video) [9Sc-ir2UwGU].webm (pass -k to keep)\n",
      "wtfaasdfasdfa 0\n"
     ]
    }
   ],
   "source": [
    "import yt_dlp\n",
    "\n",
    "\n",
    "ydl_opts = {\n",
    "    'format': 'bestaudio/best',\n",
    "    'postprocessors': [{\n",
    "        'key': 'FFmpegExtractAudio',\n",
    "        'preferredcodec': 'mp3',\n",
    "        'preferredquality': '192',\n",
    "    }],\n",
    "        'verbose': True,\n",
    "\n",
    "}\n",
    "\n",
    "\n",
    "fp = 'https://www.youtube.com/watch?v=9Sc-ir2UwGU&ab_channel=KygoOfficialVEVO'\n",
    "with yt_dlp.YoutubeDL(ydl_opts) as ydl:\n",
    "     print('wtfaasdfasdfa',ydl.download([fp]))"
   ]
  },
  {
   "cell_type": "code",
   "execution_count": 9,
   "id": "91b90854",
   "metadata": {},
   "outputs": [
    {
     "ename": "ModuleNotFoundError",
     "evalue": "No module named 'beatnet'",
     "output_type": "error",
     "traceback": [
      "\u001b[0;31m---------------------------------------------------------------------------\u001b[0m",
      "\u001b[0;31mModuleNotFoundError\u001b[0m                       Traceback (most recent call last)",
      "Cell \u001b[0;32mIn[9], line 1\u001b[0m\n\u001b[0;32m----> 1\u001b[0m \u001b[38;5;28;01mimport\u001b[39;00m \u001b[38;5;21;01mbeatnet\u001b[39;00m\n",
      "\u001b[0;31mModuleNotFoundError\u001b[0m: No module named 'beatnet'"
     ]
    }
   ],
   "source": [
    "\n"
   ]
  },
  {
   "cell_type": "code",
   "execution_count": 4,
   "id": "be82ec0f",
   "metadata": {},
   "outputs": [
    {
     "ename": "ImportError",
     "evalue": "cannot import name 'models' from partially initialized module 'madmom' (most likely due to a circular import) (/home/awahab/anaconda3/envs/shit/lib/python3.10/site-packages/madmom/__init__.py)",
     "output_type": "error",
     "traceback": [
      "\u001b[0;31m---------------------------------------------------------------------------\u001b[0m",
      "\u001b[0;31mImportError\u001b[0m                               Traceback (most recent call last)",
      "Cell \u001b[0;32mIn[4], line 1\u001b[0m\n\u001b[0;32m----> 1\u001b[0m \u001b[38;5;28;01mfrom\u001b[39;00m \u001b[38;5;21;01mBeatNet\u001b[39;00m\u001b[38;5;21;01m.\u001b[39;00m\u001b[38;5;21;01mBeatNet\u001b[39;00m \u001b[38;5;28;01mimport\u001b[39;00m BeatNet\n\u001b[1;32m      3\u001b[0m estimator \u001b[38;5;241m=\u001b[39m BeatNet(\u001b[38;5;241m1\u001b[39m, mode\u001b[38;5;241m=\u001b[39m\u001b[38;5;124m'\u001b[39m\u001b[38;5;124mrealtime\u001b[39m\u001b[38;5;124m'\u001b[39m, inference_model\u001b[38;5;241m=\u001b[39m\u001b[38;5;124m'\u001b[39m\u001b[38;5;124mPF\u001b[39m\u001b[38;5;124m'\u001b[39m, plot\u001b[38;5;241m=\u001b[39m[\u001b[38;5;124m'\u001b[39m\u001b[38;5;124mbeat_particles\u001b[39m\u001b[38;5;124m'\u001b[39m], thread\u001b[38;5;241m=\u001b[39m\u001b[38;5;28;01mFalse\u001b[39;00m)\n\u001b[1;32m      5\u001b[0m Output \u001b[38;5;241m=\u001b[39m estimator\u001b[38;5;241m.\u001b[39mprocess(\u001b[38;5;124m\"\u001b[39m\u001b[38;5;124m./\u001b[39m\u001b[38;5;124m\"\u001b[39m)\n",
      "File \u001b[0;32m~/anaconda3/envs/shit/lib/python3.10/site-packages/BeatNet/BeatNet.py:8\u001b[0m\n\u001b[1;32m      6\u001b[0m \u001b[38;5;28;01mimport\u001b[39;00m \u001b[38;5;21;01mtorch\u001b[39;00m\n\u001b[1;32m      7\u001b[0m \u001b[38;5;28;01mimport\u001b[39;00m \u001b[38;5;21;01mnumpy\u001b[39;00m \u001b[38;5;28;01mas\u001b[39;00m \u001b[38;5;21;01mnp\u001b[39;00m\n\u001b[0;32m----> 8\u001b[0m \u001b[38;5;28;01mfrom\u001b[39;00m \u001b[38;5;21;01mmadmom\u001b[39;00m\u001b[38;5;21;01m.\u001b[39;00m\u001b[38;5;21;01mfeatures\u001b[39;00m \u001b[38;5;28;01mimport\u001b[39;00m DBNDownBeatTrackingProcessor\n\u001b[1;32m      9\u001b[0m \u001b[38;5;28;01mfrom\u001b[39;00m \u001b[38;5;21;01mBeatNet\u001b[39;00m\u001b[38;5;21;01m.\u001b[39;00m\u001b[38;5;21;01mparticle_filtering_cascade\u001b[39;00m \u001b[38;5;28;01mimport\u001b[39;00m particle_filter_cascade\n\u001b[1;32m     10\u001b[0m \u001b[38;5;28;01mfrom\u001b[39;00m \u001b[38;5;21;01mBeatNet\u001b[39;00m\u001b[38;5;21;01m.\u001b[39;00m\u001b[38;5;21;01mlog_spect\u001b[39;00m \u001b[38;5;28;01mimport\u001b[39;00m LOG_SPECT\n",
      "File \u001b[0;32m~/anaconda3/envs/shit/lib/python3.10/site-packages/madmom/__init__.py:24\u001b[0m\n\u001b[1;32m     21\u001b[0m \u001b[38;5;28;01mimport\u001b[39;00m \u001b[38;5;21;01mpkg_resources\u001b[39;00m\n\u001b[1;32m     23\u001b[0m \u001b[38;5;66;03m# import all packages\u001b[39;00m\n\u001b[0;32m---> 24\u001b[0m \u001b[38;5;28;01mfrom\u001b[39;00m \u001b[38;5;21;01m.\u001b[39;00m \u001b[38;5;28;01mimport\u001b[39;00m audio, evaluation, features, io, ml, models, processors, utils\n\u001b[1;32m     26\u001b[0m \u001b[38;5;66;03m# define a version variable\u001b[39;00m\n\u001b[1;32m     27\u001b[0m __version__ \u001b[38;5;241m=\u001b[39m pkg_resources\u001b[38;5;241m.\u001b[39mget_distribution(\u001b[38;5;124m\"\u001b[39m\u001b[38;5;124mmadmom\u001b[39m\u001b[38;5;124m\"\u001b[39m)\u001b[38;5;241m.\u001b[39mversion\n",
      "\u001b[0;31mImportError\u001b[0m: cannot import name 'models' from partially initialized module 'madmom' (most likely due to a circular import) (/home/awahab/anaconda3/envs/shit/lib/python3.10/site-packages/madmom/__init__.py)"
     ]
    }
   ],
   "source": [
    "from BeatNet.BeatNet import BeatNet\n",
    "\n",
    "estimator = BeatNet(1, mode='realtime', inference_model='PF', plot=['beat_particles'], thread=False)\n",
    "\n",
    "Output = estimator.process(\"./\")"
   ]
  },
  {
   "cell_type": "code",
   "execution_count": 19,
   "id": "b8e5aecf",
   "metadata": {},
   "outputs": [],
   "source": [
    "from spleeter.separator import Separator\n",
    "\n",
    "# Using embedded configuration.\n",
    "separator = Separator('spleeter:2stems')"
   ]
  },
  {
   "cell_type": "code",
   "execution_count": null,
   "id": "30e8021b",
   "metadata": {},
   "outputs": [],
   "source": [
    "# Use audio loader explicitly for loading audio waveform :\n",
    "from spleeter.audio.adapter import AudioAdapter\n",
    "\n",
    "audio_loader = AudioAdapter.default()\n",
    "sample_rate = 44100\n",
    "waveform, _ = audio_loader.load(file_name, sample_rate=sample_rate)\n",
    "\n",
    "# Perform the separation :\n",
    "prediction = separator.separate(waveform)"
   ]
  },
  {
   "cell_type": "code",
   "execution_count": null,
   "id": "62735cba",
   "metadata": {},
   "outputs": [],
   "source": []
  },
  {
   "cell_type": "code",
   "execution_count": null,
   "id": "c5f9a212",
   "metadata": {},
   "outputs": [],
   "source": []
  }
 ],
 "metadata": {
  "kernelspec": {
   "display_name": "Python 3 (ipykernel)",
   "language": "python",
   "name": "python3"
  },
  "language_info": {
   "codemirror_mode": {
    "name": "ipython",
    "version": 3
   },
   "file_extension": ".py",
   "mimetype": "text/x-python",
   "name": "python",
   "nbconvert_exporter": "python",
   "pygments_lexer": "ipython3",
   "version": "3.10.12"
  }
 },
 "nbformat": 4,
 "nbformat_minor": 5
}
